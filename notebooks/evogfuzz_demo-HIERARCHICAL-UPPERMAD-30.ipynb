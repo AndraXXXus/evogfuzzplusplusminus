{
 "cells": [
  {
   "cell_type": "markdown",
   "metadata": {},
   "source": [
    "# EvoGFuzz: An Evolutionary Approach to Grammar-Based Fuzzing\n",
    "\n",
    "**EvoGFuzz** stands for *evolutionary grammar-based fuzzing*. This approach leverages evolutionary optimization techniques to systematically explore the space of a program's potential inputs, with a particular emphasis on identifying inputs that could lead to exceptional behavior. With a user-defined objective, EvoGFuzz can adapt and refine the input generation strategy over time, making it a powerful tool for uncovering software defects and vulnerabilities.\n",
    "\n",
    "Efficient detection of defects and vulnerabilities hinges on the ability to automatically generate program inputs that are both valid and diverse. One common strategy is to use grammars, which provide structured and syntactically correct inputs. This approach leads to the concept of grammar-based fuzzing, where fuzzing strategies are guided by the rules defined within the grammar.\n",
    "\n",
    "A further enhancement to this concept is probabilistic grammar-based fuzzing, where competing grammar rules are associated with probabilities that guide their application. By carefully assigning and optimizing these probabilities, we gain considerable control over the nature of the generated inputs. This enables us to direct the fuzzing process towards specific areas of interest—for example, those functions that are deemed critical, have a higher propensity for failures, or have undergone recent modifications. \n",
    "\n",
    "In essence, EvoGFuzz represents a potent blend of evolutionary optimization and probabilistic grammar-based fuzzing, poised to reveal hidden defects and vulnerabilities in a targeted and efficient manner."
   ]
  },
  {
   "cell_type": "markdown",
   "metadata": {},
   "source": [
    "## Fuzzing a Program"
   ]
  },
  {
   "cell_type": "markdown",
   "metadata": {},
   "source": [
    "Our program under investigation is `The Calculator`. This program acts as a typical calculator, capable of evaluating not just arithmetic expressions but also trigonometric functions, such as sine, cosine, and tangent. Furthermore, it also supports the calculation of the square root of a given number."
   ]
  },
  {
   "cell_type": "code",
   "execution_count": 1,
   "metadata": {},
   "outputs": [],
   "source": [
    "import math\n",
    "\n",
    "def calculator(inp: str) -> float:\n",
    "    \"\"\"\n",
    "        A simple calculator function that can evaluate arithmetic expressions \n",
    "        and perform basic trigonometric functions and square root calculations.\n",
    "    \"\"\"\n",
    "    return eval(\n",
    "        str(inp), {\"sqrt\": math.sqrt, \"sin\": math.sin, \"cos\": math.cos, \"tan\": math.tan}\n",
    "    )"
   ]
  },
  {
   "cell_type": "markdown",
   "metadata": {},
   "source": [
    "**Side Note:** In the `calculator`, we use Python's `eval` function, which takes a string and evaluates it as a Python expression. We provide a dictionary as the second argument to eval, mapping names to corresponding mathematical functions. This enables us to use the function names directly within the input string. "
   ]
  },
  {
   "cell_type": "code",
   "execution_count": 2,
   "metadata": {},
   "outputs": [
    {
     "name": "stdout",
     "output_type": "stream",
     "text": [
      "0.999993677717667\n"
     ]
    }
   ],
   "source": [
    "# Evaluating the cosine of 2π\n",
    "print(calculator('cos(6*3.141)'))"
   ]
  },
  {
   "cell_type": "code",
   "execution_count": 3,
   "metadata": {},
   "outputs": [
    {
     "name": "stdout",
     "output_type": "stream",
     "text": [
      "6.0\n"
     ]
    }
   ],
   "source": [
    "# Calculating the square root of 36\n",
    "print(calculator('sqrt(6*6)'))"
   ]
  },
  {
   "cell_type": "markdown",
   "metadata": {},
   "source": [
    "Each of these calls to the calculator will evaluate the provided string as a mathematical expression, and print the result."
   ]
  },
  {
   "cell_type": "markdown",
   "metadata": {},
   "source": [
    "Now, to find new defects, we need to introduce an oracle that tells us if the error that is triggered is something we expect or a new/unkonwn defect. The `OracleResult` is an enum with two possible values, `NO_BUG` and `BUG`. `NO_BUG` donates a passing test case and `BUG` a failing one."
   ]
  },
  {
   "cell_type": "markdown",
   "metadata": {},
   "source": [
    "We import the `OracleResult` enumerated type from the `evogfuzz` library. This is used in the oracle function to indicate the outcome of executing the 'calculator' function with a given input."
   ]
  },
  {
   "cell_type": "code",
   "execution_count": 4,
   "metadata": {},
   "outputs": [],
   "source": [
    "from evogfuzz.oracle import OracleResult"
   ]
  },
  {
   "cell_type": "markdown",
   "metadata": {},
   "source": [
    "This is a function called **oracle**, which acts as an intermediary to handle and classify exceptions produced by the calculator function when given a certain input."
   ]
  },
  {
   "cell_type": "code",
   "execution_count": 5,
   "metadata": {},
   "outputs": [],
   "source": [
    "# Make sure you use the OracleResult from the evogfuzz library\n",
    "from evogfuzz.oracle import OracleResult\n",
    "\n",
    "def oracle(inp: str):\n",
    "    \"\"\"\n",
    "    This function serves as an oracle or intermediary that catches and handles exceptions \n",
    "    generated by the 'calculator' function. The oracle function is used in the context of fuzz testing.\n",
    "    It aims to determine whether an input triggers a bug in the 'calculator' function.\n",
    "\n",
    "    Args:\n",
    "        inp (str): The input string to be passed to the 'calculator' function.\n",
    "\n",
    "    Returns:\n",
    "        OracleResult: An enumerated type 'OracleResult' indicating the outcome of the function execution.\n",
    "            - OracleResult.NO_BUG: Returned if the calculator function executes without any exception or only with CalculatorSyntaxError\n",
    "            - OracleResult.BUG: Returned if the calculator function raises a ValueError exception, indicating a potential bug.\n",
    "    \"\"\"\n",
    "    try:\n",
    "        calculator(inp)\n",
    "    except ValueError as e:\n",
    "        return OracleResult.BUG\n",
    "    \n",
    "    return OracleResult.NO_BUG"
   ]
  },
  {
   "cell_type": "markdown",
   "metadata": {},
   "source": [
    "This **oracle** function is used in the context of fuzzing to determine the impact of various inputs on the program under test (in our case the _calculator_). When the calculator function behaves as expected (i.e., no exceptions occur), the **oracle** function returns `OracleResult.NO_BUG`. However, when the `calculator` function raises an unexpected exception, the **oracle** interprets this as a potential bug in the `calculator` and returns `OracleResult.BUG`."
   ]
  },
  {
   "cell_type": "markdown",
   "metadata": {},
   "source": [
    "We can see this in action by testing a few initial inputs:"
   ]
  },
  {
   "cell_type": "code",
   "execution_count": 6,
   "metadata": {},
   "outputs": [
    {
     "name": "stdout",
     "output_type": "stream",
     "text": [
      "sqrt(1)              NO_BUG\n",
      "cos(912)             NO_BUG\n",
      "tan(4)               NO_BUG\n"
     ]
    }
   ],
   "source": [
    "initial_inputs = ['sqrt(1)', 'cos(912)', 'tan(4)']\n",
    "\n",
    "for inp in initial_inputs:\n",
    "    print(inp.ljust(20), oracle(inp))"
   ]
  },
  {
   "cell_type": "markdown",
   "metadata": {},
   "source": [
    "The following code represents a simple context-free grammar for our calculator function. This grammar encompasses all the potential valid inputs to the calculator, which include mathematical expressions involving square roots, trigonometric functions, and integer and decimal numbers:"
   ]
  },
  {
   "cell_type": "code",
   "execution_count": 7,
   "metadata": {},
   "outputs": [],
   "source": [
    "from fuzzingbook.Grammars import Grammar, is_valid_grammar\n",
    "\n",
    "CALCGRAMMAR: Grammar = {\n",
    "    \"<start>\":\n",
    "        [\"<function>(<term>)\"],\n",
    "\n",
    "    \"<function>\":\n",
    "        [\"sqrt\", \"tan\", \"cos\", \"sin\"],\n",
    "    \n",
    "    \"<term>\": [\"-<value>\", \"<value>\"], \n",
    "    \n",
    "    \"<value>\":\n",
    "        [\"<integer>.<integer>\",\n",
    "         \"<integer>\"],\n",
    "\n",
    "    \"<integer>\":\n",
    "        [\"<digit><integer>\", \"<digit>\"],\n",
    "\n",
    "    \"<digit>\":\n",
    "        [\"1\", \"2\", \"3\", \"4\", \"5\", \"6\", \"7\", \"8\", \"9\"]\n",
    "}\n",
    "    \n",
    "grammar_alhazen: Grammar = {\n",
    "    \"<start>\": [\"<arith_expr>\"],\n",
    "    \"<arith_expr>\": [\"<function>(<number>)\"],\n",
    "    \"<function>\": [\"sqrt\", \"sin\", \"cos\", \"tan\"],\n",
    "    \"<number>\": [\"<maybe_minus><onenine><maybe_digits><maybe_frac>\"],\n",
    "    \"<maybe_minus>\": [\"\", \"-\"],\n",
    "    \"<onenine>\": [str(num) for num in range(1, 10)],\n",
    "    \"<digit>\": [str(num) for num in range(0, 10)],\n",
    "    \"<maybe_digits>\": [\"\", \"<digits>\"],\n",
    "    \"<digits>\": [\"<digit>\", \"<digit><digits>\"],\n",
    "    \"<maybe_frac>\": [\"\", \".<digits>\"],\n",
    "}\n",
    "    \n",
    "assert is_valid_grammar(grammar_alhazen)"
   ]
  },
  {
   "cell_type": "markdown",
   "metadata": {},
   "source": [
    "The defined grammar CALCGRAMMAR provides a structured blueprint for creating various inputs for our fuzz testing. Each rule in this grammar reflects a possible valid input that our calculator function can handle. By fuzzing based on this grammar, we can systematically explore the space of valid inputs to the calculator function."
   ]
  },
  {
   "cell_type": "markdown",
   "metadata": {},
   "source": [
    "### Leveraging EvoGFuzz to Unearth New Defects\n",
    "\n",
    "We apply our `EvoGFuzz` class to carry out fuzz testing using evolutionary grammar-based fuzzing. This is aimed at uncovering potential defects in our 'calculator' function.\n",
    "\n",
    "To initialize our EvoGFuzz instance, we require a grammar (in our case, `CALCGRAMMAR`), an oracle function, an initial set of inputs, a fitness function, and the number of iterations to be performed in the fuzzing process.\n",
    "\n",
    "Upon creating the `EvoGFuzz` instance, we can execute the fuzzing process. The `fuzz()` method runs the fuzzing iterations, evolving the inputs based on our fitness function, and returns a collection of inputs that lead to exceptions in the 'calculator' function."
   ]
  },
  {
   "cell_type": "code",
   "execution_count": 8,
   "metadata": {
    "scrolled": true
   },
   "outputs": [
    {
     "name": "stdout",
     "output_type": "stream",
     "text": [
      "1 EvoGFuzz found 236 bug-triggering inputs!\n",
      "2 EvoGFuzz found 249 bug-triggering inputs!\n",
      "3 EvoGFuzz found 260 bug-triggering inputs!\n",
      "4 EvoGFuzz found 228 bug-triggering inputs!\n",
      "5 EvoGFuzz found 295 bug-triggering inputs!\n",
      "6 EvoGFuzz found 283 bug-triggering inputs!\n",
      "7 EvoGFuzz found 209 bug-triggering inputs!\n",
      "8 EvoGFuzz found 297 bug-triggering inputs!\n",
      "9 EvoGFuzz found 281 bug-triggering inputs!\n",
      "10 EvoGFuzz found 333 bug-triggering inputs!\n",
      "11 EvoGFuzz found 224 bug-triggering inputs!\n",
      "12 EvoGFuzz found 216 bug-triggering inputs!\n",
      "13 EvoGFuzz found 295 bug-triggering inputs!\n",
      "14 EvoGFuzz found 244 bug-triggering inputs!\n",
      "15 EvoGFuzz found 171 bug-triggering inputs!\n",
      "16 EvoGFuzz found 250 bug-triggering inputs!\n",
      "17 EvoGFuzz found 297 bug-triggering inputs!\n",
      "18 EvoGFuzz found 344 bug-triggering inputs!\n",
      "19 EvoGFuzz found 286 bug-triggering inputs!\n",
      "20 EvoGFuzz found 243 bug-triggering inputs!\n",
      "21 EvoGFuzz found 326 bug-triggering inputs!\n",
      "22 EvoGFuzz found 222 bug-triggering inputs!\n",
      "23 EvoGFuzz found 204 bug-triggering inputs!\n",
      "24 EvoGFuzz found 305 bug-triggering inputs!\n",
      "25 EvoGFuzz found 204 bug-triggering inputs!\n",
      "26 EvoGFuzz found 283 bug-triggering inputs!\n",
      "27 EvoGFuzz found 247 bug-triggering inputs!\n",
      "28 EvoGFuzz found 368 bug-triggering inputs!\n",
      "29 EvoGFuzz found 253 bug-triggering inputs!\n",
      "30 EvoGFuzz found 305 bug-triggering inputs!\n"
     ]
    },
    {
     "data": {
      "text/plain": [
       "265.26666666666665"
      ]
     },
     "execution_count": 8,
     "metadata": {},
     "output_type": "execute_result"
    }
   ],
   "source": [
    "from evogfuzz.evogfuzz_class import EvoGFuzz\n",
    "from evogfuzz.helper import Tournament_Selection_Mode\n",
    "import statistics\n",
    "\n",
    "levenshtein_list=[]\n",
    "\n",
    "while len(levenshtein_list)!=30:\n",
    "    try:\n",
    "        epp = EvoGFuzz(\n",
    "            grammar=CALCGRAMMAR,\n",
    "            oracle=oracle,\n",
    "            inputs=initial_inputs,\n",
    "            iterations=10,\n",
    "            tournament_selection_mode = Tournament_Selection_Mode.HIERARCHICAL_LEVENSHTEIN\n",
    "        )\n",
    "\n",
    "        found_exception_inputs = epp.fuzz()\n",
    "        \n",
    "        levenshtein_list.append(len(found_exception_inputs))\n",
    "        print(len(levenshtein_list),f\"EvoGFuzz found {len(found_exception_inputs)} bug-triggering inputs!\")\n",
    "    except Exception as eee:\n",
    "        print(eee)\n",
    "statistics.mean(levenshtein_list)"
   ]
  },
  {
   "cell_type": "code",
   "execution_count": 9,
   "metadata": {
    "scrolled": true
   },
   "outputs": [
    {
     "name": "stdout",
     "output_type": "stream",
     "text": [
      "1 EvoGFuzz found 214 bug-triggering inputs!\n",
      "2 EvoGFuzz found 175 bug-triggering inputs!\n",
      "3 EvoGFuzz found 187 bug-triggering inputs!\n",
      "4 EvoGFuzz found 317 bug-triggering inputs!\n",
      "5 EvoGFuzz found 248 bug-triggering inputs!\n",
      "6 EvoGFuzz found 320 bug-triggering inputs!\n",
      "7 EvoGFuzz found 294 bug-triggering inputs!\n",
      "8 EvoGFuzz found 152 bug-triggering inputs!\n",
      "9 EvoGFuzz found 274 bug-triggering inputs!\n",
      "10 EvoGFuzz found 310 bug-triggering inputs!\n",
      "11 EvoGFuzz found 295 bug-triggering inputs!\n",
      "12 EvoGFuzz found 322 bug-triggering inputs!\n",
      "13 EvoGFuzz found 283 bug-triggering inputs!\n",
      "14 EvoGFuzz found 242 bug-triggering inputs!\n",
      "15 EvoGFuzz found 170 bug-triggering inputs!\n",
      "16 EvoGFuzz found 249 bug-triggering inputs!\n",
      "17 EvoGFuzz found 282 bug-triggering inputs!\n",
      "18 EvoGFuzz found 206 bug-triggering inputs!\n",
      "19 EvoGFuzz found 347 bug-triggering inputs!\n",
      "20 EvoGFuzz found 129 bug-triggering inputs!\n",
      "21 EvoGFuzz found 257 bug-triggering inputs!\n",
      "22 EvoGFuzz found 197 bug-triggering inputs!\n",
      "23 EvoGFuzz found 211 bug-triggering inputs!\n",
      "24 EvoGFuzz found 241 bug-triggering inputs!\n",
      "25 EvoGFuzz found 295 bug-triggering inputs!\n",
      "26 EvoGFuzz found 178 bug-triggering inputs!\n",
      "27 EvoGFuzz found 261 bug-triggering inputs!\n",
      "28 EvoGFuzz found 291 bug-triggering inputs!\n",
      "int too large to convert to float\n",
      "29 EvoGFuzz found 241 bug-triggering inputs!\n",
      "30 EvoGFuzz found 277 bug-triggering inputs!\n"
     ]
    },
    {
     "data": {
      "text/plain": [
       "248.83333333333334"
      ]
     },
     "execution_count": 9,
     "metadata": {},
     "output_type": "execute_result"
    }
   ],
   "source": [
    "jaro_list=[]\n",
    "\n",
    "while len(jaro_list)!=30:\n",
    "    try:\n",
    "        epp = EvoGFuzz(\n",
    "            grammar=CALCGRAMMAR,\n",
    "            oracle=oracle,\n",
    "            inputs=initial_inputs,\n",
    "            iterations=10,\n",
    "            tournament_selection_mode = Tournament_Selection_Mode.HIERARCHICAL_JARO\n",
    "        )\n",
    "        found_exception_inputs = epp.fuzz()\n",
    "        jaro_list.append(len(found_exception_inputs))\n",
    "        print(len(jaro_list),f\"EvoGFuzz found {len(found_exception_inputs)} bug-triggering inputs!\")\n",
    "    except Exception as eee:\n",
    "        print(eee)\n",
    "statistics.mean(jaro_list)"
   ]
  },
  {
   "cell_type": "code",
   "execution_count": 10,
   "metadata": {
    "scrolled": true
   },
   "outputs": [
    {
     "name": "stdout",
     "output_type": "stream",
     "text": [
      "1 EvoGFuzz found 266 bug-triggering inputs!\n",
      "2 EvoGFuzz found 275 bug-triggering inputs!\n",
      "3 EvoGFuzz found 242 bug-triggering inputs!\n",
      "4 EvoGFuzz found 227 bug-triggering inputs!\n",
      "5 EvoGFuzz found 314 bug-triggering inputs!\n",
      "6 EvoGFuzz found 241 bug-triggering inputs!\n",
      "7 EvoGFuzz found 240 bug-triggering inputs!\n",
      "8 EvoGFuzz found 203 bug-triggering inputs!\n",
      "9 EvoGFuzz found 116 bug-triggering inputs!\n",
      "10 EvoGFuzz found 204 bug-triggering inputs!\n",
      "11 EvoGFuzz found 339 bug-triggering inputs!\n",
      "12 EvoGFuzz found 237 bug-triggering inputs!\n",
      "13 EvoGFuzz found 117 bug-triggering inputs!\n",
      "14 EvoGFuzz found 237 bug-triggering inputs!\n",
      "15 EvoGFuzz found 214 bug-triggering inputs!\n",
      "16 EvoGFuzz found 287 bug-triggering inputs!\n",
      "17 EvoGFuzz found 208 bug-triggering inputs!\n",
      "18 EvoGFuzz found 257 bug-triggering inputs!\n",
      "19 EvoGFuzz found 202 bug-triggering inputs!\n",
      "20 EvoGFuzz found 141 bug-triggering inputs!\n",
      "21 EvoGFuzz found 268 bug-triggering inputs!\n",
      "22 EvoGFuzz found 166 bug-triggering inputs!\n",
      "23 EvoGFuzz found 203 bug-triggering inputs!\n",
      "24 EvoGFuzz found 223 bug-triggering inputs!\n",
      "25 EvoGFuzz found 196 bug-triggering inputs!\n",
      "26 EvoGFuzz found 260 bug-triggering inputs!\n",
      "27 EvoGFuzz found 267 bug-triggering inputs!\n",
      "28 EvoGFuzz found 200 bug-triggering inputs!\n",
      "29 EvoGFuzz found 241 bug-triggering inputs!\n",
      "30 EvoGFuzz found 230 bug-triggering inputs!\n"
     ]
    },
    {
     "data": {
      "text/plain": [
       "227.36666666666667"
      ]
     },
     "execution_count": 10,
     "metadata": {},
     "output_type": "execute_result"
    }
   ],
   "source": [
    "from evogfuzz.evogfuzz_class import EvoGFuzz\n",
    "from evogfuzz.helper import Tournament_Selection_Mode\n",
    "import statistics\n",
    "\n",
    "cos_list = []\n",
    "while len(cos_list)!=30:\n",
    "    try:\n",
    "        epp = EvoGFuzz(\n",
    "            grammar=CALCGRAMMAR,\n",
    "            oracle=oracle,\n",
    "            inputs=initial_inputs,\n",
    "            iterations=10,\n",
    "            tournament_selection_mode = Tournament_Selection_Mode.HIERARCHICAL_FEATURE_COS\n",
    "        )\n",
    "        found_exception_inputs = epp.fuzz()\n",
    "        \n",
    "        cos_list.append(len(found_exception_inputs))\n",
    "        print(len(cos_list),f\"EvoGFuzz found {len(found_exception_inputs)} bug-triggering inputs!\")\n",
    "    except Exception as eee:\n",
    "        print(eee)\n",
    "statistics.mean(cos_list)"
   ]
  },
  {
   "cell_type": "code",
   "execution_count": 11,
   "metadata": {
    "scrolled": true
   },
   "outputs": [
    {
     "name": "stdout",
     "output_type": "stream",
     "text": [
      "1 EvoGFuzz found 457 bug-triggering inputs!\n",
      "2 EvoGFuzz found 343 bug-triggering inputs!\n",
      "3 EvoGFuzz found 154 bug-triggering inputs!\n",
      "4 EvoGFuzz found 211 bug-triggering inputs!\n",
      "5 EvoGFuzz found 13 bug-triggering inputs!\n",
      "6 EvoGFuzz found 123 bug-triggering inputs!\n",
      "7 EvoGFuzz found 213 bug-triggering inputs!\n",
      "8 EvoGFuzz found 280 bug-triggering inputs!\n",
      "9 EvoGFuzz found 470 bug-triggering inputs!\n",
      "10 EvoGFuzz found 0 bug-triggering inputs!\n",
      "11 EvoGFuzz found 397 bug-triggering inputs!\n",
      "12 EvoGFuzz found 85 bug-triggering inputs!\n",
      "13 EvoGFuzz found 112 bug-triggering inputs!\n",
      "14 EvoGFuzz found 116 bug-triggering inputs!\n",
      "15 EvoGFuzz found 276 bug-triggering inputs!\n",
      "16 EvoGFuzz found 0 bug-triggering inputs!\n",
      "17 EvoGFuzz found 36 bug-triggering inputs!\n",
      "18 EvoGFuzz found 153 bug-triggering inputs!\n",
      "19 EvoGFuzz found 32 bug-triggering inputs!\n",
      "20 EvoGFuzz found 173 bug-triggering inputs!\n",
      "21 EvoGFuzz found 191 bug-triggering inputs!\n",
      "22 EvoGFuzz found 178 bug-triggering inputs!\n",
      "23 EvoGFuzz found 519 bug-triggering inputs!\n",
      "24 EvoGFuzz found 0 bug-triggering inputs!\n",
      "25 EvoGFuzz found 183 bug-triggering inputs!\n",
      "26 EvoGFuzz found 0 bug-triggering inputs!\n",
      "27 EvoGFuzz found 14 bug-triggering inputs!\n",
      "28 EvoGFuzz found 228 bug-triggering inputs!\n",
      "29 EvoGFuzz found 271 bug-triggering inputs!\n",
      "30 EvoGFuzz found 285 bug-triggering inputs!\n"
     ]
    },
    {
     "data": {
      "text/plain": [
       "183.76666666666668"
      ]
     },
     "execution_count": 11,
     "metadata": {},
     "output_type": "execute_result"
    }
   ],
   "source": [
    "normal_list = []\n",
    "while len(normal_list)!=30:\n",
    "    try:\n",
    "        epp = EvoGFuzz(\n",
    "            grammar=CALCGRAMMAR,\n",
    "            oracle=oracle,\n",
    "            inputs=initial_inputs,\n",
    "            iterations=10,\n",
    "        )\n",
    "        found_exception_inputs = epp.fuzz()\n",
    "        \n",
    "        normal_list.append(len(found_exception_inputs))\n",
    "        print(len(normal_list),f\"EvoGFuzz found {len(found_exception_inputs)} bug-triggering inputs!\")\n",
    "    except Exception as eee:\n",
    "        print(eee)\n",
    "statistics.mean(normal_list)"
   ]
  },
  {
   "cell_type": "code",
   "execution_count": 12,
   "metadata": {},
   "outputs": [
    {
     "data": {
      "text/plain": [
       "[236,\n",
       " 249,\n",
       " 260,\n",
       " 228,\n",
       " 295,\n",
       " 283,\n",
       " 209,\n",
       " 297,\n",
       " 281,\n",
       " 333,\n",
       " 224,\n",
       " 216,\n",
       " 295,\n",
       " 244,\n",
       " 171,\n",
       " 250,\n",
       " 297,\n",
       " 344,\n",
       " 286,\n",
       " 243,\n",
       " 326,\n",
       " 222,\n",
       " 204,\n",
       " 305,\n",
       " 204,\n",
       " 283,\n",
       " 247,\n",
       " 368,\n",
       " 253,\n",
       " 305]"
      ]
     },
     "execution_count": 12,
     "metadata": {},
     "output_type": "execute_result"
    }
   ],
   "source": [
    "levenshtein_list"
   ]
  },
  {
   "cell_type": "code",
   "execution_count": 13,
   "metadata": {},
   "outputs": [
    {
     "data": {
      "text/plain": [
       "[214,\n",
       " 175,\n",
       " 187,\n",
       " 317,\n",
       " 248,\n",
       " 320,\n",
       " 294,\n",
       " 152,\n",
       " 274,\n",
       " 310,\n",
       " 295,\n",
       " 322,\n",
       " 283,\n",
       " 242,\n",
       " 170,\n",
       " 249,\n",
       " 282,\n",
       " 206,\n",
       " 347,\n",
       " 129,\n",
       " 257,\n",
       " 197,\n",
       " 211,\n",
       " 241,\n",
       " 295,\n",
       " 178,\n",
       " 261,\n",
       " 291,\n",
       " 241,\n",
       " 277]"
      ]
     },
     "execution_count": 13,
     "metadata": {},
     "output_type": "execute_result"
    }
   ],
   "source": [
    "jaro_list"
   ]
  },
  {
   "cell_type": "code",
   "execution_count": 14,
   "metadata": {},
   "outputs": [
    {
     "data": {
      "text/plain": [
       "[266,\n",
       " 275,\n",
       " 242,\n",
       " 227,\n",
       " 314,\n",
       " 241,\n",
       " 240,\n",
       " 203,\n",
       " 116,\n",
       " 204,\n",
       " 339,\n",
       " 237,\n",
       " 117,\n",
       " 237,\n",
       " 214,\n",
       " 287,\n",
       " 208,\n",
       " 257,\n",
       " 202,\n",
       " 141,\n",
       " 268,\n",
       " 166,\n",
       " 203,\n",
       " 223,\n",
       " 196,\n",
       " 260,\n",
       " 267,\n",
       " 200,\n",
       " 241,\n",
       " 230]"
      ]
     },
     "execution_count": 14,
     "metadata": {},
     "output_type": "execute_result"
    }
   ],
   "source": [
    "cos_list"
   ]
  },
  {
   "cell_type": "code",
   "execution_count": 15,
   "metadata": {},
   "outputs": [
    {
     "data": {
      "text/plain": [
       "[457,\n",
       " 343,\n",
       " 154,\n",
       " 211,\n",
       " 13,\n",
       " 123,\n",
       " 213,\n",
       " 280,\n",
       " 470,\n",
       " 0,\n",
       " 397,\n",
       " 85,\n",
       " 112,\n",
       " 116,\n",
       " 276,\n",
       " 0,\n",
       " 36,\n",
       " 153,\n",
       " 32,\n",
       " 173,\n",
       " 191,\n",
       " 178,\n",
       " 519,\n",
       " 0,\n",
       " 183,\n",
       " 0,\n",
       " 14,\n",
       " 228,\n",
       " 271,\n",
       " 285]"
      ]
     },
     "execution_count": 15,
     "metadata": {},
     "output_type": "execute_result"
    }
   ],
   "source": [
    "normal_list"
   ]
  },
  {
   "cell_type": "code",
   "execution_count": 16,
   "metadata": {},
   "outputs": [
    {
     "name": "stdout",
     "output_type": "stream",
     "text": [
      "levenshtein_list cos_list True 265.26666666666665 227.36666666666667 0.004105053737194172\n",
      "levenshtein_list normal_list True 265.26666666666665 183.76666666666668 0.0012219244183043752\n",
      "jaro_list normal_list True 248.83333333333334 183.76666666666668 0.008773903357445878\n",
      "cos_list levenshtein_list False 227.36666666666667 265.26666666666665 0.004105053737194172\n",
      "normal_list levenshtein_list False 183.76666666666668 265.26666666666665 0.0012219244183043752\n",
      "normal_list jaro_list False 183.76666666666668 248.83333333333334 0.008773903357445878\n"
     ]
    }
   ],
   "source": [
    "from scipy.stats import mannwhitneyu\n",
    "sample_bugcount_list = [levenshtein_list, jaro_list, cos_list, normal_list]\n",
    "names = [\"levenshtein_list\", \"jaro_list\", \"cos_list\", \"normal_list\"]\n",
    "\n",
    "i=0\n",
    "for elem in sample_bugcount_list:\n",
    "    j=0\n",
    "    for elem2 in sample_bugcount_list:\n",
    "        U1, p = mannwhitneyu(elem, elem2, method=\"exact\")\n",
    "        U2 = len(elem)*len(elem2) - U1\n",
    "        #print(names[i],names[j],statistics.mean(elem)>statistics.mean(elem2),statistics.mean(elem),statistics.mean(elem2),p)\n",
    "        if p < 0.05:\n",
    "            print(names[i],names[j],statistics.mean(elem)>statistics.mean(elem2),statistics.mean(elem),statistics.mean(elem2),p)\n",
    "        j+=1\n",
    "    i+=1"
   ]
  },
  {
   "cell_type": "code",
   "execution_count": 18,
   "metadata": {},
   "outputs": [
    {
     "data": {
      "text/plain": [
       "<AxesSubplot: >"
      ]
     },
     "execution_count": 18,
     "metadata": {},
     "output_type": "execute_result"
    },
    {
     "data": {
      "image/png": "[encoded data removed]",
      "text/plain": [
       "<Figure size 640x480 with 1 Axes>"
      ]
     },
     "metadata": {},
     "output_type": "display_data"
    }
   ],
   "source": [
    "import seaborn as sns\n",
    "import pandas as pd\n",
    "sns.boxplot(data =  pd.DataFrame([normal_list, jaro_list, levenshtein_list, cos_list, ],\n",
    "              index =[\"original\", \"jaro\",\"levenshtein\", \"feature_cos\", ]).T, )"
   ]
  },
  {
   "cell_type": "code",
   "execution_count": null,
   "metadata": {},
   "outputs": [],
   "source": [
    "\n",
    "              "
   ]
  },
  {
   "cell_type": "code",
   "execution_count": null,
   "metadata": {},
   "outputs": [],
   "source": []
  }
 ],
 "metadata": {
  "kernelspec": {
   "display_name": "Python 3 (ipykernel)",
   "language": "python",
   "name": "python3"
  },
  "language_info": {
   "codemirror_mode": {
    "name": "ipython",
    "version": 3
   },
   "file_extension": ".py",
   "mimetype": "text/x-python",
   "name": "python",
   "nbconvert_exporter": "python",
   "pygments_lexer": "ipython3",
   "version": "3.10.4"
  }
 },
 "nbformat": 4,
 "nbformat_minor": 1
}
