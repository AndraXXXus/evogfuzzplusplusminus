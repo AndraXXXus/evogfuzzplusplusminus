{
 "cells": [
  {
   "cell_type": "markdown",
   "metadata": {},
   "source": [
    "# EvoGFuzz: An Evolutionary Approach to Grammar-Based Fuzzing\n",
    "\n",
    "**EvoGFuzz** stands for *evolutionary grammar-based fuzzing*. This approach leverages evolutionary optimization techniques to systematically explore the space of a program's potential inputs, with a particular emphasis on identifying inputs that could lead to exceptional behavior. With a user-defined objective, EvoGFuzz can adapt and refine the input generation strategy over time, making it a powerful tool for uncovering software defects and vulnerabilities.\n",
    "\n",
    "Efficient detection of defects and vulnerabilities hinges on the ability to automatically generate program inputs that are both valid and diverse. One common strategy is to use grammars, which provide structured and syntactically correct inputs. This approach leads to the concept of grammar-based fuzzing, where fuzzing strategies are guided by the rules defined within the grammar.\n",
    "\n",
    "A further enhancement to this concept is probabilistic grammar-based fuzzing, where competing grammar rules are associated with probabilities that guide their application. By carefully assigning and optimizing these probabilities, we gain considerable control over the nature of the generated inputs. This enables us to direct the fuzzing process towards specific areas of interest—for example, those functions that are deemed critical, have a higher propensity for failures, or have undergone recent modifications. \n",
    "\n",
    "In essence, EvoGFuzz represents a potent blend of evolutionary optimization and probabilistic grammar-based fuzzing, poised to reveal hidden defects and vulnerabilities in a targeted and efficient manner."
   ]
  },
  {
   "cell_type": "markdown",
   "metadata": {},
   "source": [
    "## Fuzzing a Program"
   ]
  },
  {
   "cell_type": "markdown",
   "metadata": {},
   "source": [
    "Our program under investigation is `The Calculator`. This program acts as a typical calculator, capable of evaluating not just arithmetic expressions but also trigonometric functions, such as sine, cosine, and tangent. Furthermore, it also supports the calculation of the square root of a given number."
   ]
  },
  {
   "cell_type": "code",
   "execution_count": 1,
   "metadata": {},
   "outputs": [],
   "source": [
    "import math\n",
    "\n",
    "def calculator(inp: str) -> float:\n",
    "    \"\"\"\n",
    "        A simple calculator function that can evaluate arithmetic expressions \n",
    "        and perform basic trigonometric functions and square root calculations.\n",
    "    \"\"\"\n",
    "    return eval(\n",
    "        str(inp), {\"sqrt\": math.sqrt, \"sin\": math.sin, \"cos\": math.cos, \"tan\": math.tan}\n",
    "    )"
   ]
  },
  {
   "cell_type": "markdown",
   "metadata": {},
   "source": [
    "**Side Note:** In the `calculator`, we use Python's `eval` function, which takes a string and evaluates it as a Python expression. We provide a dictionary as the second argument to eval, mapping names to corresponding mathematical functions. This enables us to use the function names directly within the input string. "
   ]
  },
  {
   "cell_type": "code",
   "execution_count": 2,
   "metadata": {},
   "outputs": [
    {
     "name": "stdout",
     "output_type": "stream",
     "text": [
      "0.999993677717667\n"
     ]
    }
   ],
   "source": [
    "# Evaluating the cosine of 2π\n",
    "print(calculator('cos(6*3.141)'))"
   ]
  },
  {
   "cell_type": "code",
   "execution_count": 3,
   "metadata": {},
   "outputs": [
    {
     "name": "stdout",
     "output_type": "stream",
     "text": [
      "6.0\n"
     ]
    }
   ],
   "source": [
    "# Calculating the square root of 36\n",
    "print(calculator('sqrt(6*6)'))"
   ]
  },
  {
   "cell_type": "markdown",
   "metadata": {},
   "source": [
    "Each of these calls to the calculator will evaluate the provided string as a mathematical expression, and print the result."
   ]
  },
  {
   "cell_type": "markdown",
   "metadata": {},
   "source": [
    "Now, to find new defects, we need to introduce an oracle that tells us if the error that is triggered is something we expect or a new/unkonwn defect. The `OracleResult` is an enum with two possible values, `NO_BUG` and `BUG`. `NO_BUG` donates a passing test case and `BUG` a failing one."
   ]
  },
  {
   "cell_type": "markdown",
   "metadata": {},
   "source": [
    "We import the `OracleResult` enumerated type from the `evogfuzz` library. This is used in the oracle function to indicate the outcome of executing the 'calculator' function with a given input."
   ]
  },
  {
   "cell_type": "code",
   "execution_count": 4,
   "metadata": {},
   "outputs": [],
   "source": [
    "from evogfuzz.oracle import OracleResult"
   ]
  },
  {
   "cell_type": "markdown",
   "metadata": {},
   "source": [
    "This is a function called **oracle**, which acts as an intermediary to handle and classify exceptions produced by the calculator function when given a certain input."
   ]
  },
  {
   "cell_type": "code",
   "execution_count": 5,
   "metadata": {},
   "outputs": [],
   "source": [
    "# Make sure you use the OracleResult from the evogfuzz library\n",
    "from evogfuzz.oracle import OracleResult\n",
    "\n",
    "def oracle(inp: str):\n",
    "    \"\"\"\n",
    "    This function serves as an oracle or intermediary that catches and handles exceptions \n",
    "    generated by the 'calculator' function. The oracle function is used in the context of fuzz testing.\n",
    "    It aims to determine whether an input triggers a bug in the 'calculator' function.\n",
    "\n",
    "    Args:\n",
    "        inp (str): The input string to be passed to the 'calculator' function.\n",
    "\n",
    "    Returns:\n",
    "        OracleResult: An enumerated type 'OracleResult' indicating the outcome of the function execution.\n",
    "            - OracleResult.NO_BUG: Returned if the calculator function executes without any exception or only with CalculatorSyntaxError\n",
    "            - OracleResult.BUG: Returned if the calculator function raises a ValueError exception, indicating a potential bug.\n",
    "    \"\"\"\n",
    "    try:\n",
    "        calculator(inp)\n",
    "    except ValueError as e:\n",
    "        return OracleResult.BUG\n",
    "    \n",
    "    return OracleResult.NO_BUG"
   ]
  },
  {
   "cell_type": "markdown",
   "metadata": {},
   "source": [
    "This **oracle** function is used in the context of fuzzing to determine the impact of various inputs on the program under test (in our case the _calculator_). When the calculator function behaves as expected (i.e., no exceptions occur), the **oracle** function returns `OracleResult.NO_BUG`. However, when the `calculator` function raises an unexpected exception, the **oracle** interprets this as a potential bug in the `calculator` and returns `OracleResult.BUG`."
   ]
  },
  {
   "cell_type": "markdown",
   "metadata": {},
   "source": [
    "We can see this in action by testing a few initial inputs:"
   ]
  },
  {
   "cell_type": "code",
   "execution_count": 6,
   "metadata": {},
   "outputs": [
    {
     "name": "stdout",
     "output_type": "stream",
     "text": [
      "sqrt(1)              NO_BUG\n",
      "cos(912)             NO_BUG\n",
      "tan(4)               NO_BUG\n"
     ]
    }
   ],
   "source": [
    "initial_inputs = ['sqrt(1)', 'cos(912)', 'tan(4)']\n",
    "\n",
    "for inp in initial_inputs:\n",
    "    print(inp.ljust(20), oracle(inp))"
   ]
  },
  {
   "cell_type": "markdown",
   "metadata": {},
   "source": [
    "The following code represents a simple context-free grammar for our calculator function. This grammar encompasses all the potential valid inputs to the calculator, which include mathematical expressions involving square roots, trigonometric functions, and integer and decimal numbers:"
   ]
  },
  {
   "cell_type": "code",
   "execution_count": 7,
   "metadata": {},
   "outputs": [],
   "source": [
    "from fuzzingbook.Grammars import Grammar, is_valid_grammar\n",
    "\n",
    "CALCGRAMMAR: Grammar = {\n",
    "    \"<start>\":\n",
    "        [\"<function>(<term>)\"],\n",
    "\n",
    "    \"<function>\":\n",
    "        [\"sqrt\", \"tan\", \"cos\", \"sin\"],\n",
    "    \n",
    "    \"<term>\": [\"-<value>\", \"<value>\"], \n",
    "    \n",
    "    \"<value>\":\n",
    "        [\"<integer>.<integer>\",\n",
    "         \"<integer>\"],\n",
    "\n",
    "    \"<integer>\":\n",
    "        [\"<digit><integer>\", \"<digit>\"],\n",
    "\n",
    "    \"<digit>\":\n",
    "        [\"1\", \"2\", \"3\", \"4\", \"5\", \"6\", \"7\", \"8\", \"9\"]\n",
    "}\n",
    "    \n",
    "grammar_alhazen: Grammar = {\n",
    "    \"<start>\": [\"<arith_expr>\"],\n",
    "    \"<arith_expr>\": [\"<function>(<number>)\"],\n",
    "    \"<function>\": [\"sqrt\", \"sin\", \"cos\", \"tan\"],\n",
    "    \"<number>\": [\"<maybe_minus><onenine><maybe_digits><maybe_frac>\"],\n",
    "    \"<maybe_minus>\": [\"\", \"-\"],\n",
    "    \"<onenine>\": [str(num) for num in range(1, 10)],\n",
    "    \"<digit>\": [str(num) for num in range(0, 10)],\n",
    "    \"<maybe_digits>\": [\"\", \"<digits>\"],\n",
    "    \"<digits>\": [\"<digit>\", \"<digit><digits>\"],\n",
    "    \"<maybe_frac>\": [\"\", \".<digits>\"],\n",
    "}\n",
    "    \n",
    "assert is_valid_grammar(grammar_alhazen)"
   ]
  },
  {
   "cell_type": "markdown",
   "metadata": {},
   "source": [
    "The defined grammar CALCGRAMMAR provides a structured blueprint for creating various inputs for our fuzz testing. Each rule in this grammar reflects a possible valid input that our calculator function can handle. By fuzzing based on this grammar, we can systematically explore the space of valid inputs to the calculator function."
   ]
  },
  {
   "cell_type": "markdown",
   "metadata": {},
   "source": [
    "### Leveraging EvoGFuzz to Unearth New Defects\n",
    "\n",
    "We apply our `EvoGFuzz` class to carry out fuzz testing using evolutionary grammar-based fuzzing. This is aimed at uncovering potential defects in our 'calculator' function.\n",
    "\n",
    "To initialize our EvoGFuzz instance, we require a grammar (in our case, `CALCGRAMMAR`), an oracle function, an initial set of inputs, a fitness function, and the number of iterations to be performed in the fuzzing process.\n",
    "\n",
    "Upon creating the `EvoGFuzz` instance, we can execute the fuzzing process. The `fuzz()` method runs the fuzzing iterations, evolving the inputs based on our fitness function, and returns a collection of inputs that lead to exceptions in the 'calculator' function."
   ]
  },
  {
   "cell_type": "code",
   "execution_count": 8,
   "metadata": {
    "scrolled": true
   },
   "outputs": [
    {
     "name": "stdout",
     "output_type": "stream",
     "text": [
      "EvoGFuzz found 240 bug-triggering inputs!\n",
      "EvoGFuzz found 240 bug-triggering inputs!\n",
      "EvoGFuzz found 318 bug-triggering inputs!\n",
      "EvoGFuzz found 279 bug-triggering inputs!\n",
      "EvoGFuzz found 240 bug-triggering inputs!\n",
      "EvoGFuzz found 212 bug-triggering inputs!\n",
      "EvoGFuzz found 267 bug-triggering inputs!\n",
      "EvoGFuzz found 211 bug-triggering inputs!\n",
      "EvoGFuzz found 247 bug-triggering inputs!\n",
      "EvoGFuzz found 241 bug-triggering inputs!\n",
      "EvoGFuzz found 180 bug-triggering inputs!\n",
      "EvoGFuzz found 244 bug-triggering inputs!\n",
      "EvoGFuzz found 84 bug-triggering inputs!\n",
      "EvoGFuzz found 217 bug-triggering inputs!\n",
      "EvoGFuzz found 220 bug-triggering inputs!\n",
      "EvoGFuzz found 199 bug-triggering inputs!\n",
      "EvoGFuzz found 297 bug-triggering inputs!\n",
      "EvoGFuzz found 214 bug-triggering inputs!\n",
      "EvoGFuzz found 302 bug-triggering inputs!\n",
      "EvoGFuzz found 111 bug-triggering inputs!\n",
      "EvoGFuzz found 207 bug-triggering inputs!\n",
      "EvoGFuzz found 341 bug-triggering inputs!\n",
      "EvoGFuzz found 272 bug-triggering inputs!\n",
      "EvoGFuzz found 277 bug-triggering inputs!\n",
      "EvoGFuzz found 101 bug-triggering inputs!\n",
      "EvoGFuzz found 262 bug-triggering inputs!\n",
      "EvoGFuzz found 247 bug-triggering inputs!\n",
      "EvoGFuzz found 275 bug-triggering inputs!\n",
      "EvoGFuzz found 295 bug-triggering inputs!\n",
      "EvoGFuzz found 302 bug-triggering inputs!\n"
     ]
    },
    {
     "data": {
      "text/plain": [
       "238.06666666666666"
      ]
     },
     "execution_count": 8,
     "metadata": {},
     "output_type": "execute_result"
    }
   ],
   "source": [
    "from evogfuzz.evogfuzz_class import EvoGFuzz\n",
    "from evogfuzz.helper import Tournament_Selection_Mode\n",
    "import statistics\n",
    "\n",
    "levenshtein_list=[]\n",
    "\n",
    "while len(levenshtein_list)!=30:\n",
    "    try:\n",
    "        epp = EvoGFuzz(\n",
    "            grammar=CALCGRAMMAR,\n",
    "            oracle=oracle,\n",
    "            inputs=initial_inputs,\n",
    "            iterations=10,\n",
    "            tournament_selection_mode = Tournament_Selection_Mode.HIERARCHICAL_LEVENSHTEIN\n",
    "        )\n",
    "\n",
    "        found_exception_inputs = epp.fuzz()\n",
    "        \n",
    "        levenshtein_list.append(len(found_exception_inputs))\n",
    "        print(len(levenshtein_list),f\"EvoGFuzz found {len(found_exception_inputs)} bug-triggering inputs!\")\n",
    "    except Exception as eee:\n",
    "        print(eee)\n",
    "statistics.mean(levenshtein_list)"
   ]
  },
  {
   "cell_type": "code",
   "execution_count": 11,
   "metadata": {
    "scrolled": true
   },
   "outputs": [
    {
     "name": "stdout",
     "output_type": "stream",
     "text": [
      "1\n",
      "EvoGFuzz found 190 bug-triggering inputs!\n",
      "2\n",
      "EvoGFuzz found 189 bug-triggering inputs!\n",
      "3\n",
      "EvoGFuzz found 271 bug-triggering inputs!\n",
      "4\n",
      "EvoGFuzz found 172 bug-triggering inputs!\n",
      "5\n",
      "EvoGFuzz found 135 bug-triggering inputs!\n",
      "6\n",
      "EvoGFuzz found 215 bug-triggering inputs!\n",
      "7\n",
      "EvoGFuzz found 209 bug-triggering inputs!\n",
      "8\n",
      "EvoGFuzz found 221 bug-triggering inputs!\n",
      "9\n",
      "EvoGFuzz found 294 bug-triggering inputs!\n",
      "10\n",
      "EvoGFuzz found 207 bug-triggering inputs!\n",
      "11\n",
      "EvoGFuzz found 88 bug-triggering inputs!\n",
      "12\n",
      "EvoGFuzz found 257 bug-triggering inputs!\n",
      "13\n",
      "EvoGFuzz found 266 bug-triggering inputs!\n",
      "14\n",
      "EvoGFuzz found 275 bug-triggering inputs!\n",
      "15\n",
      "EvoGFuzz found 190 bug-triggering inputs!\n",
      "16\n",
      "EvoGFuzz found 245 bug-triggering inputs!\n",
      "17\n",
      "EvoGFuzz found 187 bug-triggering inputs!\n",
      "18\n",
      "EvoGFuzz found 224 bug-triggering inputs!\n",
      "19\n",
      "EvoGFuzz found 278 bug-triggering inputs!\n",
      "20\n",
      "EvoGFuzz found 287 bug-triggering inputs!\n",
      "21\n",
      "EvoGFuzz found 274 bug-triggering inputs!\n",
      "22\n",
      "EvoGFuzz found 188 bug-triggering inputs!\n",
      "23\n",
      "EvoGFuzz found 257 bug-triggering inputs!\n",
      "24\n",
      "EvoGFuzz found 198 bug-triggering inputs!\n",
      "25\n",
      "EvoGFuzz found 147 bug-triggering inputs!\n",
      "26\n",
      "EvoGFuzz found 193 bug-triggering inputs!\n",
      "27\n",
      "EvoGFuzz found 135 bug-triggering inputs!\n",
      "28\n",
      "EvoGFuzz found 333 bug-triggering inputs!\n",
      "29\n",
      "EvoGFuzz found 226 bug-triggering inputs!\n",
      "30\n",
      "EvoGFuzz found 127 bug-triggering inputs!\n"
     ]
    },
    {
     "data": {
      "text/plain": [
       "215.93333333333334"
      ]
     },
     "execution_count": 11,
     "metadata": {},
     "output_type": "execute_result"
    }
   ],
   "source": [
    "jaro_list=[]\n",
    "\n",
    "while len(jaro_list)!=30:\n",
    "    try:\n",
    "        epp = EvoGFuzz(\n",
    "            grammar=CALCGRAMMAR,\n",
    "            oracle=oracle,\n",
    "            inputs=initial_inputs,\n",
    "            iterations=10,\n",
    "            tournament_selection_mode = Tournament_Selection_Mode.HIERARCHICAL_JARO\n",
    "        )\n",
    "        found_exception_inputs = epp.fuzz()\n",
    "        jaro_list.append(len(found_exception_inputs))\n",
    "        print(len(jaro_list),f\"EvoGFuzz found {len(found_exception_inputs)} bug-triggering inputs!\")\n",
    "    except Exception as eee:\n",
    "        print(eee)\n",
    "statistics.mean(jaro_list)"
   ]
  },
  {
   "cell_type": "code",
   "execution_count": 9,
   "metadata": {
    "scrolled": true
   },
   "outputs": [
    {
     "name": "stdout",
     "output_type": "stream",
     "text": [
      "1\n",
      "EvoGFuzz found 350 bug-triggering inputs!\n",
      "2\n",
      "EvoGFuzz found 388 bug-triggering inputs!\n",
      "3\n",
      "EvoGFuzz found 225 bug-triggering inputs!\n",
      "4\n",
      "EvoGFuzz found 289 bug-triggering inputs!\n",
      "5\n",
      "EvoGFuzz found 329 bug-triggering inputs!\n",
      "6\n",
      "EvoGFuzz found 225 bug-triggering inputs!\n",
      "7\n",
      "EvoGFuzz found 244 bug-triggering inputs!\n",
      "8\n",
      "EvoGFuzz found 309 bug-triggering inputs!\n",
      "9\n",
      "EvoGFuzz found 299 bug-triggering inputs!\n",
      "10\n",
      "EvoGFuzz found 258 bug-triggering inputs!\n",
      "11\n",
      "EvoGFuzz found 254 bug-triggering inputs!\n",
      "12\n",
      "EvoGFuzz found 342 bug-triggering inputs!\n",
      "13\n",
      "EvoGFuzz found 329 bug-triggering inputs!\n",
      "14\n",
      "EvoGFuzz found 340 bug-triggering inputs!\n",
      "15\n",
      "EvoGFuzz found 336 bug-triggering inputs!\n",
      "16\n",
      "EvoGFuzz found 262 bug-triggering inputs!\n",
      "17\n",
      "EvoGFuzz found 207 bug-triggering inputs!\n",
      "18\n",
      "EvoGFuzz found 279 bug-triggering inputs!\n",
      "19\n",
      "EvoGFuzz found 253 bug-triggering inputs!\n",
      "20\n",
      "EvoGFuzz found 319 bug-triggering inputs!\n",
      "21\n",
      "EvoGFuzz found 335 bug-triggering inputs!\n",
      "22\n",
      "EvoGFuzz found 146 bug-triggering inputs!\n",
      "23\n",
      "EvoGFuzz found 125 bug-triggering inputs!\n",
      "24\n",
      "EvoGFuzz found 192 bug-triggering inputs!\n",
      "25\n",
      "EvoGFuzz found 301 bug-triggering inputs!\n",
      "26\n",
      "EvoGFuzz found 372 bug-triggering inputs!\n",
      "27\n",
      "EvoGFuzz found 218 bug-triggering inputs!\n",
      "28\n",
      "EvoGFuzz found 306 bug-triggering inputs!\n",
      "29\n",
      "EvoGFuzz found 323 bug-triggering inputs!\n",
      "30\n",
      "EvoGFuzz found 317 bug-triggering inputs!\n"
     ]
    },
    {
     "data": {
      "text/plain": [
       "282.4"
      ]
     },
     "execution_count": 9,
     "metadata": {},
     "output_type": "execute_result"
    }
   ],
   "source": [
    "cos_list = []\n",
    "while len(cos_list)!=30:\n",
    "    try:\n",
    "        epp = EvoGFuzz(\n",
    "            grammar=CALCGRAMMAR,\n",
    "            oracle=oracle,\n",
    "            inputs=initial_inputs,\n",
    "            iterations=10,\n",
    "            tournament_selection_mode = Tournament_Selection_Mode.HIERARCHICAL_FEATURE_COS\n",
    "        )\n",
    "        found_exception_inputs = epp.fuzz()\n",
    "        \n",
    "        cos_list.append(len(found_exception_inputs))\n",
    "        print(len(cos_list)f\"EvoGFuzz found {len(found_exception_inputs)} bug-triggering inputs!\")\n",
    "    except Exception as eee:\n",
    "        print(eee)\n",
    "statistics.mean(cos_list)"
   ]
  },
  {
   "cell_type": "code",
   "execution_count": 10,
   "metadata": {
    "scrolled": true
   },
   "outputs": [
    {
     "name": "stdout",
     "output_type": "stream",
     "text": [
      "1\n",
      "EvoGFuzz found 148 bug-triggering inputs!\n",
      "2\n",
      "EvoGFuzz found 241 bug-triggering inputs!\n",
      "3\n",
      "EvoGFuzz found 196 bug-triggering inputs!\n",
      "4\n",
      "EvoGFuzz found 0 bug-triggering inputs!\n",
      "5\n",
      "EvoGFuzz found 258 bug-triggering inputs!\n",
      "6\n",
      "EvoGFuzz found 478 bug-triggering inputs!\n",
      "7\n",
      "EvoGFuzz found 209 bug-triggering inputs!\n",
      "8\n",
      "EvoGFuzz found 290 bug-triggering inputs!\n",
      "9\n",
      "EvoGFuzz found 59 bug-triggering inputs!\n",
      "10\n",
      "EvoGFuzz found 183 bug-triggering inputs!\n",
      "11\n",
      "EvoGFuzz found 206 bug-triggering inputs!\n",
      "12\n",
      "EvoGFuzz found 204 bug-triggering inputs!\n",
      "13\n",
      "EvoGFuzz found 168 bug-triggering inputs!\n",
      "14\n",
      "EvoGFuzz found 0 bug-triggering inputs!\n",
      "15\n",
      "EvoGFuzz found 175 bug-triggering inputs!\n",
      "16\n",
      "EvoGFuzz found 0 bug-triggering inputs!\n",
      "17\n",
      "EvoGFuzz found 152 bug-triggering inputs!\n",
      "18\n",
      "EvoGFuzz found 114 bug-triggering inputs!\n",
      "19\n",
      "EvoGFuzz found 167 bug-triggering inputs!\n",
      "20\n",
      "EvoGFuzz found 279 bug-triggering inputs!\n",
      "21\n",
      "EvoGFuzz found 241 bug-triggering inputs!\n",
      "22\n",
      "EvoGFuzz found 32 bug-triggering inputs!\n",
      "23\n",
      "EvoGFuzz found 111 bug-triggering inputs!\n",
      "24\n",
      "EvoGFuzz found 11 bug-triggering inputs!\n",
      "25\n",
      "EvoGFuzz found 53 bug-triggering inputs!\n",
      "26\n",
      "EvoGFuzz found 185 bug-triggering inputs!\n",
      "27\n",
      "EvoGFuzz found 378 bug-triggering inputs!\n",
      "28\n",
      "EvoGFuzz found 119 bug-triggering inputs!\n",
      "29\n",
      "EvoGFuzz found 327 bug-triggering inputs!\n",
      "30\n",
      "EvoGFuzz found 141 bug-triggering inputs!\n"
     ]
    },
    {
     "data": {
      "text/plain": [
       "170.83333333333334"
      ]
     },
     "execution_count": 10,
     "metadata": {},
     "output_type": "execute_result"
    }
   ],
   "source": [
    "normal_list = []\n",
    "while len(normal_list)!=30:\n",
    "    try:\n",
    "        epp = EvoGFuzz(\n",
    "            grammar=CALCGRAMMAR,\n",
    "            oracle=oracle,\n",
    "            inputs=initial_inputs,\n",
    "            iterations=10,\n",
    "        )\n",
    "        found_exception_inputs = epp.fuzz()\n",
    "        \n",
    "        normal_list.append(len(found_exception_inputs))\n",
    "        print(len(normal_list),f\"EvoGFuzz found {len(found_exception_inputs)} bug-triggering inputs!\")\n",
    "    except Exception as eee:\n",
    "        print(eee)\n",
    "statistics.mean(normal_list)"
   ]
  },
  {
   "cell_type": "code",
   "execution_count": 12,
   "metadata": {},
   "outputs": [
    {
     "data": {
      "text/plain": [
       "[240,\n",
       " 240,\n",
       " 318,\n",
       " 279,\n",
       " 240,\n",
       " 212,\n",
       " 267,\n",
       " 211,\n",
       " 247,\n",
       " 241,\n",
       " 180,\n",
       " 244,\n",
       " 84,\n",
       " 217,\n",
       " 220,\n",
       " 199,\n",
       " 297,\n",
       " 214,\n",
       " 302,\n",
       " 111,\n",
       " 207,\n",
       " 341,\n",
       " 272,\n",
       " 277,\n",
       " 101,\n",
       " 262,\n",
       " 247,\n",
       " 275,\n",
       " 295,\n",
       " 302]"
      ]
     },
     "execution_count": 12,
     "metadata": {},
     "output_type": "execute_result"
    }
   ],
   "source": [
    "levenshtein_list"
   ]
  },
  {
   "cell_type": "code",
   "execution_count": 13,
   "metadata": {},
   "outputs": [
    {
     "data": {
      "text/plain": [
       "[190,\n",
       " 189,\n",
       " 271,\n",
       " 172,\n",
       " 135,\n",
       " 215,\n",
       " 209,\n",
       " 221,\n",
       " 294,\n",
       " 207,\n",
       " 88,\n",
       " 257,\n",
       " 266,\n",
       " 275,\n",
       " 190,\n",
       " 245,\n",
       " 187,\n",
       " 224,\n",
       " 278,\n",
       " 287,\n",
       " 274,\n",
       " 188,\n",
       " 257,\n",
       " 198,\n",
       " 147,\n",
       " 193,\n",
       " 135,\n",
       " 333,\n",
       " 226,\n",
       " 127]"
      ]
     },
     "execution_count": 13,
     "metadata": {},
     "output_type": "execute_result"
    }
   ],
   "source": [
    "jaro_list"
   ]
  },
  {
   "cell_type": "code",
   "execution_count": 14,
   "metadata": {},
   "outputs": [
    {
     "data": {
      "text/plain": [
       "[350,\n",
       " 388,\n",
       " 225,\n",
       " 289,\n",
       " 329,\n",
       " 225,\n",
       " 244,\n",
       " 309,\n",
       " 299,\n",
       " 258,\n",
       " 254,\n",
       " 342,\n",
       " 329,\n",
       " 340,\n",
       " 336,\n",
       " 262,\n",
       " 207,\n",
       " 279,\n",
       " 253,\n",
       " 319,\n",
       " 335,\n",
       " 146,\n",
       " 125,\n",
       " 192,\n",
       " 301,\n",
       " 372,\n",
       " 218,\n",
       " 306,\n",
       " 323,\n",
       " 317]"
      ]
     },
     "execution_count": 14,
     "metadata": {},
     "output_type": "execute_result"
    }
   ],
   "source": [
    "cos_list"
   ]
  },
  {
   "cell_type": "code",
   "execution_count": 15,
   "metadata": {},
   "outputs": [
    {
     "data": {
      "text/plain": [
       "[148,\n",
       " 241,\n",
       " 196,\n",
       " 0,\n",
       " 258,\n",
       " 478,\n",
       " 209,\n",
       " 290,\n",
       " 59,\n",
       " 183,\n",
       " 206,\n",
       " 204,\n",
       " 168,\n",
       " 0,\n",
       " 175,\n",
       " 0,\n",
       " 152,\n",
       " 114,\n",
       " 167,\n",
       " 279,\n",
       " 241,\n",
       " 32,\n",
       " 111,\n",
       " 11,\n",
       " 53,\n",
       " 185,\n",
       " 378,\n",
       " 119,\n",
       " 327,\n",
       " 141]"
      ]
     },
     "execution_count": 15,
     "metadata": {},
     "output_type": "execute_result"
    }
   ],
   "source": [
    "normal_list"
   ]
  },
  {
   "cell_type": "code",
   "execution_count": 17,
   "metadata": {},
   "outputs": [
    {
     "name": "stdout",
     "output_type": "stream",
     "text": [
      "levenshtein_list cos_list False 238.06666666666666 282.4 0.004105053737194172\n",
      "levenshtein_list normal_list True 238.06666666666666 170.83333333333334 0.001443220539875183\n",
      "jaro_list cos_list False 215.93333333333334 282.4 7.215017756201447e-05\n",
      "jaro_list normal_list True 215.93333333333334 170.83333333333334 0.02846603224190847\n",
      "cos_list levenshtein_list True 282.4 238.06666666666666 0.004105053737194172\n",
      "cos_list jaro_list True 282.4 215.93333333333334 7.215017756201447e-05\n",
      "cos_list normal_list True 282.4 170.83333333333334 6.7930920708445525e-06\n",
      "normal_list levenshtein_list False 170.83333333333334 238.06666666666666 0.001443220539875183\n",
      "normal_list jaro_list False 170.83333333333334 215.93333333333334 0.02846603224190847\n",
      "normal_list cos_list False 170.83333333333334 282.4 6.7930920708445525e-06\n"
     ]
    }
   ],
   "source": [
    "from scipy.stats import mannwhitneyu\n",
    "sample_bugcount_list = [levenshtein_list, jaro_list, cos_list, normal_list]\n",
    "names = [\"levenshtein_list\", \"jaro_list\", \"cos_list\", \"normal_list\"]\n",
    "\n",
    "i=0\n",
    "for elem in sample_bugcount_list:\n",
    "    j=0\n",
    "    for elem2 in sample_bugcount_list:\n",
    "        U1, p = mannwhitneyu(elem, elem2, method=\"exact\")\n",
    "        U2 = len(elem)*len(elem2) - U1\n",
    "        #print(names[i],names[j],statistics.mean(elem)>statistics.mean(elem2),statistics.mean(elem),statistics.mean(elem2),p)\n",
    "        if p < 0.05:\n",
    "            print(names[i],names[j],statistics.mean(elem)>statistics.mean(elem2),statistics.mean(elem),statistics.mean(elem2),p)\n",
    "        j+=1\n",
    "    i+=1"
   ]
  },
  {
   "cell_type": "code",
   "execution_count": null,
   "metadata": {},
   "outputs": [],
   "source": []
  }
 ],
 "metadata": {
  "kernelspec": {
   "display_name": "Python 3 (ipykernel)",
   "language": "python",
   "name": "python3"
  },
  "language_info": {
   "codemirror_mode": {
    "name": "ipython",
    "version": 3
   },
   "file_extension": ".py",
   "mimetype": "text/x-python",
   "name": "python",
   "nbconvert_exporter": "python",
   "pygments_lexer": "ipython3",
   "version": "3.10.4"
  }
 },
 "nbformat": 4,
 "nbformat_minor": 1
}
