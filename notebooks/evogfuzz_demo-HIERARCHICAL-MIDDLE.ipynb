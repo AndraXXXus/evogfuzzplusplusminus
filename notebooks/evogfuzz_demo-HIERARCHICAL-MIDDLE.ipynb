{
 "cells": [
  {
   "cell_type": "markdown",
   "metadata": {},
   "source": [
    "# EvoGFuzz: An Evolutionary Approach to Grammar-Based Fuzzing\n",
    "\n",
    "**EvoGFuzz** stands for *evolutionary grammar-based fuzzing*. This approach leverages evolutionary optimization techniques to systematically explore the space of a program's potential inputs, with a particular emphasis on identifying inputs that could lead to exceptional behavior. With a user-defined objective, EvoGFuzz can adapt and refine the input generation strategy over time, making it a powerful tool for uncovering software defects and vulnerabilities.\n",
    "\n",
    "Efficient detection of defects and vulnerabilities hinges on the ability to automatically generate program inputs that are both valid and diverse. One common strategy is to use grammars, which provide structured and syntactically correct inputs. This approach leads to the concept of grammar-based fuzzing, where fuzzing strategies are guided by the rules defined within the grammar.\n",
    "\n",
    "A further enhancement to this concept is probabilistic grammar-based fuzzing, where competing grammar rules are associated with probabilities that guide their application. By carefully assigning and optimizing these probabilities, we gain considerable control over the nature of the generated inputs. This enables us to direct the fuzzing process towards specific areas of interest—for example, those functions that are deemed critical, have a higher propensity for failures, or have undergone recent modifications. \n",
    "\n",
    "In essence, EvoGFuzz represents a potent blend of evolutionary optimization and probabilistic grammar-based fuzzing, poised to reveal hidden defects and vulnerabilities in a targeted and efficient manner."
   ]
  },
  {
   "cell_type": "markdown",
   "metadata": {},
   "source": [
    "## Fuzzing a Program"
   ]
  },
  {
   "cell_type": "markdown",
   "metadata": {},
   "source": [
    "Our program under investigation is `The Calculator`. This program acts as a typical calculator, capable of evaluating not just arithmetic expressions but also trigonometric functions, such as sine, cosine, and tangent. Furthermore, it also supports the calculation of the square root of a given number."
   ]
  },
  {
   "cell_type": "code",
   "execution_count": 1,
   "metadata": {},
   "outputs": [],
   "source": [
    "import math\n",
    "\n",
    "def calculator(inp: str) -> float:\n",
    "    \"\"\"\n",
    "        A simple calculator function that can evaluate arithmetic expressions \n",
    "        and perform basic trigonometric functions and square root calculations.\n",
    "    \"\"\"\n",
    "    return eval(\n",
    "        str(inp), {\"sqrt\": math.sqrt, \"sin\": math.sin, \"cos\": math.cos, \"tan\": math.tan}\n",
    "    )"
   ]
  },
  {
   "cell_type": "markdown",
   "metadata": {},
   "source": [
    "**Side Note:** In the `calculator`, we use Python's `eval` function, which takes a string and evaluates it as a Python expression. We provide a dictionary as the second argument to eval, mapping names to corresponding mathematical functions. This enables us to use the function names directly within the input string. "
   ]
  },
  {
   "cell_type": "code",
   "execution_count": 2,
   "metadata": {},
   "outputs": [
    {
     "name": "stdout",
     "output_type": "stream",
     "text": [
      "0.999993677717667\n"
     ]
    }
   ],
   "source": [
    "# Evaluating the cosine of 2π\n",
    "print(calculator('cos(6*3.141)'))"
   ]
  },
  {
   "cell_type": "code",
   "execution_count": 3,
   "metadata": {},
   "outputs": [
    {
     "name": "stdout",
     "output_type": "stream",
     "text": [
      "6.0\n"
     ]
    }
   ],
   "source": [
    "# Calculating the square root of 36\n",
    "print(calculator('sqrt(6*6)'))"
   ]
  },
  {
   "cell_type": "markdown",
   "metadata": {},
   "source": [
    "Each of these calls to the calculator will evaluate the provided string as a mathematical expression, and print the result."
   ]
  },
  {
   "cell_type": "markdown",
   "metadata": {},
   "source": [
    "Now, to find new defects, we need to introduce an oracle that tells us if the error that is triggered is something we expect or a new/unkonwn defect. The `OracleResult` is an enum with two possible values, `NO_BUG` and `BUG`. `NO_BUG` donates a passing test case and `BUG` a failing one."
   ]
  },
  {
   "cell_type": "markdown",
   "metadata": {},
   "source": [
    "We import the `OracleResult` enumerated type from the `evogfuzz` library. This is used in the oracle function to indicate the outcome of executing the 'calculator' function with a given input."
   ]
  },
  {
   "cell_type": "code",
   "execution_count": 4,
   "metadata": {},
   "outputs": [],
   "source": [
    "from evogfuzz.oracle import OracleResult"
   ]
  },
  {
   "cell_type": "markdown",
   "metadata": {},
   "source": [
    "This is a function called **oracle**, which acts as an intermediary to handle and classify exceptions produced by the calculator function when given a certain input."
   ]
  },
  {
   "cell_type": "code",
   "execution_count": 5,
   "metadata": {},
   "outputs": [],
   "source": [
    "# Make sure you use the OracleResult from the evogfuzz library\n",
    "from evogfuzz.oracle import OracleResult\n",
    "\n",
    "def oracle(inp: str):\n",
    "    \"\"\"\n",
    "    This function serves as an oracle or intermediary that catches and handles exceptions \n",
    "    generated by the 'calculator' function. The oracle function is used in the context of fuzz testing.\n",
    "    It aims to determine whether an input triggers a bug in the 'calculator' function.\n",
    "\n",
    "    Args:\n",
    "        inp (str): The input string to be passed to the 'calculator' function.\n",
    "\n",
    "    Returns:\n",
    "        OracleResult: An enumerated type 'OracleResult' indicating the outcome of the function execution.\n",
    "            - OracleResult.NO_BUG: Returned if the calculator function executes without any exception or only with CalculatorSyntaxError\n",
    "            - OracleResult.BUG: Returned if the calculator function raises a ValueError exception, indicating a potential bug.\n",
    "    \"\"\"\n",
    "    try:\n",
    "        calculator(inp)\n",
    "    except ValueError as e:\n",
    "        return OracleResult.BUG\n",
    "    \n",
    "    return OracleResult.NO_BUG"
   ]
  },
  {
   "cell_type": "markdown",
   "metadata": {},
   "source": [
    "This **oracle** function is used in the context of fuzzing to determine the impact of various inputs on the program under test (in our case the _calculator_). When the calculator function behaves as expected (i.e., no exceptions occur), the **oracle** function returns `OracleResult.NO_BUG`. However, when the `calculator` function raises an unexpected exception, the **oracle** interprets this as a potential bug in the `calculator` and returns `OracleResult.BUG`."
   ]
  },
  {
   "cell_type": "markdown",
   "metadata": {},
   "source": [
    "We can see this in action by testing a few initial inputs:"
   ]
  },
  {
   "cell_type": "code",
   "execution_count": 6,
   "metadata": {},
   "outputs": [
    {
     "name": "stdout",
     "output_type": "stream",
     "text": [
      "sqrt(1)              NO_BUG\n",
      "cos(912)             NO_BUG\n",
      "tan(4)               NO_BUG\n"
     ]
    }
   ],
   "source": [
    "initial_inputs = ['sqrt(1)', 'cos(912)', 'tan(4)']\n",
    "\n",
    "for inp in initial_inputs:\n",
    "    print(inp.ljust(20), oracle(inp))"
   ]
  },
  {
   "cell_type": "markdown",
   "metadata": {},
   "source": [
    "The following code represents a simple context-free grammar for our calculator function. This grammar encompasses all the potential valid inputs to the calculator, which include mathematical expressions involving square roots, trigonometric functions, and integer and decimal numbers:"
   ]
  },
  {
   "cell_type": "code",
   "execution_count": 7,
   "metadata": {},
   "outputs": [],
   "source": [
    "from fuzzingbook.Grammars import Grammar, is_valid_grammar\n",
    "\n",
    "CALCGRAMMAR: Grammar = {\n",
    "    \"<start>\":\n",
    "        [\"<function>(<term>)\"],\n",
    "\n",
    "    \"<function>\":\n",
    "        [\"sqrt\", \"tan\", \"cos\", \"sin\"],\n",
    "    \n",
    "    \"<term>\": [\"-<value>\", \"<value>\"], \n",
    "    \n",
    "    \"<value>\":\n",
    "        [\"<integer>.<integer>\",\n",
    "         \"<integer>\"],\n",
    "\n",
    "    \"<integer>\":\n",
    "        [\"<digit><integer>\", \"<digit>\"],\n",
    "\n",
    "    \"<digit>\":\n",
    "        [\"1\", \"2\", \"3\", \"4\", \"5\", \"6\", \"7\", \"8\", \"9\"]\n",
    "}\n",
    "    \n",
    "grammar_alhazen: Grammar = {\n",
    "    \"<start>\": [\"<arith_expr>\"],\n",
    "    \"<arith_expr>\": [\"<function>(<number>)\"],\n",
    "    \"<function>\": [\"sqrt\", \"sin\", \"cos\", \"tan\"],\n",
    "    \"<number>\": [\"<maybe_minus><onenine><maybe_digits><maybe_frac>\"],\n",
    "    \"<maybe_minus>\": [\"\", \"-\"],\n",
    "    \"<onenine>\": [str(num) for num in range(1, 10)],\n",
    "    \"<digit>\": [str(num) for num in range(0, 10)],\n",
    "    \"<maybe_digits>\": [\"\", \"<digits>\"],\n",
    "    \"<digits>\": [\"<digit>\", \"<digit><digits>\"],\n",
    "    \"<maybe_frac>\": [\"\", \".<digits>\"],\n",
    "}\n",
    "    \n",
    "assert is_valid_grammar(grammar_alhazen)"
   ]
  },
  {
   "cell_type": "markdown",
   "metadata": {},
   "source": [
    "The defined grammar CALCGRAMMAR provides a structured blueprint for creating various inputs for our fuzz testing. Each rule in this grammar reflects a possible valid input that our calculator function can handle. By fuzzing based on this grammar, we can systematically explore the space of valid inputs to the calculator function."
   ]
  },
  {
   "cell_type": "markdown",
   "metadata": {},
   "source": [
    "### Leveraging EvoGFuzz to Unearth New Defects\n",
    "\n",
    "We apply our `EvoGFuzz` class to carry out fuzz testing using evolutionary grammar-based fuzzing. This is aimed at uncovering potential defects in our 'calculator' function.\n",
    "\n",
    "To initialize our EvoGFuzz instance, we require a grammar (in our case, `CALCGRAMMAR`), an oracle function, an initial set of inputs, a fitness function, and the number of iterations to be performed in the fuzzing process.\n",
    "\n",
    "Upon creating the `EvoGFuzz` instance, we can execute the fuzzing process. The `fuzz()` method runs the fuzzing iterations, evolving the inputs based on our fitness function, and returns a collection of inputs that lead to exceptions in the 'calculator' function."
   ]
  },
  {
   "cell_type": "code",
   "execution_count": 16,
   "metadata": {},
   "outputs": [
    {
     "name": "stdout",
     "output_type": "stream",
     "text": [
      "EvoGFuzz found 286 bug-triggering inputs!\n",
      "EvoGFuzz found 261 bug-triggering inputs!\n",
      "EvoGFuzz found 213 bug-triggering inputs!\n"
     ]
    },
    {
     "data": {
      "text/plain": [
       "222.33333333333334"
      ]
     },
     "execution_count": 16,
     "metadata": {},
     "output_type": "execute_result"
    }
   ],
   "source": [
    "from evogfuzz.evogfuzz_class import EvoGFuzz\n",
    "from evogfuzz.helper import Tournament_Selection_Mode\n",
    "import statistics\n",
    "\n",
    "levenshtein_list=[]\n",
    "\n",
    "for _ in range(0,30):\n",
    "    try:\n",
    "        epp = EvoGFuzz(\n",
    "            grammar=CALCGRAMMAR,\n",
    "            oracle=oracle,\n",
    "            inputs=initial_inputs,\n",
    "            iterations=10,\n",
    "            tournament_selection_mode = Tournament_Selection_Mode.HIERARCHICAL_LEVENSHTEIN\n",
    "        )\n",
    "\n",
    "        found_exception_inputs = epp.fuzz()\n",
    "        print(f\"EvoGFuzz found {len(found_exception_inputs)} bug-triggering inputs!\")\n",
    "        levenshtein_list.append(len(found_exception_inputs))\n",
    "    except Exception as eee:\n",
    "        print(eee)\n",
    "statistics.mean(levenshtein_list)"
   ]
  },
  {
   "cell_type": "code",
   "execution_count": 17,
   "metadata": {},
   "outputs": [
    {
     "name": "stdout",
     "output_type": "stream",
     "text": [
      "EvoGFuzz found 379 bug-triggering inputs!\n",
      "EvoGFuzz found 296 bug-triggering inputs!\n",
      "EvoGFuzz found 263 bug-triggering inputs!\n",
      "EvoGFuzz found 165 bug-triggering inputs!\n",
      "EvoGFuzz found 110 bug-triggering inputs!\n",
      "EvoGFuzz found 275 bug-triggering inputs!\n",
      "EvoGFuzz found 206 bug-triggering inputs!\n",
      "EvoGFuzz found 308 bug-triggering inputs!\n",
      "EvoGFuzz found 177 bug-triggering inputs!\n",
      "EvoGFuzz found 295 bug-triggering inputs!\n",
      "EvoGFuzz found 245 bug-triggering inputs!\n",
      "EvoGFuzz found 112 bug-triggering inputs!\n",
      "EvoGFuzz found 241 bug-triggering inputs!\n",
      "EvoGFuzz found 209 bug-triggering inputs!\n",
      "EvoGFuzz found 190 bug-triggering inputs!\n",
      "EvoGFuzz found 281 bug-triggering inputs!\n",
      "EvoGFuzz found 109 bug-triggering inputs!\n",
      "EvoGFuzz found 351 bug-triggering inputs!\n",
      "EvoGFuzz found 349 bug-triggering inputs!\n",
      "EvoGFuzz found 84 bug-triggering inputs!\n",
      "EvoGFuzz found 268 bug-triggering inputs!\n",
      "EvoGFuzz found 190 bug-triggering inputs!\n",
      "EvoGFuzz found 336 bug-triggering inputs!\n",
      "EvoGFuzz found 336 bug-triggering inputs!\n",
      "EvoGFuzz found 350 bug-triggering inputs!\n",
      "EvoGFuzz found 207 bug-triggering inputs!\n",
      "EvoGFuzz found 278 bug-triggering inputs!\n",
      "EvoGFuzz found 319 bug-triggering inputs!\n",
      "EvoGFuzz found 207 bug-triggering inputs!\n",
      "EvoGFuzz found 166 bug-triggering inputs!\n"
     ]
    },
    {
     "data": {
      "text/plain": [
       "243.4"
      ]
     },
     "execution_count": 17,
     "metadata": {},
     "output_type": "execute_result"
    }
   ],
   "source": [
    "jaro_list=[]\n",
    "\n",
    "for _ in range(0,30):\n",
    "    try:\n",
    "        epp = EvoGFuzz(\n",
    "            grammar=CALCGRAMMAR,\n",
    "            oracle=oracle,\n",
    "            inputs=initial_inputs,\n",
    "            iterations=10,\n",
    "            tournament_selection_mode = Tournament_Selection_Mode.HIERARCHICAL_JARO\n",
    "        )\n",
    "        found_exception_inputs = epp.fuzz()\n",
    "        print(f\"EvoGFuzz found {len(found_exception_inputs)} bug-triggering inputs!\")\n",
    "        jaro_list.append(len(found_exception_inputs))\n",
    "    except Exception as eee:\n",
    "        print(eee)\n",
    "statistics.mean(jaro_list)"
   ]
  },
  {
   "cell_type": "code",
   "execution_count": 18,
   "metadata": {},
   "outputs": [
    {
     "name": "stdout",
     "output_type": "stream",
     "text": [
      "EvoGFuzz found 96 bug-triggering inputs!\n",
      "EvoGFuzz found 91 bug-triggering inputs!\n",
      "EvoGFuzz found 103 bug-triggering inputs!\n",
      "EvoGFuzz found 77 bug-triggering inputs!\n",
      "EvoGFuzz found 81 bug-triggering inputs!\n",
      "EvoGFuzz found 109 bug-triggering inputs!\n",
      "EvoGFuzz found 96 bug-triggering inputs!\n",
      "EvoGFuzz found 106 bug-triggering inputs!\n",
      "EvoGFuzz found 108 bug-triggering inputs!\n",
      "EvoGFuzz found 74 bug-triggering inputs!\n",
      "EvoGFuzz found 77 bug-triggering inputs!\n",
      "EvoGFuzz found 102 bug-triggering inputs!\n",
      "EvoGFuzz found 82 bug-triggering inputs!\n",
      "EvoGFuzz found 103 bug-triggering inputs!\n",
      "EvoGFuzz found 67 bug-triggering inputs!\n",
      "EvoGFuzz found 105 bug-triggering inputs!\n",
      "EvoGFuzz found 69 bug-triggering inputs!\n",
      "EvoGFuzz found 71 bug-triggering inputs!\n",
      "EvoGFuzz found 101 bug-triggering inputs!\n",
      "EvoGFuzz found 93 bug-triggering inputs!\n",
      "EvoGFuzz found 80 bug-triggering inputs!\n",
      "EvoGFuzz found 87 bug-triggering inputs!\n",
      "EvoGFuzz found 75 bug-triggering inputs!\n",
      "EvoGFuzz found 72 bug-triggering inputs!\n",
      "EvoGFuzz found 90 bug-triggering inputs!\n",
      "EvoGFuzz found 89 bug-triggering inputs!\n",
      "EvoGFuzz found 101 bug-triggering inputs!\n",
      "EvoGFuzz found 90 bug-triggering inputs!\n",
      "EvoGFuzz found 79 bug-triggering inputs!\n",
      "EvoGFuzz found 316 bug-triggering inputs!\n"
     ]
    },
    {
     "data": {
      "text/plain": [
       "96.33333333333333"
      ]
     },
     "execution_count": 18,
     "metadata": {},
     "output_type": "execute_result"
    }
   ],
   "source": [
    "cos_list = []\n",
    "for _ in range(0,30):\n",
    "    try:\n",
    "        epp = EvoGFuzz(\n",
    "            grammar=CALCGRAMMAR,\n",
    "            oracle=oracle,\n",
    "            inputs=initial_inputs,\n",
    "            iterations=10,\n",
    "            tournament_selection_mode = Tournament_Selection_Mode.HIERARCHICAL_FEATURE_COS\n",
    "        )\n",
    "        found_exception_inputs = epp.fuzz()\n",
    "        print(f\"EvoGFuzz found {len(found_exception_inputs)} bug-triggering inputs!\")\n",
    "        cos_list.append(len(found_exception_inputs))\n",
    "    except Exception as eee:\n",
    "        print(eee)\n",
    "statistics.mean(cos_list)"
   ]
  },
  {
   "cell_type": "code",
   "execution_count": 21,
   "metadata": {},
   "outputs": [
    {
     "name": "stdout",
     "output_type": "stream",
     "text": [
      "EvoGFuzz found 228 bug-triggering inputs!\n",
      "EvoGFuzz found 227 bug-triggering inputs!\n",
      "EvoGFuzz found 115 bug-triggering inputs!\n",
      "EvoGFuzz found 163 bug-triggering inputs!\n",
      "EvoGFuzz found 188 bug-triggering inputs!\n",
      "EvoGFuzz found 217 bug-triggering inputs!\n",
      "EvoGFuzz found 0 bug-triggering inputs!\n",
      "EvoGFuzz found 338 bug-triggering inputs!\n"
     ]
    },
    {
     "data": {
      "text/plain": [
       "220.4"
      ]
     },
     "execution_count": 21,
     "metadata": {},
     "output_type": "execute_result"
    }
   ],
   "source": [
    "normal_list = []\n",
    "for _ in range(0,30):\n",
    "    try:\n",
    "        epp = EvoGFuzz(\n",
    "            grammar=CALCGRAMMAR,\n",
    "            oracle=oracle,\n",
    "            inputs=initial_inputs,\n",
    "            iterations=10,\n",
    "        )\n",
    "        found_exception_inputs = epp.fuzz()\n",
    "        print(f\"EvoGFuzz found {len(found_exception_inputs)} bug-triggering inputs!\")\n",
    "        normal_list.append(len(found_exception_inputs))\n",
    "    except Exception as eee:\n",
    "        print(eee)\n",
    "statistics.mean(normal_list)"
   ]
  },
  {
   "cell_type": "code",
   "execution_count": 22,
   "metadata": {},
   "outputs": [
    {
     "data": {
      "text/plain": [
       "[128,\n",
       " 221,\n",
       " 219,\n",
       " 296,\n",
       " 245,\n",
       " 103,\n",
       " 214,\n",
       " 363,\n",
       " 233,\n",
       " 142,\n",
       " 154,\n",
       " 147,\n",
       " 267,\n",
       " 240,\n",
       " 255,\n",
       " 245,\n",
       " 167,\n",
       " 207,\n",
       " 155,\n",
       " 201,\n",
       " 300,\n",
       " 207,\n",
       " 319,\n",
       " 159,\n",
       " 300,\n",
       " 240,\n",
       " 183,\n",
       " 286,\n",
       " 261,\n",
       " 213]"
      ]
     },
     "execution_count": 22,
     "metadata": {},
     "output_type": "execute_result"
    }
   ],
   "source": [
    "levenshtein_list"
   ]
  },
  {
   "cell_type": "code",
   "execution_count": 23,
   "metadata": {},
   "outputs": [
    {
     "data": {
      "text/plain": [
       "[379,\n",
       " 296,\n",
       " 263,\n",
       " 165,\n",
       " 110,\n",
       " 275,\n",
       " 206,\n",
       " 308,\n",
       " 177,\n",
       " 295,\n",
       " 245,\n",
       " 112,\n",
       " 241,\n",
       " 209,\n",
       " 190,\n",
       " 281,\n",
       " 109,\n",
       " 351,\n",
       " 349,\n",
       " 84,\n",
       " 268,\n",
       " 190,\n",
       " 336,\n",
       " 336,\n",
       " 350,\n",
       " 207,\n",
       " 278,\n",
       " 319,\n",
       " 207,\n",
       " 166]"
      ]
     },
     "execution_count": 23,
     "metadata": {},
     "output_type": "execute_result"
    }
   ],
   "source": [
    "jaro_list"
   ]
  },
  {
   "cell_type": "code",
   "execution_count": 24,
   "metadata": {},
   "outputs": [
    {
     "data": {
      "text/plain": [
       "[96,\n",
       " 91,\n",
       " 103,\n",
       " 77,\n",
       " 81,\n",
       " 109,\n",
       " 96,\n",
       " 106,\n",
       " 108,\n",
       " 74,\n",
       " 77,\n",
       " 102,\n",
       " 82,\n",
       " 103,\n",
       " 67,\n",
       " 105,\n",
       " 69,\n",
       " 71,\n",
       " 101,\n",
       " 93,\n",
       " 80,\n",
       " 87,\n",
       " 75,\n",
       " 72,\n",
       " 90,\n",
       " 89,\n",
       " 101,\n",
       " 90,\n",
       " 79,\n",
       " 316]"
      ]
     },
     "execution_count": 24,
     "metadata": {},
     "output_type": "execute_result"
    }
   ],
   "source": [
    "cos_list"
   ]
  },
  {
   "cell_type": "code",
   "execution_count": 25,
   "metadata": {},
   "outputs": [
    {
     "data": {
      "text/plain": [
       "[0,\n",
       " 210,\n",
       " 264,\n",
       " 34,\n",
       " 0,\n",
       " 291,\n",
       " 363,\n",
       " 0,\n",
       " 419,\n",
       " 323,\n",
       " 371,\n",
       " 278,\n",
       " 189,\n",
       " 383,\n",
       " 374,\n",
       " 379,\n",
       " 74,\n",
       " 218,\n",
       " 289,\n",
       " 266,\n",
       " 258,\n",
       " 153,\n",
       " 228,\n",
       " 227,\n",
       " 115,\n",
       " 163,\n",
       " 188,\n",
       " 217,\n",
       " 0,\n",
       " 338]"
      ]
     },
     "execution_count": 25,
     "metadata": {},
     "output_type": "execute_result"
    }
   ],
   "source": [
    "normal_list"
   ]
  },
  {
   "cell_type": "code",
   "execution_count": 41,
   "metadata": {},
   "outputs": [
    {
     "name": "stdout",
     "output_type": "stream",
     "text": [
      "levenshtein_list cos_list True 222.33333333333334 96.33333333333333\n",
      "jaro_list cos_list True 243.4 96.33333333333333\n",
      "cos_list levenshtein_list False 96.33333333333333 222.33333333333334\n",
      "cos_list jaro_list False 96.33333333333333 243.4\n",
      "cos_list normal_list False 96.33333333333333 220.4\n",
      "normal_list cos_list True 220.4 96.33333333333333\n"
     ]
    }
   ],
   "source": [
    "from scipy.stats import mannwhitneyu\n",
    "sample_bugcount_list = [levenshtein_list, jaro_list, cos_list, normal_list]\n",
    "names = [\"levenshtein_list\", \"jaro_list\", \"cos_list\", \"normal_list\"]\n",
    "\n",
    "\n",
    "i=0\n",
    "for elem in sample_bugcount_list:\n",
    "    j=0\n",
    "    for elem2 in sample_bugcount_list:\n",
    "        U1, p = mannwhitneyu(elem, elem2, method=\"exact\")\n",
    "        U2 = len(elem)*len(elem2) - U1\n",
    "        if p < 0.05:\n",
    "            print(names[i],names[j],statistics.mean(elem)>statistics.mean(elem2),statistics.mean(elem),statistics.mean(elem2))\n",
    "        j+=1\n",
    "    i+=1"
   ]
  },
  {
   "cell_type": "markdown",
   "metadata": {},
   "source": [
    "Upon creating the `EvoGFuzz` instance, we can execute the fuzzing process. The `.fuzz()` method runs the fuzzing iterations, evolving the inputs based on our fitness function, and returns a collection of inputs that lead to exceptions in the 'calculator' function."
   ]
  },
  {
   "cell_type": "markdown",
   "metadata": {},
   "source": [
    "Lastly, we can examine the inputs that resulted in exceptions. This output can provide valuable insight into potential weaknesses in the 'calculator' function that need to be addressed."
   ]
  },
  {
   "cell_type": "code",
   "execution_count": null,
   "metadata": {},
   "outputs": [],
   "source": [
    "# print only the first 20 bug-triggering inputs\n",
    "for inp in list(found_exception_inputs)[:20]:\n",
    "    print(str(inp))"
   ]
  },
  {
   "cell_type": "markdown",
   "metadata": {},
   "source": [
    "This process illustrates the power of evolutionary grammar-based fuzzing in identifying new defects within our system. By applying evolutionary algorithms to our fuzzing strategy, we can guide the search towards more defect-prone regions of the input space."
   ]
  },
  {
   "cell_type": "markdown",
   "metadata": {},
   "source": [
    "#### Analyzing and Sorting All Generated Inputs by Fitness"
   ]
  },
  {
   "cell_type": "markdown",
   "metadata": {},
   "source": [
    "After the fuzzing process, you may want to examine all the generated inputs. These can be accessed using the `get_all_inputs()` method. Additionally, we can sort these inputs based on their fitness scores to gain insights into which inputs performed best according to our fitness function."
   ]
  },
  {
   "cell_type": "code",
   "execution_count": null,
   "metadata": {},
   "outputs": [],
   "source": [
    "all_generated_inputs = epp.get_all_inputs()\n",
    "all_generated_inputs_sorted = sorted(all_generated_inputs, key=lambda inp: inp.fitness, reverse=True)"
   ]
  },
  {
   "cell_type": "markdown",
   "metadata": {},
   "source": [
    "Now, let's print out these sorted inputs along with their respective fitness scores. Inputs with higher fitness scores will be displayed first, as these are the ones our evolutionary process deemed more likely to uncover potential defects."
   ]
  },
  {
   "cell_type": "code",
   "execution_count": null,
   "metadata": {},
   "outputs": [],
   "source": [
    "# investigate only the first 20 bug-triggering inputs\n",
    "for inp in all_generated_inputs_sorted[:20]:\n",
    "    print(f\"{str(inp).ljust(40)} fitness: {inp.fitness}\")"
   ]
  },
  {
   "cell_type": "markdown",
   "metadata": {},
   "source": [
    "This output provides an overview of the evolved inputs and their effectiveness in revealing potential defects, as gauged by our fitness function. It is a valuable resource for understanding the behavior of our program under various inputs and the effectiveness of our evolutionary grammar-based fuzzing approach."
   ]
  },
  {
   "cell_type": "markdown",
   "metadata": {},
   "source": [
    "### Incorporating Custom Fitness Functions\n",
    "\n",
    "The fitness function plays a crucial role in guiding the evolution process of our fuzzing inputs. A well-crafted fitness function can effectively direct the search towards the most promising regions of the input space.\n",
    "\n",
    "To create your own fitness function, define a function that takes an `Input` instance and returns a float value. The return value represents the 'fitness' of the given input, with higher values indicating better fitness. Here is a simple template:\n",
    "\n",
    "```python\n",
    "from evogfuzz.input import Input\n",
    "\n",
    "def fitness_function_XYZ(inp: Input) -> float:\n",
    "    # Implement your fitness function here.\n",
    "    return 0.0\n",
    "```"
   ]
  },
  {
   "cell_type": "markdown",
   "metadata": {},
   "source": [
    "For instance, suppose we're interested in inputs that invoke the cosine function in our calculator. We could define a fitness function `fitness_function_cos` that assigns a high fitness value to inputs containing 'cos'. (**Note that this might not be the best fitness function to find new expcetions.**)"
   ]
  },
  {
   "cell_type": "code",
   "execution_count": null,
   "metadata": {},
   "outputs": [],
   "source": [
    "from difflib import SequenceMatcher\n",
    "from evogfuzz.input import Input\n",
    "\n",
    "def similar(a, b):\n",
    "    return SequenceMatcher(None, a, b).ratio()\n",
    "\n",
    "def fitness_function_XYZ(inp: Input) -> float:\n",
    "    return similar(\"sqrt(-\", str(inp)[:6])"
   ]
  },
  {
   "cell_type": "code",
   "execution_count": null,
   "metadata": {},
   "outputs": [],
   "source": [
    "from evogfuzz.input import Input\n",
    "\n",
    "def fitness_function_cos(inp: Input) -> float:\n",
    "    if 'cos' in str(inp):\n",
    "        return 1.0\n",
    "    else:\n",
    "        return 0.0"
   ]
  },
  {
   "cell_type": "markdown",
   "metadata": {},
   "source": [
    "Once your fitness function is defined, you can incorporate it into the `EvoGFuzz` instance by passing it as the `fitness_function` argument. "
   ]
  },
  {
   "cell_type": "code",
   "execution_count": null,
   "metadata": {},
   "outputs": [],
   "source": [
    "epp = EvoGFuzz(\n",
    "    grammar=CALCGRAMMAR,\n",
    "    oracle=oracle,\n",
    "    inputs=initial_inputs,\n",
    "    fitness_function=fitness_function_XYZ,\n",
    "    iterations=10,\n",
    ")\n",
    "\n",
    "found_exception_inputs = epp.fuzz()\n",
    "\n",
    "print(f\"EvoGFuzz found {len(found_exception_inputs)} bug-triggering inputs!\")\n",
    "\n",
    "for inp in found_exception_inputs:\n",
    "    print(str(inp))"
   ]
  },
  {
   "cell_type": "markdown",
   "metadata": {},
   "source": [
    "This way, the evolutionary grammar-based fuzzing process is now guided by your custom fitness function, focusing more on the areas you deem critical."
   ]
  },
  {
   "cell_type": "markdown",
   "metadata": {},
   "source": [
    "#### Evaluating Inputs Based on Custom Fitness Function"
   ]
  },
  {
   "cell_type": "markdown",
   "metadata": {},
   "source": [
    "When utilizing a custom fitness function, such as `fitness_function_cos` in our case, we expect inputs containing 'cos' to achieve the highest fitness scores. This is because our fitness function assigns a score of 1.0 to any input that includes 'cos'.\n",
    "\n",
    "To confirm this behavior, we retrieve all inputs generated during the fuzzing process using the `get_all_inputs()` method and sort these inputs based on their fitness scores."
   ]
  },
  {
   "cell_type": "code",
   "execution_count": null,
   "metadata": {},
   "outputs": [],
   "source": [
    "all_generated_inputs = epp.get_all_inputs()\n",
    "all_generated_inputs_sorted = sorted(all_generated_inputs, key=lambda inp: inp.fitness, reverse=True)"
   ]
  },
  {
   "cell_type": "markdown",
   "metadata": {},
   "source": [
    "Let's display these sorted inputs along with their fitness scores. The inputs that contain 'cos' should appear first, demonstrating their high fitness value."
   ]
  },
  {
   "cell_type": "code",
   "execution_count": null,
   "metadata": {},
   "outputs": [],
   "source": [
    "# investigate only the first 20 bug-triggering inputs\n",
    "for inp in all_generated_inputs_sorted[:20]:\n",
    "    print(f\"{str(inp).ljust(40)} fitness: {inp.fitness}\")"
   ]
  },
  {
   "cell_type": "markdown",
   "metadata": {},
   "source": [
    "The resulting output validates the effectiveness of our custom fitness function. It shows how we can guide the evolutionary grammar-based fuzzing process towards specific regions of the input space, thereby facilitating targeted exploration and bug discovery."
   ]
  },
  {
   "cell_type": "code",
   "execution_count": null,
   "metadata": {},
   "outputs": [],
   "source": [
    "statistics.mean(cos_list2)"
   ]
  },
  {
   "cell_type": "code",
   "execution_count": null,
   "metadata": {},
   "outputs": [],
   "source": []
  }
 ],
 "metadata": {
  "kernelspec": {
   "display_name": "Python 3 (ipykernel)",
   "language": "python",
   "name": "python3"
  },
  "language_info": {
   "codemirror_mode": {
    "name": "ipython",
    "version": 3
   },
   "file_extension": ".py",
   "mimetype": "text/x-python",
   "name": "python",
   "nbconvert_exporter": "python",
   "pygments_lexer": "ipython3",
   "version": "3.10.4"
  }
 },
 "nbformat": 4,
 "nbformat_minor": 1
}
