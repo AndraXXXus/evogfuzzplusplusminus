{
 "cells": [
  {
   "cell_type": "markdown",
   "metadata": {},
   "source": [
    "# EvoGFuzz: An Evolutionary Approach to Grammar-Based Fuzzing\n",
    "\n",
    "**EvoGFuzz** stands for *evolutionary grammar-based fuzzing*. This approach leverages evolutionary optimization techniques to systematically explore the space of a program's potential inputs, with a particular emphasis on identifying inputs that could lead to exceptional behavior. With a user-defined objective, EvoGFuzz can adapt and refine the input generation strategy over time, making it a powerful tool for uncovering software defects and vulnerabilities.\n",
    "\n",
    "Efficient detection of defects and vulnerabilities hinges on the ability to automatically generate program inputs that are both valid and diverse. One common strategy is to use grammars, which provide structured and syntactically correct inputs. This approach leads to the concept of grammar-based fuzzing, where fuzzing strategies are guided by the rules defined within the grammar.\n",
    "\n",
    "A further enhancement to this concept is probabilistic grammar-based fuzzing, where competing grammar rules are associated with probabilities that guide their application. By carefully assigning and optimizing these probabilities, we gain considerable control over the nature of the generated inputs. This enables us to direct the fuzzing process towards specific areas of interest—for example, those functions that are deemed critical, have a higher propensity for failures, or have undergone recent modifications. \n",
    "\n",
    "In essence, EvoGFuzz represents a potent blend of evolutionary optimization and probabilistic grammar-based fuzzing, poised to reveal hidden defects and vulnerabilities in a targeted and efficient manner."
   ]
  },
  {
   "cell_type": "markdown",
   "metadata": {},
   "source": [
    "## Fuzzing a Program"
   ]
  },
  {
   "cell_type": "markdown",
   "metadata": {},
   "source": [
    "Our program under investigation is `The Calculator`. This program acts as a typical calculator, capable of evaluating not just arithmetic expressions but also trigonometric functions, such as sine, cosine, and tangent. Furthermore, it also supports the calculation of the square root of a given number."
   ]
  },
  {
   "cell_type": "code",
   "execution_count": 1,
   "metadata": {},
   "outputs": [],
   "source": [
    "import math\n",
    "\n",
    "def calculator(inp: str) -> float:\n",
    "    \"\"\"\n",
    "        A simple calculator function that can evaluate arithmetic expressions \n",
    "        and perform basic trigonometric functions and square root calculations.\n",
    "    \"\"\"\n",
    "    return eval(\n",
    "        str(inp), {\"sqrt\": math.sqrt, \"sin\": math.sin, \"cos\": math.cos, \"tan\": math.tan}\n",
    "    )"
   ]
  },
  {
   "cell_type": "markdown",
   "metadata": {},
   "source": [
    "**Side Note:** In the `calculator`, we use Python's `eval` function, which takes a string and evaluates it as a Python expression. We provide a dictionary as the second argument to eval, mapping names to corresponding mathematical functions. This enables us to use the function names directly within the input string. "
   ]
  },
  {
   "cell_type": "code",
   "execution_count": 2,
   "metadata": {},
   "outputs": [
    {
     "name": "stdout",
     "output_type": "stream",
     "text": [
      "0.999993677717667\n"
     ]
    }
   ],
   "source": [
    "# Evaluating the cosine of 2π\n",
    "print(calculator('cos(6*3.141)'))"
   ]
  },
  {
   "cell_type": "code",
   "execution_count": 3,
   "metadata": {},
   "outputs": [
    {
     "name": "stdout",
     "output_type": "stream",
     "text": [
      "6.0\n"
     ]
    }
   ],
   "source": [
    "# Calculating the square root of 36\n",
    "print(calculator('sqrt(6*6)'))"
   ]
  },
  {
   "cell_type": "markdown",
   "metadata": {},
   "source": [
    "Each of these calls to the calculator will evaluate the provided string as a mathematical expression, and print the result."
   ]
  },
  {
   "cell_type": "markdown",
   "metadata": {},
   "source": [
    "Now, to find new defects, we need to introduce an oracle that tells us if the error that is triggered is something we expect or a new/unkonwn defect. The `OracleResult` is an enum with two possible values, `NO_BUG` and `BUG`. `NO_BUG` donates a passing test case and `BUG` a failing one."
   ]
  },
  {
   "cell_type": "markdown",
   "metadata": {},
   "source": [
    "We import the `OracleResult` enumerated type from the `evogfuzz` library. This is used in the oracle function to indicate the outcome of executing the 'calculator' function with a given input."
   ]
  },
  {
   "cell_type": "code",
   "execution_count": 4,
   "metadata": {},
   "outputs": [],
   "source": [
    "from evogfuzz.oracle import OracleResult"
   ]
  },
  {
   "cell_type": "markdown",
   "metadata": {},
   "source": [
    "This is a function called **oracle**, which acts as an intermediary to handle and classify exceptions produced by the calculator function when given a certain input."
   ]
  },
  {
   "cell_type": "code",
   "execution_count": 5,
   "metadata": {},
   "outputs": [],
   "source": [
    "# Make sure you use the OracleResult from the evogfuzz library\n",
    "from evogfuzz.oracle import OracleResult\n",
    "\n",
    "def oracle(inp: str):\n",
    "    \"\"\"\n",
    "    This function serves as an oracle or intermediary that catches and handles exceptions \n",
    "    generated by the 'calculator' function. The oracle function is used in the context of fuzz testing.\n",
    "    It aims to determine whether an input triggers a bug in the 'calculator' function.\n",
    "\n",
    "    Args:\n",
    "        inp (str): The input string to be passed to the 'calculator' function.\n",
    "\n",
    "    Returns:\n",
    "        OracleResult: An enumerated type 'OracleResult' indicating the outcome of the function execution.\n",
    "            - OracleResult.NO_BUG: Returned if the calculator function executes without any exception or only with CalculatorSyntaxError\n",
    "            - OracleResult.BUG: Returned if the calculator function raises a ValueError exception, indicating a potential bug.\n",
    "    \"\"\"\n",
    "    try:\n",
    "        calculator(inp)\n",
    "    except ValueError as e:\n",
    "        return OracleResult.BUG\n",
    "    \n",
    "    return OracleResult.NO_BUG"
   ]
  },
  {
   "cell_type": "markdown",
   "metadata": {},
   "source": [
    "This **oracle** function is used in the context of fuzzing to determine the impact of various inputs on the program under test (in our case the _calculator_). When the calculator function behaves as expected (i.e., no exceptions occur), the **oracle** function returns `OracleResult.NO_BUG`. However, when the `calculator` function raises an unexpected exception, the **oracle** interprets this as a potential bug in the `calculator` and returns `OracleResult.BUG`."
   ]
  },
  {
   "cell_type": "markdown",
   "metadata": {},
   "source": [
    "We can see this in action by testing a few initial inputs:"
   ]
  },
  {
   "cell_type": "code",
   "execution_count": 6,
   "metadata": {},
   "outputs": [
    {
     "name": "stdout",
     "output_type": "stream",
     "text": [
      "sqrt(1)              NO_BUG\n",
      "cos(912)             NO_BUG\n",
      "tan(4)               NO_BUG\n"
     ]
    }
   ],
   "source": [
    "initial_inputs = ['sqrt(1)', 'cos(912)', 'tan(4)']\n",
    "\n",
    "for inp in initial_inputs:\n",
    "    print(inp.ljust(20), oracle(inp))"
   ]
  },
  {
   "cell_type": "markdown",
   "metadata": {},
   "source": [
    "The following code represents a simple context-free grammar for our calculator function. This grammar encompasses all the potential valid inputs to the calculator, which include mathematical expressions involving square roots, trigonometric functions, and integer and decimal numbers:"
   ]
  },
  {
   "cell_type": "code",
   "execution_count": 7,
   "metadata": {},
   "outputs": [],
   "source": [
    "from fuzzingbook.Grammars import Grammar, is_valid_grammar\n",
    "\n",
    "CALCGRAMMAR: Grammar = {\n",
    "    \"<start>\":\n",
    "        [\"<function>(<term>)\"],\n",
    "\n",
    "    \"<function>\":\n",
    "        [\"sqrt\", \"tan\", \"cos\", \"sin\"],\n",
    "    \n",
    "    \"<term>\": [\"-<value>\", \"<value>\"], \n",
    "    \n",
    "    \"<value>\":\n",
    "        [\"<integer>.<integer>\",\n",
    "         \"<integer>\"],\n",
    "\n",
    "    \"<integer>\":\n",
    "        [\"<digit><integer>\", \"<digit>\"],\n",
    "\n",
    "    \"<digit>\":\n",
    "        [\"1\", \"2\", \"3\", \"4\", \"5\", \"6\", \"7\", \"8\", \"9\"]\n",
    "}\n",
    "    \n",
    "grammar_alhazen: Grammar = {\n",
    "    \"<start>\": [\"<arith_expr>\"],\n",
    "    \"<arith_expr>\": [\"<function>(<number>)\"],\n",
    "    \"<function>\": [\"sqrt\", \"sin\", \"cos\", \"tan\"],\n",
    "    \"<number>\": [\"<maybe_minus><onenine><maybe_digits><maybe_frac>\"],\n",
    "    \"<maybe_minus>\": [\"\", \"-\"],\n",
    "    \"<onenine>\": [str(num) for num in range(1, 10)],\n",
    "    \"<digit>\": [str(num) for num in range(0, 10)],\n",
    "    \"<maybe_digits>\": [\"\", \"<digits>\"],\n",
    "    \"<digits>\": [\"<digit>\", \"<digit><digits>\"],\n",
    "    \"<maybe_frac>\": [\"\", \".<digits>\"],\n",
    "}\n",
    "    \n",
    "assert is_valid_grammar(grammar_alhazen)"
   ]
  },
  {
   "cell_type": "markdown",
   "metadata": {},
   "source": [
    "The defined grammar CALCGRAMMAR provides a structured blueprint for creating various inputs for our fuzz testing. Each rule in this grammar reflects a possible valid input that our calculator function can handle. By fuzzing based on this grammar, we can systematically explore the space of valid inputs to the calculator function."
   ]
  },
  {
   "cell_type": "markdown",
   "metadata": {},
   "source": [
    "### Leveraging EvoGFuzz to Unearth New Defects\n",
    "\n",
    "We apply our `EvoGFuzz` class to carry out fuzz testing using evolutionary grammar-based fuzzing. This is aimed at uncovering potential defects in our 'calculator' function.\n",
    "\n",
    "To initialize our EvoGFuzz instance, we require a grammar (in our case, `CALCGRAMMAR`), an oracle function, an initial set of inputs, a fitness function, and the number of iterations to be performed in the fuzzing process.\n",
    "\n",
    "Upon creating the `EvoGFuzz` instance, we can execute the fuzzing process. The `fuzz()` method runs the fuzzing iterations, evolving the inputs based on our fitness function, and returns a collection of inputs that lead to exceptions in the 'calculator' function."
   ]
  },
  {
   "cell_type": "code",
   "execution_count": 15,
   "metadata": {},
   "outputs": [],
   "source": [
    "from evogfuzz.evogfuzz_class import EvoGFuzz\n",
    "from evogfuzz.helper import Tournament_Selection_Mode\n",
    "\n",
    "epp = EvoGFuzz(\n",
    "    grammar=CALCGRAMMAR,\n",
    "    oracle=oracle,\n",
    "    inputs=initial_inputs,\n",
    "    iterations=10,\n",
    "    tournament_selection_mode = Tournament_Selection_Mode.HIERARCHICAL_LEVENSHTEIN\n",
    ")"
   ]
  },
  {
   "cell_type": "markdown",
   "metadata": {},
   "source": [
    "Upon creating the `EvoGFuzz` instance, we can execute the fuzzing process. The `.fuzz()` method runs the fuzzing iterations, evolving the inputs based on our fitness function, and returns a collection of inputs that lead to exceptions in the 'calculator' function."
   ]
  },
  {
   "cell_type": "code",
   "execution_count": 16,
   "metadata": {
    "scrolled": true
   },
   "outputs": [
    {
     "name": "stdout",
     "output_type": "stream",
     "text": [
      "4 ['sqrt(22)', 'sqrt(11)', 'sqrt(44)', 'tan(911)', 'tan(411)', 'cos(244)']\n",
      "6 ['cos(1141914)', 'cos(11)', 'tan(99)', 'tan(249)', 'sqrt(12)', 'cos(92922)', 'sqrt(94)', 'sqrt(111)', 'cos(421)', 'tan(491)']\n",
      "5 ['sqrt(112)', 'tan(4211)', 'sqrt(119)', 'sqrt(292)', 'sqrt(411)', 'sqrt(424)', 'sqrt(991)']\n",
      "1 ['tan(21)', 'tan(14)', 'tan(24)', 'cos(41)', 'tan(19)', 'cos(29)', 'tan(41)', 'tan(29)', 'tan(92)']\n",
      "3 ['tan(1)', 'tan(2)', 'cos(9)', 'cos(4)', 'tan(9)', 'cos(1)', 'cos(2)', 'tan(4)']\n",
      "2 ['cos(91)', 'sqrt(9)', 'sqrt(4)', 'sqrt(1)', 'sqrt(2)', 'cos(19)']\n",
      "4 6\n",
      "6 10\n",
      "5 7\n",
      "1 9\n",
      "3 8\n",
      "2 6\n",
      "1 ['cos(-1)', 'sqrt(4)', 'sqrt(9)', 'tan(49)', 'tan(94)', 'sqrt(1)', 'cos(-9)', 'tan(-1)', 'tan(-4)', 'tan(91)', 'cos(94)']\n",
      "4 ['tan(44)', 'tan(99)', 'tan(11)']\n",
      "2 ['tan(1)', 'cos(9)', 'cos(4)', 'tan(9)', 'cos(1)', 'tan(4)']\n",
      "3 ['tan(-91)', 'sqrt(91)', 'sqrt(49)', 'sqrt(19)', 'cos(419)']\n",
      "5 ['tan(-11)', 'sqrt(919)', 'sqrt(11)', 'sqrt(1949)', 'cos(4919)', 'tan(144)', 'cos(991)', 'sqrt(9944)', 'tan(9914)', 'tan(111)']\n",
      "1 11\n",
      "4 3\n",
      "2 6\n",
      "3 5\n",
      "5 10\n",
      "4 ['cos(91)', 'sqrt(4)', 'sqrt(9)', 'sqrt(1)', 'cos(14)']\n",
      "2 ['cos(99)', 'tan(99)', 'cos(11)', 'sqrt(49)']\n",
      "1 ['tan(1)', 'cos(9)', 'cos(4)', 'tan(9)', 'cos(1)', 'tan(4)']\n",
      "3 ['tan(91)', 'tan(19)']\n",
      "4 5\n",
      "2 4\n",
      "1 6\n",
      "3 2\n",
      "3 ['sin(19)', 'sqrt(9)', 'sqrt(4)', 'sin(14)', 'sqrt(1)', 'cos(19)', 'cos(14)', 'cos(94)']\n",
      "7 ['sin(19491)', 'cos(191194)', 'sin(49144941)', 'sqrt(944)', 'sqrt(119)', 'sqrt(1419119)', 'cos(1919)', 'sqrt(9941)', 'cos(1149)', 'sqrt(941994)', 'sqrt(9141119911)', 'sqrt(9111919)', 'sqrt(91111)']\n",
      "2 ['tan(1)', 'sin(9)', 'sin(4)', 'cos(9)', 'cos(4)', 'sin(1)', 'tan(9)', 'cos(1)', 'tan(4)']\n",
      "5 ['sin(119911)', 'cos(11)', 'sin(11)', 'cos(44)', 'cos(99)', 'tan(11)']\n",
      "1 ['sin(941)', 'tan(419)', 'cos(491)', 'sqrt(91)', 'sqrt(94)', 'tan(491)', 'sin(11999)', 'sqrt(19)']\n",
      "4 ['sin(949)', 'cos(494)', 'sqrt(11)', 'sin(191)', 'sin(119)']\n",
      "6 ['sin(111)', 'cos(111)', 'tan(111)']\n",
      "3 8\n",
      "7 13\n",
      "2 9\n",
      "5 6\n",
      "1 8\n",
      "4 5\n",
      "6 3\n",
      "6 ['sqrt(-411)', 'sqrt(-114)']\n",
      "3 ['sin(941)', 'tan(-14)', 'sqrt(-9)', 'sqrt(-4)', 'sin(-14)', 'cos(-94)', 'tan(-19)', 'tan(-94)']\n",
      "1 ['cos(-1)', 'sqrt(4)', 'sqrt(9)', 'tan(49)', 'tan(14)', 'tan(-9)', 'sin(-4)', 'cos(-4)', 'tan(19)', 'cos(-9)', 'tan(-1)', 'sin(-9)', 'tan(-4)', 'tan(41)', 'cos(19)', 'sin(91)', 'cos(94)']\n",
      "5 ['tan(99)', 'cos(-941)', 'tan(44)', 'cos(-914)', 'sqrt(-14)', 'cos(44)', 'tan(-914)']\n",
      "4 ['tan(1)', 'sin(4)', 'cos(9)', 'cos(4)', 'sin(1)', 'tan(9)', 'cos(1)', 'tan(4)']\n",
      "2 ['cos(-944)', 'sqrt(499)', 'sqrt(-44)', 'cos(-449)', 'cos(1149)', 'sqrt(994)', 'cos(-441)', 'cos(4941)', 'sqrt(191)']\n",
      "7 ['tan(-444)', 'sin(441)', 'cos(-99)', 'sin(111)', 'cos(4441)', 'cos(-19119)', 'cos(449)', 'sin(1411994919)', 'sin(44449)']\n",
      "6 2\n",
      "3 8\n",
      "1 17\n",
      "5 7\n",
      "4 8\n",
      "2 9\n",
      "7 9\n",
      "8 ['sin(99141)', 'tan(-994)', 'sqrt(-99111)', 'tan(4449)', 'sqrt(-4414)', 'sin(9944)', 'sqrt(-9444991444)', 'sqrt(-99)', 'sqrt(-9914)', 'sqrt(-4999)', 'sqrt(441)', 'sqrt(-49494)', 'sqrt(9441941)', 'sin(4944)', 'sqrt(944991)', 'sqrt(-444)', 'sqrt(-449914)', 'tan(-944)', 'tan(4144)', 'sqrt(-41441919)', 'sqrt(14944)', 'sin(-914144)', 'tan(49449444)', 'tan(449449)']\n",
      "1 ['sqrt(41)', 'sqrt(-1)', 'sin(-91)', 'sqrt(-9)', 'tan(-41)', 'sin(-41)', 'sqrt(-4)', 'sin(-14)', 'sqrt(94)', 'tan(-94)']\n",
      "2 ['sin(-1)', 'sin(94)', 'sqrt(4)', 'sqrt(9)', 'tan(49)', 'sin(-4)', 'tan(-9)', 'sqrt(1)', 'tan(-1)', 'sin(-9)', 'tan(-4)', 'sin(91)']\n",
      "5 ['sqrt(-441)', 'sqrt(-449)', 'sqrt(-944)', 'sqrt(-911)']\n",
      "6 ['tan(1)', 'sin(9)', 'sin(4)', 'tan(9)', 'tan(4)']\n",
      "7 ['sqrt(944)', 'sqrt(494)']\n",
      "4 ['sqrt(-941)', 'tan(-11)', 'sqrt(11)', 'sqrt(44)', 'tan(411)', 'sin(-44)']\n",
      "3 ['sqrt(-41)', 'sin(-491)', 'sqrt(-14)', 'sqrt(-49)', 'sin(-149)', 'sqrt(-94)']\n",
      "8 24\n",
      "1 10\n",
      "2 12\n",
      "5 4\n",
      "6 5\n",
      "7 2\n",
      "4 6\n",
      "3 6\n",
      "6 ['sqrt(-9459)', 'sqrt(-8984)', 'sqrt(-9159)', 'sqrt(-946712)', 'sqrt(-6167)']\n",
      "2 ['sqrt(-756)', 'sqrt(-941)', 'sin(-1372)', 'sqrt(-473)', 'sqrt(-718)', 'sqrt(-214)', 'sqrt(-837)', 'sqrt(-462)', 'sqrt(-769)', 'sqrt(-361)', 'sqrt(-418)']\n",
      "3 ['sqrt(-6)', 'sqrt(-1)', 'sqrt(-3)', 'sqrt(-2)', 'sqrt(-9)', 'sqrt(-4)', 'sqrt(-8)', 'sqrt(-7)']\n",
      "5 ['sqrt(-66)', 'sqrt(-9316)', 'sqrt(-11)', 'sqrt(-8947)', 'sqrt(-2493)', 'sqrt(-7149)', 'sqrt(-4639)']\n",
      "1 ['sqrt(-43)', 'sqrt(-87)', 'sqrt(-24)', 'sqrt(-89)', 'sqrt(-16)', 'sqrt(-74)', 'sqrt(-19)', 'sqrt(-67)', 'sqrt(-78)', 'sqrt(-96)', 'sqrt(-84)', 'sqrt(-17)', 'sqrt(-94)', 'sqrt(-46)']\n",
      "8 ['sin(-67671)', 'sqrt(-66144219114)', 'sqrt(-47494)', 'sqrt(-48241)', 'sqrt(-2921486)', 'sqrt(-261926)', 'sqrt(-74148917)', 'sqrt(-772847)', 'sqrt(-443121)', 'sin(-624)', 'sin(-946)', 'sin(-9448)', 'sqrt(-874877)', 'sqrt(-911871622)', 'sin(-8444)', 'sqrt(-67461521)', 'sin(-1)', 'sin(-2)', 'sqrt(-2121)', 'sin(-269646)']\n",
      "4 ['sqrt(-881)', 'sqrt(-737)', 'sqrt(-771)', 'sqrt(-171)', 'sqrt(-122)', 'sqrt(-661)']\n",
      "7 ['sin(-64)', 'sin(-86)', 'sin(-21)']\n",
      "6 5\n",
      "2 11\n",
      "3 8\n",
      "5 7\n",
      "1 14\n",
      "8 20\n",
      "4 6\n",
      "7 3\n",
      "4 ['cos(-8)', 'cos(-7)', 'tan(-2)', 'tan(-6)', 'tan(-9)', 'tan(-7)', 'cos(-4)', 'cos(-6)', 'cos(-9)', 'cos(-3)', 'tan(-4)', 'tan(-3)']\n",
      "6 ['cos(-8273)', 'sin(-1728)', 'tan(-9137)', 'sqrt(-371)', 'sin(-33)', 'sin(-77)']\n",
      "3 ['sin(-4)', 'sin(-8)', 'sin(-7)', 'sin(-3)', 'sin(-9)']\n",
      "8 ['sin(-42213228)', 'tan(-777)', 'tan(-27837737)', 'sin(-9244)', 'sin(-694)', 'sqrt(-747)', 'tan(-9327797)', 'cos(-292)', 'sin(-3387)', 'sqrt(-977974333)', 'cos(-343)', 'sqrt(-1899324878)', 'sqrt(-988)', 'tan(-9794)', 'tan(-397832)', 'cos(-426)', 'sqrt(-44)', 'sqrt(-48998361496)', 'sin(-8339)', 'sqrt(-189873932)', 'cos(-99662)', 'sqrt(-82882949827)', 'sqrt(-7698799)', 'sqrt(-367774)', 'sin(-797297)', 'sqrt(-97377)']\n",
      "7 ['sqrt(-8477)', 'sin(-63188)', 'sin(-79819)', 'sqrt(-2878)', 'sin(-69146)', 'sin(-99438)']\n",
      "5 ['sqrt(-43)', 'sqrt(-34)', 'sqrt(-71)', 'sqrt(-37)', 'sqrt(-39)']\n",
      "2 ['sqrt(-3)', 'sqrt(-2)', 'sin(-74)', 'sin(-48)', 'sqrt(-9)', 'sqrt(-4)', 'sqrt(-7)', 'sin(-14)', 'sqrt(-8)', 'sin(-29)', 'sin(-82)']\n",
      "1 ['cos(-84)', 'cos(-92)', 'tan(-98)', 'cos(-32)', 'cos(-79)', 'cos(-93)', 'cos(-94)', 'cos(-78)', 'cos(-37)']\n",
      "4 12\n",
      "6 6\n",
      "3 5\n",
      "8 26\n",
      "7 6\n",
      "5 5\n",
      "2 11\n",
      "1 9\n",
      "9 ['sin(-5535)', 'sqrt(-23563342776)', 'cos(-3633374636369)', 'sqrt(-7567553)', 'sin(-762335)', 'sqrt(-4355)', 'sqrt(-5473)', 'sqrt(-75345594454)', 'sqrt(-2344)', 'cos(-55945562)', 'sqrt(-7735733345)', 'sin(-253442)', 'sin(-27555)', 'cos(-454)', 'cos(-35964555)', 'sin(-443)', 'sqrt(-53572)', 'sin(-623354)', 'cos(-35663436)', 'cos(-433556)', 'sqrt(-44)', 'cos(-334951)', 'cos(-642694693494)', 'sin(-2447535)', 'sin(-35948)', 'sqrt(-645574)', 'cos(-3469552258573543)', 'cos(-56538446)', 'cos(-433)', 'cos(-556532634)', 'cos(-355)', 'sqrt(-35355528)', 'sin(-5555355)', 'sqrt(-476363)', 'sin(-545625)']\n",
      "5 ['sin(-7)', 'cos(-6)', 'sin(-5)', 'sin(-3)', 'cos(-5)', 'sin(-9)', 'cos(-3)', 'sin(-6)']\n",
      "2 ['cos(-53)', 'cos(-75)', 'sin(-39)', 'sin(-73)', 'cos(-34)', 'sin(-35)', 'sin(-56)', 'cos(-57)', 'sin(-47)']\n",
      "8 ['sqrt(-4475)', 'sqrt(-7454)']\n",
      "7 ['cos(-5459)', 'cos(-3943)', 'sqrt(-556)', 'sqrt(-363)', 'sqrt(-554)', 'sin(-4336)', 'sqrt(-558)', 'cos(-8332)', 'cos(-6474)']\n",
      "4 ['sqrt(-43)', 'sqrt(-32)', 'sqrt(-37)', 'sqrt(-53)', 'sqrt(-35)']\n",
      "6 ['sqrt(-375)', 'cos(-33)', 'cos(-77)', 'sqrt(-673)', 'sqrt(-357)', 'sqrt(-435)', 'sqrt(-645)', 'sin(-5849)']\n",
      "3 ['sqrt(-74)', 'sqrt(-26)', 'sqrt(-64)', 'sqrt(-49)', 'sqrt(-29)', 'sqrt(-94)']\n",
      "1 ['sqrt(-3)', 'sqrt(-9)', 'sqrt(-4)', 'sqrt(-7)', 'sqrt(-8)', 'sqrt(-5)']\n",
      "9 35\n",
      "5 8\n",
      "2 9\n",
      "8 2\n",
      "7 9\n",
      "4 5\n",
      "6 8\n",
      "3 6\n",
      "1 6\n",
      "2 ['sqrt(-55343)', 'sqrt(-75357)', 'sqrt(-3.355)', 'sqrt(-333)', 'sqrt(-33656)', 'sqrt(-55667)', 'sqrt(-56533)', 'sqrt(-65365)']\n",
      "1 ['sqrt(-6)', 'sin(-65)', 'sqrt(-3)', 'cos(-75)', 'sin(-64)', 'cos(-35)', 'sqrt(-4)', 'cos(-64)', 'cos(-87)', 'sqrt(-7)', 'sin(-45)', 'sqrt(-5)']\n",
      "5 ['sin(-5)', 'sin(-3)', 'cos(-4)', 'sin(-8)']\n",
      "6 ['sqrt(-3353)', 'sqrt(-635858)', 'cos(-36.33)', 'sqrt(-5554)', 'sqrt(-5535)']\n",
      "8 ['sin(-556)', 'cos(-55433)', 'sin(-33)', 'sin(-77)', 'cos(-545)', 'cos(-735.54)', 'sqrt(-33.65)', 'sqrt(-5.6)', 'sqrt(-55.847)', 'sqrt(-4.7)', 'sqrt(-6363.553)', 'sqrt(-575774577)', 'cos(-6553643)', 'sqrt(-33)', 'sqrt(-35334)', 'cos(-3553)', 'sqrt(-4755774)', 'sqrt(-3353753)', 'sin(-555)', 'sqrt(-53.683)', 'sin(-833663)', 'sqrt(-4344565435783375.6)', 'sin(-56.43565)', 'sin(-33754375557.5)', 'sqrt(-5.5745345)', 'sqrt(-55438)', 'sqrt(-455555)', 'sin(-77545)', 'sqrt(-6763566)']\n",
      "3 ['cos(-734)', 'sin(-735)', 'sin(-653)', 'sqrt(-57)', 'sqrt(-74)', 'sqrt(-53)', 'sin(-834)', 'sqrt(-36)', 'sqrt(-46)']\n",
      "4 ['sqrt(-3.35)', 'sin(-53644)', 'sqrt(-7363)', 'sqrt(-3.53)', 'cos(-354.3)', 'sqrt(-4577)', 'cos(-34855)', 'sqrt(-4575)']\n",
      "7 ['sin(-3545)', 'sqrt(-575)', 'sqrt(-545)', 'sqrt(-665)', 'sqrt(-787)']\n",
      "2 8\n",
      "1 12\n",
      "5 4\n",
      "6 5\n",
      "8 29\n",
      "3 9\n",
      "4 8\n",
      "7 5\n",
      "EvoGFuzz found 167 bug-triggering inputs!\n"
     ]
    }
   ],
   "source": [
    "found_exception_inputs = epp.fuzz()\n",
    "print(f\"EvoGFuzz found {len(found_exception_inputs)} bug-triggering inputs!\")"
   ]
  },
  {
   "cell_type": "markdown",
   "metadata": {},
   "source": [
    "Lastly, we can examine the inputs that resulted in exceptions. This output can provide valuable insight into potential weaknesses in the 'calculator' function that need to be addressed."
   ]
  },
  {
   "cell_type": "code",
   "execution_count": null,
   "metadata": {},
   "outputs": [],
   "source": [
    "# print only the first 20 bug-triggering inputs\n",
    "for inp in list(found_exception_inputs)[:20]:\n",
    "    print(str(inp))"
   ]
  },
  {
   "cell_type": "code",
   "execution_count": 14,
   "metadata": {
    "scrolled": true
   },
   "outputs": [
    {
     "name": "stdout",
     "output_type": "stream",
     "text": [
      "7 ['sqrt(1992)', 'tan(9141)', 'cos(94992)', 'sqrt(9144)', 'sqrt(911)', 'tan(19294)']\n",
      "6 ['tan(11111)', 'sqrt(99)', 'tan(99)', 'sqrt(44)', 'tan(44)', 'tan(22)', 'cos(9191)', 'sqrt(214)']\n",
      "1 ['cos(91)', 'cos(92)', 'tan(19)', 'cos(49)', 'cos(29)', 'cos(19)', 'tan(91)', 'cos(94)']\n",
      "2 ['sqrt(4)', 'sqrt(9)', 'tan(14)', 'sqrt(1)', 'sqrt(2)', 'cos(24)', 'tan(12)', 'tan(41)', 'tan(29)', 'cos(21)']\n",
      "5 ['sqrt(111)', 'sqrt(11299)', 'cos(111)', 'tan(111)']\n",
      "3 ['tan(1)', 'cos(9)', 'cos(4)', 'cos(2)', 'tan(9)', 'cos(1)', 'tan(2)', 'tan(4)']\n",
      "4 ['sqrt(14)', 'sqrt(24)', 'tan(421)', 'cos(294)', 'sqrt(91)', 'sqrt(94)', 'sqrt(42)', 'sqrt(19)']\n",
      "7 6\n",
      "6 8\n",
      "1 8\n",
      "2 10\n",
      "5 4\n",
      "3 8\n",
      "4 8\n",
      "4 ['sin(-1)', 'cos(-8)', 'cos(-1)', 'cos(76)', 'cos(-4)', 'sin(-7)', 'sin(-3)', 'cos(24)', 'cos(-5)', 'cos(-2)', 'sin(18)', 'cos(79)', 'tan(38)', 'tan(53)', 'tan(-5)']\n",
      "7 ['cos(-3267726.43)', 'tan(8)', 'cos(-957)', 'tan(69236466)', 'cos(919.5)', 'cos(242.5)', 'tan(-8.365118)', 'cos(5.53451)', 'cos(238312.44)', 'cos(6)', 'cos(7)', 'cos(1)', 'cos(3)']\n",
      "3 ['tan(517.2)', 'sin(-41.2)', 'tan(-5.28)', 'tan(16.92)', 'tan(7.7)', 'tan(-83.4)', 'cos(-24.9)']\n",
      "5 ['cos(-1.67177)', 'cos(-9.5157)', 'sin(-5.95)', 'cos(-533.5863)', 'sin(-6.77689)', 'sin(-43191.773)', 'tan(-4)', 'cos(-37.72981)', 'tan(-6211.82)', 'cos(528965.5)', 'cos(-771.3)']\n",
      "9 ['tan(95.5)', 'cos(-8.4)', 'cos(-295)', 'tan(318.79)', 'tan(6256)', 'cos(73.3)', 'sin(45.5)', 'cos(-449)', 'cos(-6.8)', 'cos(-9.5)', 'tan(-494)']\n",
      "2 ['sin(7.231)', 'cos(-8794)', 'cos(-59.6)', 'sin(958.3)', 'cos(6.298)', 'tan(-33)', 'tan(65.41)', 'cos(-39.4)']\n",
      "8 ['cos(82.6539)', 'cos(-33.2)', 'tan(6.58)', 'sqrt(381)', 'sin(-6.4)', 'tan(-3.11)', 'tan(-662.12)', 'cos(868.4)', 'sin(3.65149)', 'sin(-1.6)', 'sin(-3241.5)', 'sin(926.6)', 'tan(-7.3486)']\n",
      "1 ['cos(-16)', 'tan(245)', 'sin(-45)', 'sin(4.5)', 'cos(513)', 'tan(8.2)', 'cos(7.9)', 'sin(-75)', 'cos(-83)', 'sin(-46)', 'cos(-82)', 'sin(8.3)', 'cos(592)']\n",
      "6 ['sin(5)', 'sin(2)', 'sin(9)', 'sin(7)']\n",
      "4 15\n",
      "7 13\n",
      "3 7\n",
      "5 11\n",
      "9 11\n",
      "2 8\n",
      "8 13\n",
      "1 13\n",
      "6 4\n",
      "5 ['tan(-916)', 'tan(-1.7)', 'tan(-687)', 'cos(-11)', 'tan(-67.8)', 'tan(-7.1)', 'tan(-83)']\n",
      "2 ['tan(-8.83217727)', 'cos(-27137.9)', 'cos(-31252)', 'cos(-7617912.8)', 'cos(-87.411)', 'cos(-67.11)', 'cos(-873.6)', 'cos(-7.1327)', 'cos(-2.742)', 'cos(-73.83)', 'cos(-7.75917)', 'cos(-72.74)', 'cos(-28.32)', 'cos(-9921.21)', 'cos(-277.23872877)', 'cos(-857.9)', 'tan(-771.1)', 'cos(-133.9)', 'cos(-787.712)', 'cos(-72981.977124988)']\n",
      "7 ['cos(-771111)', 'cos(-31)', 'cos(-3.229881)', 'cos(-2.2)', 'cos(-978.511761)', 'cos(-5747)', 'cos(-81)', 'cos(-62.2)', 'tan(-811.8787411774)', 'cos(-135.72)', 'cos(-19)', 'cos(-93146)', 'cos(-83.715)', 'cos(-831621.3)', 'cos(-77.1)', 'cos(-211876.72122778)', 'cos(-41.855)', 'cos(-9.2941295)', 'cos(-27.7)', 'cos(-46)']\n",
      "3 ['cos(-4.15)', 'cos(-6.14)', 'cos(-3.78)', 'cos(-2.75)', 'cos(-2.67)', 'cos(-1627)']\n",
      "6 ['tan(-5.8972)', 'tan(-29.77)', 'tan(-1.21)', 'cos(-11128.819661)', 'cos(-18142877911218.2)', 'cos(-7616)', 'cos(-177.868)', 'cos(-14777.2121)', 'cos(-1.2827)', 'tan(-618723)', 'cos(-65874)', 'cos(-73.73)']\n",
      "8 ['cos(-879.1)', 'cos(-712.8)', 'cos(-7.281)']\n",
      "9 ['cos(-1.7)', 'cos(-1.3)', 'cos(-5.3)', 'cos(-1.8)', 'cos(-7.9)', 'cos(-8.7)', 'cos(-127)', 'cos(-713)', 'cos(-7.5)']\n",
      "4 ['cos(-7824538.111)', 'cos(-42797.61)', 'cos(-22819.76)', 'cos(-1.7817)', 'cos(-76.34275)']\n",
      "1 ['cos(-8)', 'cos(-1)', 'cos(-7)', 'cos(-4)', 'cos(-9)', 'cos(-3)']\n",
      "5 7\n",
      "2 20\n",
      "7 20\n",
      "3 6\n",
      "6 12\n",
      "8 3\n",
      "9 9\n",
      "4 5\n",
      "1 6\n",
      "8 ['cos(-836.36)', 'cos(-88)', 'cos(-4666326832)', 'cos(-886.89)', 'cos(-33)', 'cos(-3282.3)', 'tan(-88)']\n",
      "6 ['cos(-12)', 'cos(-36)', 'cos(-26)', 'cos(-28)', 'cos(-24)', 'cos(-68)', 'cos(-38)', 'cos(-83)', 'cos(-25)', 'cos(-23)', 'cos(-82)']\n",
      "3 ['cos(-683)', 'cos(-238)', 'cos(-2.8)', 'cos(-528)', 'cos(-286)', 'cos(-582)', 'cos(-6.8)', 'cos(-6.2)']\n",
      "2 ['cos(-926)', 'cos(-462)', 'cos(-7.6)', 'cos(-1.2)', 'cos(-8.1)']\n",
      "4 ['tan(-86)', 'tan(-2)', 'tan(-687)']\n",
      "5 ['tan(-6)', 'tan(-7)', 'tan(-1.5828)', 'cos(-883)', 'cos(-21.7323)', 'cos(-8862.28)', 'cos(-58.11)', 'cos(-2.868)', 'cos(-56843)', 'cos(-9868)', 'cos(-88.22)', 'tan(-8)', 'cos(-58888)', 'tan(-29876)', 'tan(-8689)', 'cos(-398.368)', 'cos(-8656)', 'cos(-2.352265)', 'cos(-368866)', 'cos(-3588.223)']\n",
      "1 ['cos(-1)', 'cos(-8)', 'cos(-7)', 'cos(-6)', 'cos(-9)', 'cos(-5)', 'cos(-2)', 'cos(-3)']\n",
      "7 ['cos(-6132)', 'cos(-68.1)', 'cos(-32.6)', 'cos(-3.72)', 'cos(-7.52)']\n",
      "8 7\n",
      "6 11\n",
      "3 8\n",
      "2 5\n",
      "4 3\n",
      "5 20\n",
      "1 8\n",
      "7 5\n",
      "2 ['sqrt(-32)', 'sqrt(-83)', 'tan(-528)', 'cos(-852)', 'sqrt(-23)', 'cos(-825)']\n",
      "3 ['cos(-8)', 'tan(-2)', 'cos(-5)', 'cos(-2)', 'cos(-3)', 'tan(-8)', 'tan(-3)']\n",
      "1 ['tan(-58)', 'sqrt(-3)', 'cos(-28)', 'sqrt(-2)', 'cos(-52)', 'cos(-82)', 'cos(-83)', 'cos(-23)', 'sqrt(-8)', 'sqrt(-5)']\n",
      "5 ['cos(-288238)', 'cos(-388828)', 'sin(-8)', 'sin(-5)', 'sqrt(-8538)', 'cos(-28388)', 'cos(-58385)']\n",
      "6 ['cos(-88)', 'sqrt(-88)', 'sqrt(-882228)', 'tan(-383)', 'sqrt(-588)', 'cos(-8388)', 'tan(-88)']\n",
      "4 ['cos(-828)', 'cos(-282)', 'cos(-882)', 'cos(-838)']\n",
      "2 6\n",
      "3 7\n",
      "1 10\n",
      "5 7\n",
      "6 7\n",
      "4 4\n",
      "7 ['cos(-888582)', 'cos(-825888)']\n",
      "8 ['sqrt(5883)', 'sqrt(88852)', 'sqrt(8288)', 'sqrt(828288558)', 'sqrt(8283)', 'cos(8888888)', 'tan(-2888)', 'cos(-8838)', 'sqrt(-888282888858528)', 'sqrt(88)', 'cos(328882)', 'sqrt(8883858838888)', 'cos(8222)', 'tan(-885288888)', 'sqrt(-88888)', 'sqrt(-888)', 'tan(858352)', 'tan(88888388852588)', 'sqrt(2828)']\n",
      "5 ['cos(8)', 'tan(8)', 'sqrt(-83)', 'cos(-8382588)']\n",
      "3 ['sqrt(-8888)', 'sqrt(88888)', 'sqrt(-3888888)', 'sqrt(88888882)', 'sqrt(883)', 'sqrt(8888)', 'sqrt(-88)', 'sqrt(-8888883288888)', 'sqrt(-88322888888525)', 'sqrt(8882228)', 'sqrt(828)', 'tan(838288828)', 'cos(-528828288)']\n",
      "2 ['cos(2888)', 'cos(-888)', 'sqrt(888)']\n",
      "6 ['cos(83)', 'cos(825)', 'cos(-8)', 'cos(-28)', 'sqrt(8)', 'cos(58)', 'cos(-85)', 'sqrt(85)', 'sqrt(-8)', 'tan(-8)', 'tan(-3)']\n",
      "1 ['sqrt(-8355)', 'cos(8383)', 'cos(-288)', 'cos(-558)', 'tan(888)', 'cos(855288828)', 'cos(8888)', 'sqrt(-2838888)', 'sqrt(-288)', 'cos(882)', 'cos(323)', 'cos(3858)', 'sqrt(8588882)', 'sqrt(5)', 'sqrt(3)']\n",
      "4 ['cos(5)', 'cos(3)', 'tan(5)', 'tan(3)']\n",
      "7 2\n",
      "8 19\n",
      "5 4\n",
      "3 13\n",
      "2 3\n",
      "6 11\n",
      "1 15\n",
      "4 4\n",
      "3 ['cos(-8)', 'sqrt(5)', 'tan(-2)', 'sqrt(2)', 'sqrt(8)', 'cos(-5)', 'cos(-3)', 'cos(38)', 'tan(-5)', 'sqrt(3)']\n",
      "1 ['tan(328)', 'cos(-28)', 'sqrt(-3)', 'sqrt(-2)', 'tan(-85)', 'cos(528)', 'sqrt(28)', 'cos(-83)', 'cos(-85)', 'sqrt(85)', 'sqrt(-8)', 'sqrt(-5)']\n",
      "2 ['tan(8)', 'tan(5)', 'tan(3)', 'cos(5)', 'tan(2)', 'cos(8)', 'cos(3)']\n",
      "4 ['sqrt(-885)', 'cos(-388)', 'tan(-858)', 'sqrt(-55)', 'sqrt(-355)']\n",
      "5 ['sqrt(-23)', 'sqrt(-85)']\n",
      "6 ['sqrt(88)', 'tan(-88)', 'cos(-88)']\n",
      "3 10\n",
      "1 12\n",
      "2 7\n",
      "4 5\n",
      "5 2\n",
      "6 3\n",
      "1 ['sqrt(47)', 'sqrt(41)', 'sqrt(-1)', 'sqrt(-3)', 'sqrt(14)', 'sqrt(-4)', 'sqrt(-7)', 'sqrt(43)', 'sqrt(-8)', 'sqrt(-5)']\n",
      "4 ['tan(-66867)', 'sqrt(331)', 'sqrt(-3827)', 'sqrt(567856)', 'tan(-6)', 'tan(96)', 'sqrt(13676)', 'sqrt(24724)', 'sqrt(-7167)', 'sqrt(422)', 'tan(-774)', 'tan(-1588)', 'tan(-62877)', 'tan(-8)']\n",
      "5 ['tan(-174)', 'sqrt(-441)', 'tan(-642)', 'sqrt(-12639)', 'tan(-966146)', 'tan(11)', 'tan(-198)', 'sqrt(4834)']\n",
      "2 ['sqrt(-6)', 'sqrt(76)', 'sqrt(36)', 'sqrt(-2)', 'sqrt(62)', 'sqrt(25)', 'tan(-71)', 'sqrt(67)', 'tan(-64)', 'sqrt(42)', 'sqrt(23)', 'tan(-84)']\n",
      "7 ['sqrt(156)', 'sqrt(-86)', 'sqrt(967)', 'sqrt(-67)', 'sqrt(-78)', 'sqrt(-58)', 'sqrt(782)', 'sqrt(-12)', 'sqrt(854)', 'sqrt(263)']\n",
      "3 ['tan(7)', 'tan(1)', 'tan(3)', 'tan(6)', 'tan(4)']\n",
      "6 ['sqrt(-764)', 'sqrt(66)', 'sqrt(-137)', 'sqrt(-629)', 'sqrt(-475)', 'sqrt(-739)', 'sqrt(-581)']\n",
      "8 ['sqrt(7)', 'sqrt(4)', 'sqrt(9)', 'sqrt(6)', 'sqrt(1)', 'sqrt(2)', 'sqrt(8)', 'sqrt(5)']\n",
      "1 10\n",
      "4 14\n",
      "5 8\n",
      "2 12\n",
      "7 10\n",
      "3 5\n",
      "6 7\n",
      "8 8\n",
      "8 ['sqrt(-8329)', 'sqrt(8242)', 'sqrt(-848311)', 'sqrt(819712)', 'sqrt(-5431)', 'sqrt(-37691)', 'sqrt(-9131)', 'sqrt(57154)', 'sqrt(-2728)', 'sqrt(-4131)', 'sqrt(-2167)', 'sqrt(-31169)', 'sqrt(-55)', 'sqrt(-78975)', 'sqrt(-2454)', 'sqrt(-794118)']\n",
      "1 ['sqrt(-65)', 'sqrt(-87)', 'sqrt(-81)', 'sqrt(-32)', 'sqrt(-24)', 'sqrt(-71)', 'sqrt(-86)', 'sqrt(-16)', 'sqrt(-48)', 'sqrt(-85)', 'sqrt(-53)', 'sqrt(-62)', 'sqrt(-69)', 'sqrt(-21)', 'sqrt(-12)', 'sqrt(-47)', 'sqrt(-82)']\n",
      "4 ['sqrt(-6)', 'sqrt(-1)', 'sqrt(-3)', 'sqrt(-2)', 'sqrt(-9)', 'sqrt(-4)', 'sqrt(-8)', 'sqrt(-5)']\n",
      "2 ['sqrt(-937)', 'sqrt(-815)', 'sqrt(5718)', 'sqrt(-163)', 'sqrt(-761)', 'sqrt(-632)', 'sqrt(-967)', 'sqrt(7168)', 'sqrt(-157)']\n",
      "6 ['sqrt(7)', 'sqrt(-8175942)', 'sqrt(6)', 'sqrt(1)', 'sqrt(2)', 'sqrt(5)', 'sqrt(3)']\n",
      "7 ['sqrt(51925987)', 'sqrt(875797)', 'sqrt(66)', 'sqrt(11)']\n",
      "3 ['sqrt(59)', 'sqrt(25)', 'sqrt(69)', 'sqrt(61)', 'sqrt(68)']\n",
      "5 ['sqrt(591)', 'sqrt(489)']\n",
      "8 16\n",
      "1 17\n",
      "4 8\n",
      "2 9\n",
      "6 7\n",
      "7 4\n",
      "3 5\n",
      "5 2\n"
     ]
    },
    {
     "name": "stdout",
     "output_type": "stream",
     "text": [
      "3 ['sqrt(-75)', 'sqrt(981)', 'sqrt(-71)', 'sqrt(-79)', 'sqrt(278)', 'sqrt(-48)', 'sqrt(-67)', 'sqrt(-69)', 'sqrt(715)', 'sqrt(247)', 'sqrt(915)', 'sqrt(451)', 'sqrt(-12)', 'sqrt(-27)', 'sqrt(-46)']\n",
      "8 ['sqrt(177)', 'sqrt(-7589)', 'sqrt(89714)', 'sqrt(-9916)', 'sqrt(-88)', 'sqrt(727)', 'sqrt(557)', 'sqrt(-9198)', 'sqrt(797)']\n",
      "7 ['sqrt(57957)', 'sqrt(99887)', 'sqrt(4593474)', 'sqrt(1782191)', 'sqrt(79678569)', 'sqrt(68558)', 'sqrt(-19771)']\n",
      "9 ['sqrt(9995)', 'sqrt(-192817)', 'sqrt(-37977577779)', 'sqrt(585)', 'sqrt(-975711)', 'sqrt(-67288781)', 'sqrt(73888)', 'sqrt(97757)', 'sqrt(8797)']\n",
      "2 ['sqrt(7)', 'sqrt(9)', 'sqrt(4)', 'sqrt(6)', 'sqrt(8)', 'sqrt(5)']\n",
      "5 ['sqrt(-968)', 'sqrt(2679)', 'sqrt(-295)', 'sqrt(9865)', 'sqrt(-159)', 'sqrt(-695)']\n",
      "1 ['sqrt(-6)', 'sqrt(-3)', 'sqrt(-9)', 'sqrt(65)', 'sqrt(-4)', 'sqrt(25)', 'sqrt(-7)', 'sqrt(-5)', 'sqrt(96)', 'sqrt(78)', 'sqrt(72)', 'sqrt(89)', 'sqrt(58)', 'sqrt(17)', 'sqrt(52)', 'sqrt(79)', 'sqrt(67)', 'sqrt(68)', 'sqrt(-8)', 'sqrt(97)']\n",
      "6 ['sqrt(-339)', 'sqrt(6778)', 'sqrt(-711)', 'sqrt(-799)', 'sqrt(-994)', 'sqrt(-959)', 'sqrt(7993)', 'sqrt(-28915)']\n",
      "4 ['sqrt(99)', 'sqrt(33)', 'sqrt(55)']\n",
      "3 15\n",
      "8 9\n",
      "7 7\n",
      "9 9\n",
      "2 6\n",
      "5 6\n",
      "1 20\n",
      "6 8\n",
      "4 3\n",
      "EvoGFuzz found 100 bug-triggering inputs!\n"
     ]
    }
   ],
   "source": [
    "epp = EvoGFuzz(\n",
    "    grammar=CALCGRAMMAR,\n",
    "    oracle=oracle,\n",
    "    inputs=initial_inputs,\n",
    "    iterations=10,\n",
    "    tournament_selection_mode = Tournament_Selection_Mode.HIERARCHICAL_JARO\n",
    ")\n",
    "found_exception_inputs = epp.fuzz()\n",
    "print(f\"EvoGFuzz found {len(found_exception_inputs)} bug-triggering inputs!\")"
   ]
  },
  {
   "cell_type": "code",
   "execution_count": 19,
   "metadata": {},
   "outputs": [
    {
     "name": "stdout",
     "output_type": "stream",
     "text": [
      "2 ['tan(49)', 'tan(492)', 'tan(99)', 'tan(944)', 'tan(44)', 'tan(2944)', 'tan(922)', 'tan(42)', 'tan(9)', 'tan(2)', 'tan(4)']\n",
      "1 ['tan(2912)', 'tan(4291)', 'tan(1)', 'tan(14)', 'tan(4192)', 'tan(91)', 'tan(19)', 'tan(41919)', 'tan(41)', 'tan(219)']\n",
      "4 ['cos(91)', 'cos(41)', 'cos(1219)', 'cos(9)', 'cos(29)', 'cos(4)', 'cos(21)', 'cos(129)', 'cos(2)', 'cos(14)', 'cos(94)']\n",
      "5 ['sqrt(42294)', 'sqrt(9224)', 'sqrt(914)', 'sqrt(94)', 'sqrt(92941)']\n",
      "6 ['sqrt(41)', 'sqrt(4)', 'sqrt(9)', 'sqrt(14)', 'sqrt(1)', 'sqrt(2)', 'sqrt(11)', 'sqrt(91)', 'sqrt(19)']\n",
      "3 ['cos(1)', 'cos(11)']\n",
      "2 11\n",
      "1 10\n",
      "4 11\n",
      "5 5\n",
      "6 9\n",
      "3 2\n",
      "1 ['tan(1949239)', 'tan(49492111)', 'tan(195199)', 'tan(9191)', 'tan(21999)', 'tan(9151945)', 'tan(99329)']\n",
      "5 ['tan(39)', 'tan(49)', 'tan(99)', 'tan(19)', 'tan(59)', 'tan(395)', 'tan(392)', 'tan(192394)', 'tan(9)', 'tan(1)', 'tan(192)', 'tan(29563)', 'tan(41)', 'tan(13)', 'tan(919445)', 'tan(28396432)', 'tan(12193)', 'tan(91)', 'tan(9134)', 'tan(21592)', 'tan(97)', 'tan(61)', 'tan(91421)', 'tan(11)']\n",
      "2 ['tan(82)', 'tan(325)', 'tan(2421)', 'tan(22)', 'tan(12)', 'tan(52)', 'tan(2245)', 'tan(2)', 'tan(2618)']\n",
      "4 ['tan(7)', 'tan(5)', 'tan(3)', 'tan(6)', 'tan(4934)', 'tan(7549644)', 'tan(43)', 'tan(436)', 'tan(354)', 'tan(4)', 'tan(73)']\n",
      "7 ['sqrt(546)', 'sqrt(57)', 'sqrt(74)', 'sqrt(43)', 'sqrt(3)']\n",
      "6 ['sqrt(924)', 'sqrt(2299)', 'sqrt(5921466)', 'sqrt(914)']\n",
      "8 ['sqrt(9)', 'sqrt(1)', 'sqrt(2)', 'sqrt(439)', 'sqrt(42)']\n",
      "3 ['tan(21125)', 'tan(2962245)', 'tan(229927)', 'tan(2211)']\n",
      "1 7\n",
      "5 24\n",
      "2 9\n",
      "4 11\n",
      "7 5\n",
      "6 4\n",
      "8 5\n",
      "3 4\n",
      "5 ['sqrt(717)', 'sqrt(97798)', 'sqrt(789379)', 'sqrt(975774339)', 'sqrt(7699)', 'sqrt(3577)', 'sqrt(77)', 'sqrt(7963879)', 'sqrt(827929)', 'sqrt(976336777293)']\n",
      "8 ['sqrt(38)', 'sqrt(682)', 'sqrt(83)', 'sqrt(853644)', 'sqrt(8839)', 'sqrt(98)', 'sqrt(886)', 'sqrt(8689)', 'sqrt(8)', 'sqrt(89)', 'sqrt(836)', 'sqrt(8683)', 'sqrt(9638)', 'sqrt(683)', 'sqrt(1368)', 'sqrt(289)']\n",
      "1 ['tan(8)', 'tan(32889)', 'tan(998867887)', 'tan(998)', 'tan(47885796)', 'tan(1923299398)', 'tan(9)']\n",
      "6 ['sqrt(926669)', 'sqrt(293639)', 'sqrt(63)', 'sqrt(6)', 'sqrt(9313)', 'sqrt(1)', 'sqrt(2)', 'sqrt(19)', 'sqrt(263)', 'sqrt(3)', 'sqrt(9)', 'sqrt(96)', 'sqrt(3338)', 'sqrt(33)', 'sqrt(69)', 'sqrt(5496)', 'sqrt(5553)', 'sqrt(91)', 'sqrt(29)', 'sqrt(31)']\n",
      "2 ['tan(973)', 'tan(37)']\n",
      "3 ['tan(8776)', 'tan(7)', 'tan(67679)', 'tan(77)', 'tan(787)', 'tan(737)']\n",
      "4 ['sqrt(7)', 'sqrt(76)', 'sqrt(7548)', 'sqrt(27)', 'sqrt(587)', 'sqrt(173)', 'sqrt(378)', 'sqrt(719)', 'sqrt(876)', 'sqrt(723)', 'sqrt(6973)', 'sqrt(118732)']\n",
      "7 ['sqrt(288687)', 'sqrt(8868897)']\n",
      "5 10\n",
      "8 16\n",
      "1 7\n",
      "6 20\n",
      "2 2\n",
      "3 6\n",
      "4 12\n",
      "7 2\n",
      "7 ['tan(8)', 'tan(39)', 'tan(5)', 'tan(8998)', 'tan(659)', 'tan(689)', 'tan(9)', 'tan(89)', 'tan(4)']\n",
      "5 ['tan(877)', 'tan(887731)', 'tan(7748)', 'tan(779)', 'tan(869777)', 'tan(6835737)']\n",
      "3 ['sqrt(677)', 'sqrt(777)', 'sqrt(9977789)', 'sqrt(7773)', 'sqrt(737)', 'sqrt(7779)', 'sqrt(7796)', 'sqrt(877)', 'sqrt(66853777)', 'sqrt(7756)', 'sqrt(78759)', 'sqrt(797835367)', 'sqrt(77)', 'sqrt(73973)', 'sqrt(7578)', 'sqrt(7778)', 'sqrt(789867586677)']\n",
      "6 ['tan(7)', 'tan(89378)', 'tan(37589)', 'tan(5795)', 'tan(37)', 'tan(579)', 'tan(8897789)', 'tan(73)']\n",
      "4 ['sqrt(5777777197771899497)']\n",
      "1 ['sqrt(935)', 'sqrt(9)', 'sqrt(96)', 'sqrt(6)', 'sqrt(99)', 'sqrt(1)', 'sqrt(486)', 'sqrt(898)', 'sqrt(995)', 'sqrt(89)', 'sqrt(8)', 'sqrt(88)', 'sqrt(98994)', 'sqrt(5)', 'sqrt(3)']\n",
      "2 ['sqrt(675)', 'sqrt(9878)', 'sqrt(7)', 'sqrt(76)', 'sqrt(687)', 'sqrt(758918)', 'sqrt(78)', 'sqrt(79)', 'sqrt(7665)', 'sqrt(799)', 'sqrt(61879599)', 'sqrt(7916)', 'sqrt(735)', 'sqrt(87)', 'sqrt(7688)']\n",
      "8 ['tan(888)']\n",
      "7 9\n",
      "5 6\n",
      "3 17\n",
      "6 8\n",
      "4 1\n",
      "1 15\n",
      "2 15\n",
      "8 1\n",
      "7 ['tan(887738)', 'tan(8897)', 'tan(88785)', 'tan(88784)', 'tan(878)', 'tan(888734)']\n",
      "4 ['tan(7383)', 'tan(87)', 'tan(37)', 'tan(75)', 'tan(379)', 'tan(7)', 'tan(47)', 'tan(357)', 'tan(4875)', 'tan(7.84)', 'tan(47584)', 'tan(78)', 'tan(79)', 'tan(76)', 'tan(97)', 'tan(738)', 'tan(3.78)', 'tan(74)', 'tan(73)']\n",
      "5 ['tan(8)', 'tan(39)', 'tan(5)', 'tan(3)', 'tan(96)', 'tan(36)', 'tan(45)', 'tan(33)', 'tan(86)', 'tan(85)', 'tan(9)', 'tan(89)', 'tan(54)', 'tan(4)']\n",
      "3 ['tan(377)', 'tan(7387738)', 'tan(877)', 'tan(577)', 'tan(787.7)', 'tan(87477)', 'tan(778)', 'tan(77)', 'tan(779)', 'tan(787)', 'tan(677)']\n",
      "1 ['tan(7777)', 'tan(777977)', 'tan(774.77677)']\n",
      "2 ['tan(778767)', 'tan(777)', 'tan(97775)', 'tan(47.747)']\n",
      "6 ['tan(5788988)', 'tan(888)']\n",
      "7 6\n",
      "4 19\n",
      "5 14\n",
      "3 11\n",
      "1 3\n",
      "2 4\n",
      "6 2\n",
      "4 ['tan(3.74777)', 'tan(7.77)', 'tan(777.78)', 'tan(777)', 'tan(77.7)']\n",
      "6 ['tan(67)', 'tan(8.47)', 'tan(7)', 'tan(4.78)', 'tan(97)', 'tan(88.7)', 'tan(7.9)', 'tan(4.7)', 'tan(9.7)', 'tan(6.74)', 'tan(7.4)', 'tan(7.6)', 'tan(78)', 'tan(8.74)', 'tan(74)']\n",
      "2 ['tan(8)', 'tan(6.9)', 'tan(447.4)', 'tan(43)', 'tan(9.6)', 'tan(9)', 'tan(4.8)', 'tan(4)']\n",
      "5 ['tan(377)', 'tan(7.47)', 'tan(747)', 'tan(7847.9)', 'tan(787.8)', 'tan(77)', 'tan(77.8)', 'tan(7.7)', 'tan(3.77)', 'tan(67.7)', 'tan(79.477)', 'tan(7.74)']\n",
      "3 ['tan(7777.7)', 'tan(7.7777)']\n",
      "1 ['tan(44)', 'tan(4.4)']\n",
      "4 5\n",
      "6 15\n",
      "2 8\n",
      "5 12\n",
      "3 2\n",
      "1 2\n",
      "2 ['tan(7.477)', 'tan(-774.7)', 'tan(-77.7)', 'tan(-74747.77)', 'tan(-777)', 'tan(-74.77)', 'tan(77)', 'tan(-7.77)', 'tan(-77.74)', 'tan(-77)', 'tan(7.7)', 'tan(-7.7)']\n",
      "3 ['tan(-47.7)', 'tan(-74.7)', 'tan(7)', 'tan(-747)', 'tan(-7)', 'tan(-77.4)', 'tan(-47.477)']\n",
      "4 ['tan(-47)', 'tan(-74)', 'tan(-7.4)', 'tan(-4.7)', 'tan(7.4)', 'tan(74.4)']\n",
      "1 ['tan(77.77)', 'tan(7.77)', 'tan(-7.7777)', 'tan(77.777)', 'tan(-777.7)', 'tan(777)', 'tan(-7.777)', 'tan(-777477)', 'tan(-74777.477777)', 'tan(-7777)', 'tan(77.7)', 'tan(7.77777)', 'tan(-7777.7)']\n",
      "5 ['tan(-4)']\n",
      "6 ['tan(-44.47)']\n",
      "2 12\n",
      "3 7\n",
      "4 6\n",
      "1 13\n",
      "5 1\n",
      "6 1\n",
      "8 ['sin(-777.4)', 'sin(-747.7)', 'cos(-47.77)', 'cos(-74.47777)', 'cos(4777477.4)', 'cos(-477.7474)', 'cos(-77.74)', 'cos(-7.774)', 'sin(7.74)', 'cos(-74774.7)', 'cos(-4.777)']\n",
      "3 ['tan(44.777)', 'tan(444777.7)', 'sin(-74)', 'tan(47)', 'tan(47.7)', 'tan(-747744.7)', 'tan(-7.4)', 'tan(4.7)', 'tan(-47447.7)', 'tan(774)', 'tan(44.77)', 'sin(-4.774)', 'tan(-4.7)', 'tan(-4.74)', 'tan(44.7)', 'tan(-74.4)']\n",
      "6 ['tan(-77.7)', 'tan(7)', 'tan(-7)', 'sin(7)', 'tan(-7.7477)', 'tan(-7.7)']\n",
      "2 ['sin(4.4)', 'tan(-4.44)', 'cos(-4.4)', 'sin(-4)', 'tan(44.4)', 'tan(-4.444)', 'sin(-44)']\n",
      "7 ['cos(-7)', 'cos(7.7)', 'cos(-77.7)', 'sin(777.7)', 'cos(-777.747)', 'tan(-777777.7)', 'cos(-7.7)']\n",
      "4 ['sqrt(477.4)', 'sqrt(47)', 'sqrt(-4.47)', 'sqrt(-7.447)', 'sqrt(-474.7)', 'sqrt(-74)', 'sqrt(-74.74)', 'sqrt(-7.44)', 'sqrt(7474447.4)', 'sqrt(-7.4)', 'sqrt(-4774.47)', 'sqrt(7.4)', 'sqrt(-77.44)', 'sqrt(-47.4)', 'sqrt(4.7)']\n",
      "5 ['sin(447.4)', 'cos(-7.4)', 'cos(-47.44)', 'cos(-4.774)', 'sin(-744)', 'cos(4.4477)', 'cos(-4744.7)', 'cos(-4.7)', 'cos(-4.474)']\n",
      "9 ['sqrt(-47.7)', 'sqrt(7)', 'sqrt(74.77)', 'sqrt(-7.7)', 'sqrt(7.4777)', 'sqrt(-777.4)', 'sqrt(-7)', 'sqrt(7.47)', 'sqrt(-4.77)', 'sqrt(-77.7)']\n",
      "1 ['sqrt(4.44)', 'sqrt(-44.4)', 'sqrt(-44)', 'sqrt(-4)', 'sqrt(-4.4)']\n",
      "8 11\n",
      "3 16\n",
      "6 6\n",
      "2 7\n",
      "7 7\n",
      "4 15\n",
      "5 9\n",
      "9 10\n",
      "1 5\n",
      "8 ['sqrt(-86.2)', 'sqrt(-3.82)', 'sqrt(-8.82)', 'sqrt(-2.38)', 'sqrt(-123.8)', 'sqrt(-65.28)', 'sqrt(-2.8)']\n",
      "4 ['cos(-39.8213)', 'cos(-892.8)', 'cos(-8.2)', 'cos(-2.8)', 'cos(-8.5)', 'cos(-1.3)', 'cos(-86.2)', 'cos(-5.32)', 'cos(-8235.5)', 'cos(-8.6)', 'cos(-2.3)', 'cos(-1.8)', 'cos(-1.6)', 'cos(-5.852)', 'cos(-58.23)', 'cos(-1.387)', 'cos(-3.6)']\n",
      "7 ['sqrt(-2.3)', 'sqrt(-72.3)', 'sqrt(-2.269)', 'sqrt(-6.822)', 'sqrt(-62.2)', 'sqrt(-12.55)', 'sqrt(-22.3)', 'sqrt(-5.2)', 'sqrt(-9322.5)', 'sqrt(-2.1)', 'sqrt(-22.2)']\n",
      "2 ['cos(-12528.99)', 'cos(-21.1)', 'cos(-82.62)', 'cos(-2.82)', 'cos(-316.262)', 'cos(-2.25)', 'cos(-6.22)', 'cos(-9215.29)', 'cos(-2)', 'cos(-2.24)', 'cos(-24)', 'cos(-561.5282)', 'cos(-225.9)']\n",
      "9 ['sqrt(-5.8)', 'sqrt(-63.8)', 'sqrt(-3.658)', 'sqrt(-9818)', 'sqrt(-8.7)', 'sqrt(-5.68)', 'sqrt(-8.9)', 'sqrt(-8.6)', 'sqrt(-3.8)', 'sqrt(-658.1)']\n",
      "1 ['cos(-98198.8)', 'cos(-3.3)', 'cos(-8)', 'cos(-713938)', 'cos(-883.38)', 'cos(-8.8)', 'cos(-3)', 'cos(-9838.8)', 'cos(-8.86)', 'cos(-338)']\n",
      "5 ['sqrt(-9)', 'sqrt(-13)', 'sqrt(-11)', 'sqrt(-4)', 'sqrt(-36)', 'sqrt(-8)', 'sqrt(-5)']\n",
      "3 ['cos(-9.9556)', 'cos(-5.5)', 'cos(-51.6953)']\n",
      "6 ['sqrt(-2)', 'sqrt(-63.1)', 'sqrt(-99.5)', 'sqrt(-53.9)', 'sqrt(-9.93)', 'sqrt(-23)', 'sqrt(-9.9)', 'sqrt(-5.53)', 'sqrt(-3.5)']\n",
      "8 7\n",
      "4 17\n",
      "7 11\n",
      "2 13\n",
      "9 10\n",
      "1 10\n",
      "5 7\n",
      "3 3\n",
      "6 9\n",
      "4 ['sqrt(-2.5)', 'sqrt(-293.25)', 'sqrt(-2)', 'sqrt(-2.6)', 'sqrt(-5.266)', 'sqrt(-6332.1)', 'sqrt(-5.28)', 'sqrt(-35.32)', 'sqrt(-6523529.85)', 'sqrt(-3.2)', 'sqrt(-2.9)', 'sqrt(-6.2)', 'sqrt(-5.2)', 'sqrt(-512.6)', 'sqrt(-2.8)', 'sqrt(-2.2)', 'sqrt(-2393.252)']\n",
      "6 ['sqrt(-2.22)', 'sqrt(-51.2922)', 'sqrt(-2222.8)', 'sqrt(-22)']\n",
      "5 ['sqrt(-33.3)', 'sqrt(-36.95)', 'sqrt(-5.3)', 'sqrt(-3)', 'sqrt(-8.33)', 'sqrt(-81.9)', 'sqrt(-95)', 'sqrt(-53)', 'sqrt(-96.5)', 'sqrt(-1.1)', 'sqrt(-9.5)', 'sqrt(-1.83)', 'sqrt(-359.3)', 'sqrt(-3.9)', 'sqrt(-3.5)', 'sqrt(-6.3)', 'sqrt(-1.6)']\n",
      "9 ['sin(-8.2)', 'cos(-8.2)', 'cos(-39.2)', 'sin(-33.9)', 'sin(-265.3)', 'cos(-9.25)', 'sin(-8.5)', 'sin(-3.6)', 'cos(-592.3)']\n",
      "2 ['tan(-825.5)', 'tan(-3.2)', 'tan(-25.9)', 'tan(-2.3)', 'tan(-8.32)', 'tan(-29.598)', 'tan(-323.2)', 'tan(-2.69)', 'tan(-86.2)', 'tan(-2.9)', 'tan(-2.58)', 'tan(-396.29)', 'tan(-19.62)']\n",
      "8 ['cos(-38.23)', 'cos(-3.1)', 'cos(-3.8)', 'cos(-93.8)', 'cos(-8.83)']\n",
      "7 ['sin(-22.23)', 'sin(-3229.2)', 'sin(-2.23)', 'sin(-122.8)', 'cos(-22.2)', 'cos(-2)', 'cos(-11.229)', 'cos(-92.91)', 'cos(-21.296)']\n",
      "1 ['tan(-65.3)', 'tan(-1.3)', 'tan(-8.5)', 'tan(-1.69)', 'tan(-1.9)', 'tan(-3.3)', 'tan(-6.9)', 'tan(-8.6)', 'tan(-8.9)', 'tan(-5)', 'tan(-3)']\n",
      "3 ['tan(-22.6)', 'tan(-2)', 'tan(-2.2692)', 'tan(-222)', 'tan(-192.2)']\n",
      "4 17\n",
      "6 4\n",
      "5 17\n",
      "9 9\n",
      "2 13\n",
      "8 5\n",
      "7 9\n",
      "1 11\n",
      "3 5\n",
      "EvoGFuzz found 97 bug-triggering inputs!\n"
     ]
    }
   ],
   "source": [
    "epp = EvoGFuzz(\n",
    "    grammar=CALCGRAMMAR,\n",
    "    oracle=oracle,\n",
    "    inputs=initial_inputs,\n",
    "    iterations=10,\n",
    "    tournament_selection_mode = Tournament_Selection_Mode.HIERARCHICAL_FEATURE_COS\n",
    ")\n",
    "found_exception_inputs = epp.fuzz()\n",
    "print(f\"EvoGFuzz found {len(found_exception_inputs)} bug-triggering inputs!\")"
   ]
  },
  {
   "cell_type": "code",
   "execution_count": 26,
   "metadata": {},
   "outputs": [
    {
     "name": "stdout",
     "output_type": "stream",
     "text": [
      "EvoGFuzz found 230 bug-triggering inputs!\n"
     ]
    }
   ],
   "source": [
    "epp = EvoGFuzz(\n",
    "    grammar=CALCGRAMMAR,\n",
    "    oracle=oracle,\n",
    "    inputs=initial_inputs,\n",
    "    iterations=10,\n",
    ")\n",
    "found_exception_inputs = epp.fuzz()\n",
    "print(f\"EvoGFuzz found {len(found_exception_inputs)} bug-triggering inputs!\")"
   ]
  },
  {
   "cell_type": "markdown",
   "metadata": {},
   "source": [
    "This process illustrates the power of evolutionary grammar-based fuzzing in identifying new defects within our system. By applying evolutionary algorithms to our fuzzing strategy, we can guide the search towards more defect-prone regions of the input space."
   ]
  },
  {
   "cell_type": "markdown",
   "metadata": {},
   "source": [
    "#### Analyzing and Sorting All Generated Inputs by Fitness"
   ]
  },
  {
   "cell_type": "markdown",
   "metadata": {},
   "source": [
    "After the fuzzing process, you may want to examine all the generated inputs. These can be accessed using the `get_all_inputs()` method. Additionally, we can sort these inputs based on their fitness scores to gain insights into which inputs performed best according to our fitness function."
   ]
  },
  {
   "cell_type": "code",
   "execution_count": 27,
   "metadata": {},
   "outputs": [],
   "source": [
    "all_generated_inputs = epp.get_all_inputs()\n",
    "all_generated_inputs_sorted = sorted(all_generated_inputs, key=lambda inp: inp.fitness, reverse=True)"
   ]
  },
  {
   "cell_type": "markdown",
   "metadata": {},
   "source": [
    "Now, let's print out these sorted inputs along with their respective fitness scores. Inputs with higher fitness scores will be displayed first, as these are the ones our evolutionary process deemed more likely to uncover potential defects."
   ]
  },
  {
   "cell_type": "code",
   "execution_count": 28,
   "metadata": {},
   "outputs": [
    {
     "name": "stdout",
     "output_type": "stream",
     "text": [
      "sqrt(-276.2513235)                       fitness: 1\n",
      "sqrt(-3.32)                              fitness: 1\n",
      "sqrt(-223)                               fitness: 1\n",
      "sqrt(-4316.2)                            fitness: 1\n",
      "sqrt(-3.6598428597)                      fitness: 1\n",
      "sqrt(-3.7691)                            fitness: 1\n",
      "sqrt(-8.557)                             fitness: 1\n",
      "sqrt(-7232535.2)                         fitness: 1\n",
      "sqrt(-3266662322.225271)                 fitness: 1\n",
      "sqrt(-12.433)                            fitness: 1\n",
      "sqrt(-858.18)                            fitness: 1\n",
      "sqrt(-858)                               fitness: 1\n",
      "sqrt(-5.66)                              fitness: 1\n",
      "sqrt(-77.5438)                           fitness: 1\n",
      "sqrt(-7.3)                               fitness: 1\n",
      "sqrt(-8.85426988736)                     fitness: 1\n",
      "sqrt(-8.772286)                          fitness: 1\n",
      "sqrt(-57777)                             fitness: 1\n",
      "sqrt(-5633)                              fitness: 1\n",
      "sqrt(-636421.6)                          fitness: 1\n"
     ]
    }
   ],
   "source": [
    "# investigate only the first 20 bug-triggering inputs\n",
    "for inp in all_generated_inputs_sorted[:20]:\n",
    "    print(f\"{str(inp).ljust(40)} fitness: {inp.fitness}\")"
   ]
  },
  {
   "cell_type": "markdown",
   "metadata": {},
   "source": [
    "This output provides an overview of the evolved inputs and their effectiveness in revealing potential defects, as gauged by our fitness function. It is a valuable resource for understanding the behavior of our program under various inputs and the effectiveness of our evolutionary grammar-based fuzzing approach."
   ]
  },
  {
   "cell_type": "markdown",
   "metadata": {},
   "source": [
    "### Incorporating Custom Fitness Functions\n",
    "\n",
    "The fitness function plays a crucial role in guiding the evolution process of our fuzzing inputs. A well-crafted fitness function can effectively direct the search towards the most promising regions of the input space.\n",
    "\n",
    "To create your own fitness function, define a function that takes an `Input` instance and returns a float value. The return value represents the 'fitness' of the given input, with higher values indicating better fitness. Here is a simple template:\n",
    "\n",
    "```python\n",
    "from evogfuzz.input import Input\n",
    "\n",
    "def fitness_function_XYZ(inp: Input) -> float:\n",
    "    # Implement your fitness function here.\n",
    "    return 0.0\n",
    "```"
   ]
  },
  {
   "cell_type": "markdown",
   "metadata": {},
   "source": [
    "For instance, suppose we're interested in inputs that invoke the cosine function in our calculator. We could define a fitness function `fitness_function_cos` that assigns a high fitness value to inputs containing 'cos'. (**Note that this might not be the best fitness function to find new expcetions.**)"
   ]
  },
  {
   "cell_type": "code",
   "execution_count": 29,
   "metadata": {},
   "outputs": [],
   "source": [
    "from difflib import SequenceMatcher\n",
    "from evogfuzz.input import Input\n",
    "\n",
    "def similar(a, b):\n",
    "    return SequenceMatcher(None, a, b).ratio()\n",
    "\n",
    "def fitness_function_XYZ(inp: Input) -> float:\n",
    "    return similar(\"sqrt(-\", str(inp)[:6])"
   ]
  },
  {
   "cell_type": "code",
   "execution_count": 30,
   "metadata": {},
   "outputs": [
    {
     "data": {
      "text/plain": [
       "'sqrt(-'"
      ]
     },
     "execution_count": 30,
     "metadata": {},
     "output_type": "execute_result"
    }
   ],
   "source": [
    "\"sqrt(-\"[:6]"
   ]
  },
  {
   "cell_type": "code",
   "execution_count": 31,
   "metadata": {},
   "outputs": [],
   "source": [
    "from evogfuzz.input import Input\n",
    "\n",
    "def fitness_function_cos(inp: Input) -> float:\n",
    "    if 'cos' in str(inp):\n",
    "        return 1.0\n",
    "    else:\n",
    "        return 0.0"
   ]
  },
  {
   "cell_type": "markdown",
   "metadata": {},
   "source": [
    "Once your fitness function is defined, you can incorporate it into the `EvoGFuzz` instance by passing it as the `fitness_function` argument. "
   ]
  },
  {
   "cell_type": "code",
   "execution_count": 34,
   "metadata": {},
   "outputs": [
    {
     "name": "stdout",
     "output_type": "stream",
     "text": [
      "EvoGFuzz found 159 bug-triggering inputs!\n",
      "sqrt(-9686)\n",
      "sqrt(-81)\n",
      "sqrt(-1)\n",
      "sqrt(-676)\n",
      "sqrt(-56)\n",
      "sqrt(-675796)\n",
      "sqrt(-865676)\n",
      "sqrt(-119)\n",
      "sqrt(-199)\n",
      "sqrt(-7618)\n",
      "sqrt(-149)\n",
      "sqrt(-911119211119291)\n",
      "sqrt(-1141141)\n",
      "sqrt(-999449)\n",
      "sqrt(-98566)\n",
      "sqrt(-918)\n",
      "sqrt(-919)\n",
      "sqrt(-949)\n",
      "sqrt(-5668)\n",
      "sqrt(-68)\n",
      "sqrt(-9999411)\n",
      "sqrt(-967563)\n",
      "sqrt(-699)\n",
      "sqrt(-29)\n",
      "sqrt(-165)\n",
      "sqrt(-738)\n",
      "sqrt(-31)\n",
      "sqrt(-8816)\n",
      "sqrt(-291)\n",
      "sqrt(-149991)\n",
      "sqrt(-669)\n",
      "sqrt(-71)\n",
      "sqrt(-11)\n",
      "sqrt(-19)\n",
      "sqrt(-429191144499)\n",
      "sqrt(-9112)\n",
      "sqrt(-49149)\n",
      "sqrt(-6)\n",
      "sqrt(-49491)\n",
      "sqrt(-675)\n",
      "sqrt(-111149)\n",
      "sqrt(-39)\n",
      "sqrt(-88)\n",
      "sqrt(-585)\n",
      "sqrt(-9944)\n",
      "sqrt(-142914)\n",
      "sqrt(-999)\n",
      "sqrt(-96)\n",
      "sqrt(-69)\n",
      "sqrt(-697)\n",
      "sqrt(-818)\n",
      "sqrt(-89)\n",
      "sqrt(-1191111991)\n",
      "sqrt(-769)\n",
      "sqrt(-8498)\n",
      "sqrt(-611)\n",
      "sqrt(-41)\n",
      "sqrt(-149194994)\n",
      "sqrt(-13)\n",
      "sqrt(-57)\n",
      "sqrt(-49)\n",
      "sqrt(-144)\n",
      "sqrt(-789)\n",
      "sqrt(-941)\n",
      "sqrt(-75671)\n",
      "sqrt(-1191)\n",
      "sqrt(-996)\n",
      "sqrt(-9194)\n",
      "sqrt(-8)\n",
      "sqrt(-117)\n",
      "sqrt(-41919)\n",
      "sqrt(-86)\n",
      "sqrt(-444191)\n",
      "sqrt(-98894)\n",
      "sqrt(-99)\n",
      "sqrt(-121)\n",
      "sqrt(-66)\n",
      "sqrt(-65)\n",
      "sqrt(-3)\n",
      "sqrt(-67)\n",
      "sqrt(-94999)\n",
      "sqrt(-1494)\n",
      "sqrt(-14)\n",
      "sqrt(-4411)\n",
      "sqrt(-77)\n",
      "sqrt(-666)\n",
      "sqrt(-9219141)\n",
      "sqrt(-7766)\n",
      "sqrt(-499)\n",
      "sqrt(-8864)\n",
      "sqrt(-991)\n",
      "sqrt(-91149119)\n",
      "sqrt(-76)\n",
      "sqrt(-46)\n",
      "sqrt(-886)\n",
      "sqrt(-2199199119)\n",
      "sqrt(-411949119)\n",
      "sqrt(-97)\n",
      "sqrt(-6566)\n",
      "sqrt(-616)\n",
      "sqrt(-8168)\n",
      "sqrt(-191914)\n",
      "sqrt(-6186)\n",
      "sqrt(-914)\n",
      "sqrt(-618)\n",
      "sqrt(-4144999)\n",
      "sqrt(-4919494141)\n",
      "sqrt(-38)\n",
      "sqrt(-796667)\n",
      "sqrt(-14141119)\n",
      "sqrt(-9257)\n",
      "sqrt(-4429)\n",
      "sqrt(-92)\n",
      "sqrt(-41992)\n",
      "sqrt(-1419)\n",
      "sqrt(-2)\n",
      "sqrt(-6687)\n",
      "sqrt(-9)\n",
      "sqrt(-96898)\n",
      "sqrt(-911)\n",
      "sqrt(-42)\n",
      "sqrt(-4)\n",
      "sqrt(-111)\n",
      "sqrt(-188)\n",
      "sqrt(-58)\n",
      "sqrt(-44491)\n",
      "sqrt(-2194)\n",
      "sqrt(-8686)\n",
      "sqrt(-7)\n",
      "sqrt(-866)\n",
      "sqrt(-94)\n",
      "sqrt(-5)\n",
      "sqrt(-191)\n",
      "sqrt(-7576318)\n",
      "sqrt(-9241)\n",
      "sqrt(-658)\n",
      "sqrt(-16)\n",
      "sqrt(-48)\n",
      "sqrt(-818668)\n",
      "sqrt(-78)\n",
      "sqrt(-1141)\n",
      "sqrt(-9769)\n",
      "sqrt(-716)\n",
      "sqrt(-494999)\n",
      "sqrt(-15)\n",
      "sqrt(-91)\n",
      "sqrt(-1646)\n",
      "sqrt(-4994)\n",
      "sqrt(-617)\n",
      "sqrt(-968)\n",
      "sqrt(-18)\n",
      "sqrt(-949914)\n",
      "sqrt(-19949111)\n",
      "sqrt(-68713)\n",
      "sqrt(-111129)\n",
      "sqrt(-77817)\n",
      "sqrt(-892)\n",
      "sqrt(-492)\n",
      "sqrt(-495)\n"
     ]
    }
   ],
   "source": [
    "epp = EvoGFuzz(\n",
    "    grammar=CALCGRAMMAR,\n",
    "    oracle=oracle,\n",
    "    inputs=initial_inputs,\n",
    "    fitness_function=fitness_function_XYZ,\n",
    "    iterations=10,\n",
    ")\n",
    "\n",
    "found_exception_inputs = epp.fuzz()\n",
    "\n",
    "print(f\"EvoGFuzz found {len(found_exception_inputs)} bug-triggering inputs!\")\n",
    "\n",
    "for inp in found_exception_inputs:\n",
    "    print(str(inp))"
   ]
  },
  {
   "cell_type": "markdown",
   "metadata": {},
   "source": [
    "This way, the evolutionary grammar-based fuzzing process is now guided by your custom fitness function, focusing more on the areas you deem critical."
   ]
  },
  {
   "cell_type": "markdown",
   "metadata": {},
   "source": [
    "#### Evaluating Inputs Based on Custom Fitness Function"
   ]
  },
  {
   "cell_type": "markdown",
   "metadata": {},
   "source": [
    "When utilizing a custom fitness function, such as `fitness_function_cos` in our case, we expect inputs containing 'cos' to achieve the highest fitness scores. This is because our fitness function assigns a score of 1.0 to any input that includes 'cos'.\n",
    "\n",
    "To confirm this behavior, we retrieve all inputs generated during the fuzzing process using the `get_all_inputs()` method and sort these inputs based on their fitness scores."
   ]
  },
  {
   "cell_type": "code",
   "execution_count": 35,
   "metadata": {},
   "outputs": [],
   "source": [
    "all_generated_inputs = epp.get_all_inputs()\n",
    "all_generated_inputs_sorted = sorted(all_generated_inputs, key=lambda inp: inp.fitness, reverse=True)"
   ]
  },
  {
   "cell_type": "markdown",
   "metadata": {},
   "source": [
    "Let's display these sorted inputs along with their fitness scores. The inputs that contain 'cos' should appear first, demonstrating their high fitness value."
   ]
  },
  {
   "cell_type": "code",
   "execution_count": 36,
   "metadata": {},
   "outputs": [
    {
     "name": "stdout",
     "output_type": "stream",
     "text": [
      "sqrt(-81)                                fitness: 1.0\n",
      "sqrt(-98566)                             fitness: 1.0\n",
      "sqrt(-9999411)                           fitness: 1.0\n",
      "sqrt(-165)                               fitness: 1.0\n",
      "sqrt(-8816)                              fitness: 1.0\n",
      "sqrt(-149991)                            fitness: 1.0\n",
      "sqrt(-111149)                            fitness: 1.0\n",
      "sqrt(-69)                                fitness: 1.0\n",
      "sqrt(-89)                                fitness: 1.0\n",
      "sqrt(-1191111991)                        fitness: 1.0\n",
      "sqrt(-769)                               fitness: 1.0\n",
      "sqrt(-13)                                fitness: 1.0\n",
      "sqrt(-144)                               fitness: 1.0\n",
      "sqrt(-789)                               fitness: 1.0\n",
      "sqrt(-941)                               fitness: 1.0\n",
      "sqrt(-86)                                fitness: 1.0\n",
      "sqrt(-99)                                fitness: 1.0\n",
      "sqrt(-94999)                             fitness: 1.0\n",
      "sqrt(-1494)                              fitness: 1.0\n",
      "sqrt(-46)                                fitness: 1.0\n"
     ]
    }
   ],
   "source": [
    "# investigate only the first 20 bug-triggering inputs\n",
    "for inp in all_generated_inputs_sorted[:20]:\n",
    "    print(f\"{str(inp).ljust(40)} fitness: {inp.fitness}\")"
   ]
  },
  {
   "cell_type": "markdown",
   "metadata": {},
   "source": [
    "The resulting output validates the effectiveness of our custom fitness function. It shows how we can guide the evolutionary grammar-based fuzzing process towards specific regions of the input space, thereby facilitating targeted exploration and bug discovery."
   ]
  },
  {
   "cell_type": "code",
   "execution_count": null,
   "metadata": {},
   "outputs": [],
   "source": []
  }
 ],
 "metadata": {
  "kernelspec": {
   "display_name": "Python 3 (ipykernel)",
   "language": "python",
   "name": "python3"
  },
  "language_info": {
   "codemirror_mode": {
    "name": "ipython",
    "version": 3
   },
   "file_extension": ".py",
   "mimetype": "text/x-python",
   "name": "python",
   "nbconvert_exporter": "python",
   "pygments_lexer": "ipython3",
   "version": "3.10.4"
  }
 },
 "nbformat": 4,
 "nbformat_minor": 1
}
