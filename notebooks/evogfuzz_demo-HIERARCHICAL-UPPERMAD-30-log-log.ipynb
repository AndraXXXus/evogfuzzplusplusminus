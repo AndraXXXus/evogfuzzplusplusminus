{
 "cells": [
  {
   "cell_type": "markdown",
   "metadata": {},
   "source": [
    "# EvoGFuzz: An Evolutionary Approach to Grammar-Based Fuzzing\n",
    "\n",
    "**EvoGFuzz** stands for *evolutionary grammar-based fuzzing*. This approach leverages evolutionary optimization techniques to systematically explore the space of a program's potential inputs, with a particular emphasis on identifying inputs that could lead to exceptional behavior. With a user-defined objective, EvoGFuzz can adapt and refine the input generation strategy over time, making it a powerful tool for uncovering software defects and vulnerabilities.\n",
    "\n",
    "Efficient detection of defects and vulnerabilities hinges on the ability to automatically generate program inputs that are both valid and diverse. One common strategy is to use grammars, which provide structured and syntactically correct inputs. This approach leads to the concept of grammar-based fuzzing, where fuzzing strategies are guided by the rules defined within the grammar.\n",
    "\n",
    "A further enhancement to this concept is probabilistic grammar-based fuzzing, where competing grammar rules are associated with probabilities that guide their application. By carefully assigning and optimizing these probabilities, we gain considerable control over the nature of the generated inputs. This enables us to direct the fuzzing process towards specific areas of interest—for example, those functions that are deemed critical, have a higher propensity for failures, or have undergone recent modifications. \n",
    "\n",
    "In essence, EvoGFuzz represents a potent blend of evolutionary optimization and probabilistic grammar-based fuzzing, poised to reveal hidden defects and vulnerabilities in a targeted and efficient manner."
   ]
  },
  {
   "cell_type": "markdown",
   "metadata": {},
   "source": [
    "## Fuzzing a Program"
   ]
  },
  {
   "cell_type": "markdown",
   "metadata": {},
   "source": [
    "Our program under investigation is `The Calculator`. This program acts as a typical calculator, capable of evaluating not just arithmetic expressions but also trigonometric functions, such as sine, cosine, and tangent. Furthermore, it also supports the calculation of the square root of a given number."
   ]
  },
  {
   "cell_type": "code",
   "execution_count": 1,
   "metadata": {},
   "outputs": [],
   "source": [
    "import math\n",
    "\n",
    "def calculator(inp: str) -> float:\n",
    "    \"\"\"\n",
    "        A simple calculator function that can evaluate arithmetic expressions \n",
    "        and perform basic trigonometric functions and square root calculations.\n",
    "    \"\"\"\n",
    "    return eval(\n",
    "        str(inp), {\"sqrt\": math.sqrt, \"sin\": math.sin, \"cos\": math.cos, \"tan\": math.tan}\n",
    "    )"
   ]
  },
  {
   "cell_type": "markdown",
   "metadata": {},
   "source": [
    "**Side Note:** In the `calculator`, we use Python's `eval` function, which takes a string and evaluates it as a Python expression. We provide a dictionary as the second argument to eval, mapping names to corresponding mathematical functions. This enables us to use the function names directly within the input string. "
   ]
  },
  {
   "cell_type": "code",
   "execution_count": 2,
   "metadata": {},
   "outputs": [
    {
     "name": "stdout",
     "output_type": "stream",
     "text": [
      "0.999993677717667\n"
     ]
    }
   ],
   "source": [
    "# Evaluating the cosine of 2π\n",
    "print(calculator('cos(6*3.141)'))"
   ]
  },
  {
   "cell_type": "code",
   "execution_count": 3,
   "metadata": {},
   "outputs": [
    {
     "name": "stdout",
     "output_type": "stream",
     "text": [
      "6.0\n"
     ]
    }
   ],
   "source": [
    "# Calculating the square root of 36\n",
    "print(calculator('sqrt(6*6)'))"
   ]
  },
  {
   "cell_type": "markdown",
   "metadata": {},
   "source": [
    "Each of these calls to the calculator will evaluate the provided string as a mathematical expression, and print the result."
   ]
  },
  {
   "cell_type": "markdown",
   "metadata": {},
   "source": [
    "Now, to find new defects, we need to introduce an oracle that tells us if the error that is triggered is something we expect or a new/unkonwn defect. The `OracleResult` is an enum with two possible values, `NO_BUG` and `BUG`. `NO_BUG` donates a passing test case and `BUG` a failing one."
   ]
  },
  {
   "cell_type": "markdown",
   "metadata": {},
   "source": [
    "We import the `OracleResult` enumerated type from the `evogfuzz` library. This is used in the oracle function to indicate the outcome of executing the 'calculator' function with a given input."
   ]
  },
  {
   "cell_type": "code",
   "execution_count": 4,
   "metadata": {},
   "outputs": [],
   "source": [
    "from evogfuzz.oracle import OracleResult"
   ]
  },
  {
   "cell_type": "markdown",
   "metadata": {},
   "source": [
    "This is a function called **oracle**, which acts as an intermediary to handle and classify exceptions produced by the calculator function when given a certain input."
   ]
  },
  {
   "cell_type": "code",
   "execution_count": 5,
   "metadata": {},
   "outputs": [],
   "source": [
    "# Make sure you use the OracleResult from the evogfuzz library\n",
    "from evogfuzz.oracle import OracleResult\n",
    "\n",
    "def oracle(inp: str):\n",
    "    \"\"\"\n",
    "    This function serves as an oracle or intermediary that catches and handles exceptions \n",
    "    generated by the 'calculator' function. The oracle function is used in the context of fuzz testing.\n",
    "    It aims to determine whether an input triggers a bug in the 'calculator' function.\n",
    "\n",
    "    Args:\n",
    "        inp (str): The input string to be passed to the 'calculator' function.\n",
    "\n",
    "    Returns:\n",
    "        OracleResult: An enumerated type 'OracleResult' indicating the outcome of the function execution.\n",
    "            - OracleResult.NO_BUG: Returned if the calculator function executes without any exception or only with CalculatorSyntaxError\n",
    "            - OracleResult.BUG: Returned if the calculator function raises a ValueError exception, indicating a potential bug.\n",
    "    \"\"\"\n",
    "    try:\n",
    "        calculator(inp)\n",
    "    except ValueError as e:\n",
    "        return OracleResult.BUG\n",
    "    \n",
    "    return OracleResult.NO_BUG"
   ]
  },
  {
   "cell_type": "markdown",
   "metadata": {},
   "source": [
    "This **oracle** function is used in the context of fuzzing to determine the impact of various inputs on the program under test (in our case the _calculator_). When the calculator function behaves as expected (i.e., no exceptions occur), the **oracle** function returns `OracleResult.NO_BUG`. However, when the `calculator` function raises an unexpected exception, the **oracle** interprets this as a potential bug in the `calculator` and returns `OracleResult.BUG`."
   ]
  },
  {
   "cell_type": "markdown",
   "metadata": {},
   "source": [
    "We can see this in action by testing a few initial inputs:"
   ]
  },
  {
   "cell_type": "code",
   "execution_count": 6,
   "metadata": {},
   "outputs": [
    {
     "name": "stdout",
     "output_type": "stream",
     "text": [
      "sqrt(1)              NO_BUG\n",
      "cos(912)             NO_BUG\n",
      "tan(4)               NO_BUG\n"
     ]
    }
   ],
   "source": [
    "initial_inputs = ['sqrt(1)', 'cos(912)', 'tan(4)']\n",
    "\n",
    "for inp in initial_inputs:\n",
    "    print(inp.ljust(20), oracle(inp))"
   ]
  },
  {
   "cell_type": "markdown",
   "metadata": {},
   "source": [
    "The following code represents a simple context-free grammar for our calculator function. This grammar encompasses all the potential valid inputs to the calculator, which include mathematical expressions involving square roots, trigonometric functions, and integer and decimal numbers:"
   ]
  },
  {
   "cell_type": "code",
   "execution_count": 7,
   "metadata": {},
   "outputs": [],
   "source": [
    "from fuzzingbook.Grammars import Grammar, is_valid_grammar\n",
    "\n",
    "CALCGRAMMAR: Grammar = {\n",
    "    \"<start>\":\n",
    "        [\"<function>(<term>)\"],\n",
    "\n",
    "    \"<function>\":\n",
    "        [\"sqrt\", \"tan\", \"cos\", \"sin\"],\n",
    "    \n",
    "    \"<term>\": [\"-<value>\", \"<value>\"], \n",
    "    \n",
    "    \"<value>\":\n",
    "        [\"<integer>.<integer>\",\n",
    "         \"<integer>\"],\n",
    "\n",
    "    \"<integer>\":\n",
    "        [\"<digit><integer>\", \"<digit>\"],\n",
    "\n",
    "    \"<digit>\":\n",
    "        [\"1\", \"2\", \"3\", \"4\", \"5\", \"6\", \"7\", \"8\", \"9\"]\n",
    "}\n",
    "    \n",
    "grammar_alhazen: Grammar = {\n",
    "    \"<start>\": [\"<arith_expr>\"],\n",
    "    \"<arith_expr>\": [\"<function>(<number>)\"],\n",
    "    \"<function>\": [\"sqrt\", \"sin\", \"cos\", \"tan\"],\n",
    "    \"<number>\": [\"<maybe_minus><onenine><maybe_digits><maybe_frac>\"],\n",
    "    \"<maybe_minus>\": [\"\", \"-\"],\n",
    "    \"<onenine>\": [str(num) for num in range(1, 10)],\n",
    "    \"<digit>\": [str(num) for num in range(0, 10)],\n",
    "    \"<maybe_digits>\": [\"\", \"<digits>\"],\n",
    "    \"<digits>\": [\"<digit>\", \"<digit><digits>\"],\n",
    "    \"<maybe_frac>\": [\"\", \".<digits>\"],\n",
    "}\n",
    "    \n",
    "assert is_valid_grammar(grammar_alhazen)"
   ]
  },
  {
   "cell_type": "markdown",
   "metadata": {},
   "source": [
    "The defined grammar CALCGRAMMAR provides a structured blueprint for creating various inputs for our fuzz testing. Each rule in this grammar reflects a possible valid input that our calculator function can handle. By fuzzing based on this grammar, we can systematically explore the space of valid inputs to the calculator function."
   ]
  },
  {
   "cell_type": "markdown",
   "metadata": {},
   "source": [
    "### Leveraging EvoGFuzz to Unearth New Defects\n",
    "\n",
    "We apply our `EvoGFuzz` class to carry out fuzz testing using evolutionary grammar-based fuzzing. This is aimed at uncovering potential defects in our 'calculator' function.\n",
    "\n",
    "To initialize our EvoGFuzz instance, we require a grammar (in our case, `CALCGRAMMAR`), an oracle function, an initial set of inputs, a fitness function, and the number of iterations to be performed in the fuzzing process.\n",
    "\n",
    "Upon creating the `EvoGFuzz` instance, we can execute the fuzzing process. The `fuzz()` method runs the fuzzing iterations, evolving the inputs based on our fitness function, and returns a collection of inputs that lead to exceptions in the 'calculator' function."
   ]
  },
  {
   "cell_type": "code",
   "execution_count": 8,
   "metadata": {
    "scrolled": true
   },
   "outputs": [
    {
     "name": "stdout",
     "output_type": "stream",
     "text": [
      "1 EvoGFuzz found 290 bug-triggering inputs!\n",
      "2 EvoGFuzz found 320 bug-triggering inputs!\n",
      "3 EvoGFuzz found 326 bug-triggering inputs!\n",
      "4 EvoGFuzz found 250 bug-triggering inputs!\n",
      "5 EvoGFuzz found 186 bug-triggering inputs!\n",
      "6 EvoGFuzz found 199 bug-triggering inputs!\n",
      "7 EvoGFuzz found 242 bug-triggering inputs!\n",
      "8 EvoGFuzz found 232 bug-triggering inputs!\n",
      "9 EvoGFuzz found 284 bug-triggering inputs!\n",
      "10 EvoGFuzz found 175 bug-triggering inputs!\n",
      "11 EvoGFuzz found 406 bug-triggering inputs!\n",
      "12 EvoGFuzz found 332 bug-triggering inputs!\n",
      "13 EvoGFuzz found 303 bug-triggering inputs!\n",
      "14 EvoGFuzz found 315 bug-triggering inputs!\n",
      "15 EvoGFuzz found 150 bug-triggering inputs!\n",
      "16 EvoGFuzz found 268 bug-triggering inputs!\n",
      "17 EvoGFuzz found 299 bug-triggering inputs!\n",
      "18 EvoGFuzz found 374 bug-triggering inputs!\n",
      "19 EvoGFuzz found 291 bug-triggering inputs!\n",
      "20 EvoGFuzz found 273 bug-triggering inputs!\n",
      "21 EvoGFuzz found 289 bug-triggering inputs!\n",
      "22 EvoGFuzz found 349 bug-triggering inputs!\n",
      "23 EvoGFuzz found 309 bug-triggering inputs!\n",
      "24 EvoGFuzz found 217 bug-triggering inputs!\n",
      "25 EvoGFuzz found 297 bug-triggering inputs!\n",
      "26 EvoGFuzz found 226 bug-triggering inputs!\n",
      "27 EvoGFuzz found 170 bug-triggering inputs!\n",
      "28 EvoGFuzz found 303 bug-triggering inputs!\n",
      "29 EvoGFuzz found 305 bug-triggering inputs!\n",
      "30 EvoGFuzz found 216 bug-triggering inputs!\n"
     ]
    },
    {
     "data": {
      "text/plain": [
       "273.2"
      ]
     },
     "execution_count": 8,
     "metadata": {},
     "output_type": "execute_result"
    }
   ],
   "source": [
    "from evogfuzz.evogfuzz_class import EvoGFuzz\n",
    "from evogfuzz.helper import Tournament_Selection_Mode\n",
    "import statistics\n",
    "\n",
    "levenshtein_list=[]\n",
    "\n",
    "while len(levenshtein_list)!=30:\n",
    "    try:\n",
    "        epp = EvoGFuzz(\n",
    "            grammar=CALCGRAMMAR,\n",
    "            oracle=oracle,\n",
    "            inputs=initial_inputs,\n",
    "            iterations=10,\n",
    "            tournament_selection_mode = Tournament_Selection_Mode.HIERARCHICAL_LEVENSHTEIN\n",
    "        )\n",
    "\n",
    "        found_exception_inputs = epp.fuzz()\n",
    "        \n",
    "        levenshtein_list.append(len(found_exception_inputs))\n",
    "        print(len(levenshtein_list),f\"EvoGFuzz found {len(found_exception_inputs)} bug-triggering inputs!\")\n",
    "    except Exception as eee:\n",
    "        print(eee)\n",
    "statistics.mean(levenshtein_list)"
   ]
  },
  {
   "cell_type": "code",
   "execution_count": null,
   "metadata": {},
   "outputs": [],
   "source": [
    "jaro_list=[]"
   ]
  },
  {
   "cell_type": "code",
   "execution_count": 11,
   "metadata": {
    "scrolled": true
   },
   "outputs": [
    {
     "name": "stdout",
     "output_type": "stream",
     "text": [
      "20 EvoGFuzz found 251 bug-triggering inputs!\n",
      "21 EvoGFuzz found 276 bug-triggering inputs!\n",
      "22 EvoGFuzz found 222 bug-triggering inputs!\n",
      "23 EvoGFuzz found 385 bug-triggering inputs!\n",
      "24 EvoGFuzz found 330 bug-triggering inputs!\n",
      "25 EvoGFuzz found 270 bug-triggering inputs!\n",
      "26 EvoGFuzz found 280 bug-triggering inputs!\n",
      "27 EvoGFuzz found 238 bug-triggering inputs!\n",
      "28 EvoGFuzz found 165 bug-triggering inputs!\n",
      "29 EvoGFuzz found 213 bug-triggering inputs!\n",
      "30 EvoGFuzz found 383 bug-triggering inputs!\n"
     ]
    },
    {
     "data": {
      "text/plain": [
       "263.3666666666667"
      ]
     },
     "execution_count": 11,
     "metadata": {},
     "output_type": "execute_result"
    }
   ],
   "source": [
    "#\n",
    "\n",
    "while len(jaro_list)!=30:\n",
    "    try:\n",
    "        epp = EvoGFuzz(\n",
    "            grammar=CALCGRAMMAR,\n",
    "            oracle=oracle,\n",
    "            inputs=initial_inputs,\n",
    "            iterations=10,\n",
    "            tournament_selection_mode = Tournament_Selection_Mode.HIERARCHICAL_JARO\n",
    "        )\n",
    "        found_exception_inputs = epp.fuzz()\n",
    "        jaro_list.append(len(found_exception_inputs))\n",
    "        print(len(jaro_list),f\"EvoGFuzz found {len(found_exception_inputs)} bug-triggering inputs!\")\n",
    "    except Exception as eee:\n",
    "        print(eee)\n",
    "statistics.mean(jaro_list)"
   ]
  },
  {
   "cell_type": "code",
   "execution_count": null,
   "metadata": {},
   "outputs": [],
   "source": [
    "cos_list = []"
   ]
  },
  {
   "cell_type": "code",
   "execution_count": 13,
   "metadata": {
    "scrolled": true
   },
   "outputs": [
    {
     "name": "stdout",
     "output_type": "stream",
     "text": [
      "6 EvoGFuzz found 243 bug-triggering inputs!\n",
      "7 EvoGFuzz found 205 bug-triggering inputs!\n",
      "8 EvoGFuzz found 280 bug-triggering inputs!\n",
      "9 EvoGFuzz found 203 bug-triggering inputs!\n",
      "10 EvoGFuzz found 208 bug-triggering inputs!\n",
      "11 EvoGFuzz found 301 bug-triggering inputs!\n",
      "12 EvoGFuzz found 275 bug-triggering inputs!\n",
      "13 EvoGFuzz found 136 bug-triggering inputs!\n",
      "14 EvoGFuzz found 313 bug-triggering inputs!\n",
      "15 EvoGFuzz found 214 bug-triggering inputs!\n",
      "16 EvoGFuzz found 194 bug-triggering inputs!\n",
      "17 EvoGFuzz found 367 bug-triggering inputs!\n",
      "18 EvoGFuzz found 282 bug-triggering inputs!\n",
      "19 EvoGFuzz found 198 bug-triggering inputs!\n",
      "20 EvoGFuzz found 325 bug-triggering inputs!\n",
      "21 EvoGFuzz found 221 bug-triggering inputs!\n",
      "22 EvoGFuzz found 210 bug-triggering inputs!\n",
      "23 EvoGFuzz found 163 bug-triggering inputs!\n",
      "24 EvoGFuzz found 203 bug-triggering inputs!\n",
      "25 EvoGFuzz found 255 bug-triggering inputs!\n",
      "26 EvoGFuzz found 276 bug-triggering inputs!\n",
      "27 EvoGFuzz found 205 bug-triggering inputs!\n",
      "28 EvoGFuzz found 261 bug-triggering inputs!\n",
      "29 EvoGFuzz found 313 bug-triggering inputs!\n",
      "30 EvoGFuzz found 213 bug-triggering inputs!\n"
     ]
    },
    {
     "data": {
      "text/plain": [
       "247.8"
      ]
     },
     "execution_count": 13,
     "metadata": {},
     "output_type": "execute_result"
    }
   ],
   "source": [
    "from evogfuzz.evogfuzz_class import EvoGFuzz\n",
    "from evogfuzz.helper import Tournament_Selection_Mode\n",
    "import statistics\n",
    "\n",
    "#cos_list = []\n",
    "while len(cos_list)!=30:\n",
    "    try:\n",
    "        epp = EvoGFuzz(\n",
    "            grammar=CALCGRAMMAR,\n",
    "            oracle=oracle,\n",
    "            inputs=initial_inputs,\n",
    "            iterations=10,\n",
    "            tournament_selection_mode = Tournament_Selection_Mode.HIERARCHICAL_FEATURE_COS\n",
    "        )\n",
    "        found_exception_inputs = epp.fuzz()\n",
    "        \n",
    "        cos_list.append(len(found_exception_inputs))\n",
    "        print(len(cos_list),f\"EvoGFuzz found {len(found_exception_inputs)} bug-triggering inputs!\")\n",
    "    except Exception as eee:\n",
    "        print(eee)\n",
    "statistics.mean(cos_list)"
   ]
  },
  {
   "cell_type": "code",
   "execution_count": null,
   "metadata": {},
   "outputs": [],
   "source": [
    "normal_list = []"
   ]
  },
  {
   "cell_type": "code",
   "execution_count": 16,
   "metadata": {
    "scrolled": true
   },
   "outputs": [
    {
     "name": "stdout",
     "output_type": "stream",
     "text": [
      "26 EvoGFuzz found 0 bug-triggering inputs!\n",
      "27 EvoGFuzz found 172 bug-triggering inputs!\n",
      "28 EvoGFuzz found 267 bug-triggering inputs!\n",
      "29 EvoGFuzz found 256 bug-triggering inputs!\n",
      "30 EvoGFuzz found 323 bug-triggering inputs!\n"
     ]
    },
    {
     "data": {
      "text/plain": [
       "181.3"
      ]
     },
     "execution_count": 16,
     "metadata": {},
     "output_type": "execute_result"
    }
   ],
   "source": [
    "\n",
    "while len(normal_list)!=30:\n",
    "    try:\n",
    "        epp = EvoGFuzz(\n",
    "            grammar=CALCGRAMMAR,\n",
    "            oracle=oracle,\n",
    "            inputs=initial_inputs,\n",
    "            iterations=10,\n",
    "        )\n",
    "        found_exception_inputs = epp.fuzz()\n",
    "        \n",
    "        normal_list.append(len(found_exception_inputs))\n",
    "        print(len(normal_list),f\"EvoGFuzz found {len(found_exception_inputs)} bug-triggering inputs!\")\n",
    "    except Exception as eee:\n",
    "        print(eee)\n",
    "statistics.mean(normal_list)"
   ]
  },
  {
   "cell_type": "code",
   "execution_count": 17,
   "metadata": {},
   "outputs": [
    {
     "data": {
      "text/plain": [
       "[290,\n",
       " 320,\n",
       " 326,\n",
       " 250,\n",
       " 186,\n",
       " 199,\n",
       " 242,\n",
       " 232,\n",
       " 284,\n",
       " 175,\n",
       " 406,\n",
       " 332,\n",
       " 303,\n",
       " 315,\n",
       " 150,\n",
       " 268,\n",
       " 299,\n",
       " 374,\n",
       " 291,\n",
       " 273,\n",
       " 289,\n",
       " 349,\n",
       " 309,\n",
       " 217,\n",
       " 297,\n",
       " 226,\n",
       " 170,\n",
       " 303,\n",
       " 305,\n",
       " 216]"
      ]
     },
     "execution_count": 17,
     "metadata": {},
     "output_type": "execute_result"
    }
   ],
   "source": [
    "levenshtein_list"
   ]
  },
  {
   "cell_type": "code",
   "execution_count": 18,
   "metadata": {},
   "outputs": [
    {
     "data": {
      "text/plain": [
       "[244,\n",
       " 227,\n",
       " 157,\n",
       " 211,\n",
       " 232,\n",
       " 327,\n",
       " 225,\n",
       " 321,\n",
       " 320,\n",
       " 209,\n",
       " 274,\n",
       " 189,\n",
       " 353,\n",
       " 246,\n",
       " 270,\n",
       " 252,\n",
       " 271,\n",
       " 355,\n",
       " 205,\n",
       " 251,\n",
       " 276,\n",
       " 222,\n",
       " 385,\n",
       " 330,\n",
       " 270,\n",
       " 280,\n",
       " 238,\n",
       " 165,\n",
       " 213,\n",
       " 383]"
      ]
     },
     "execution_count": 18,
     "metadata": {},
     "output_type": "execute_result"
    }
   ],
   "source": [
    "jaro_list"
   ]
  },
  {
   "cell_type": "code",
   "execution_count": 19,
   "metadata": {},
   "outputs": [
    {
     "data": {
      "text/plain": [
       "[275,\n",
       " 307,\n",
       " 213,\n",
       " 298,\n",
       " 277,\n",
       " 243,\n",
       " 205,\n",
       " 280,\n",
       " 203,\n",
       " 208,\n",
       " 301,\n",
       " 275,\n",
       " 136,\n",
       " 313,\n",
       " 214,\n",
       " 194,\n",
       " 367,\n",
       " 282,\n",
       " 198,\n",
       " 325,\n",
       " 221,\n",
       " 210,\n",
       " 163,\n",
       " 203,\n",
       " 255,\n",
       " 276,\n",
       " 205,\n",
       " 261,\n",
       " 313,\n",
       " 213]"
      ]
     },
     "execution_count": 19,
     "metadata": {},
     "output_type": "execute_result"
    }
   ],
   "source": [
    "cos_list"
   ]
  },
  {
   "cell_type": "code",
   "execution_count": 20,
   "metadata": {},
   "outputs": [
    {
     "data": {
      "text/plain": [
       "[252,\n",
       " 0,\n",
       " 0,\n",
       " 408,\n",
       " 157,\n",
       " 160,\n",
       " 106,\n",
       " 0,\n",
       " 188,\n",
       " 203,\n",
       " 99,\n",
       " 7,\n",
       " 19,\n",
       " 483,\n",
       " 46,\n",
       " 10,\n",
       " 412,\n",
       " 197,\n",
       " 0,\n",
       " 429,\n",
       " 205,\n",
       " 269,\n",
       " 5,\n",
       " 418,\n",
       " 348,\n",
       " 0,\n",
       " 172,\n",
       " 267,\n",
       " 256,\n",
       " 323]"
      ]
     },
     "execution_count": 20,
     "metadata": {},
     "output_type": "execute_result"
    }
   ],
   "source": [
    "normal_list"
   ]
  },
  {
   "cell_type": "code",
   "execution_count": 21,
   "metadata": {},
   "outputs": [
    {
     "name": "stdout",
     "output_type": "stream",
     "text": [
      "levenshtein_list normal_list True 273.2 181.3 0.006969004235186336\n",
      "jaro_list normal_list True 263.3666666666667 181.3 0.010977327228805924\n",
      "cos_list normal_list True 247.8 181.3 0.019900562020514073\n",
      "normal_list levenshtein_list False 181.3 273.2 0.006969004235186336\n",
      "normal_list jaro_list False 181.3 263.3666666666667 0.010977327228805924\n",
      "normal_list cos_list False 181.3 247.8 0.019900562020514073\n"
     ]
    }
   ],
   "source": [
    "from scipy.stats import mannwhitneyu\n",
    "sample_bugcount_list = [levenshtein_list, jaro_list, cos_list, normal_list]\n",
    "names = [\"levenshtein_list\", \"jaro_list\", \"cos_list\", \"normal_list\"]\n",
    "\n",
    "i=0\n",
    "for elem in sample_bugcount_list:\n",
    "    j=0\n",
    "    for elem2 in sample_bugcount_list:\n",
    "        U1, p = mannwhitneyu(elem, elem2, method=\"exact\")\n",
    "        U2 = len(elem)*len(elem2) - U1\n",
    "        #print(names[i],names[j],statistics.mean(elem)>statistics.mean(elem2),statistics.mean(elem),statistics.mean(elem2),p)\n",
    "        if p < 0.05:\n",
    "            print(names[i],names[j],statistics.mean(elem)>statistics.mean(elem2),statistics.mean(elem),statistics.mean(elem2),p)\n",
    "        j+=1\n",
    "    i+=1"
   ]
  },
  {
   "cell_type": "code",
   "execution_count": 22,
   "metadata": {},
   "outputs": [
    {
     "data": {
      "text/plain": [
       "<AxesSubplot: >"
      ]
     },
     "execution_count": 22,
     "metadata": {},
     "output_type": "execute_result"
    },
    {
     "data": {
      "image/png": "[encoded data removed]",
      "text/plain": [
       "<Figure size 640x480 with 1 Axes>"
      ]
     },
     "metadata": {},
     "output_type": "display_data"
    }
   ],
   "source": [
    "import seaborn as sns\n",
    "import pandas as pd\n",
    "sns.boxplot(data =  pd.DataFrame([normal_list, jaro_list, levenshtein_list, cos_list, ],\n",
    "              index =[\"original\", \"jaro\",\"levenshtein\", \"feature_cos\", ]).T, )"
   ]
  },
  {
   "cell_type": "code",
   "execution_count": null,
   "metadata": {},
   "outputs": [],
   "source": [
    "\n",
    "              "
   ]
  },
  {
   "cell_type": "code",
   "execution_count": null,
   "metadata": {},
   "outputs": [],
   "source": []
  }
 ],
 "metadata": {
  "kernelspec": {
   "display_name": "Python 3 (ipykernel)",
   "language": "python",
   "name": "python3"
  },
  "language_info": {
   "codemirror_mode": {
    "name": "ipython",
    "version": 3
   },
   "file_extension": ".py",
   "mimetype": "text/x-python",
   "name": "python",
   "nbconvert_exporter": "python",
   "pygments_lexer": "ipython3",
   "version": "3.10.4"
  }
 },
 "nbformat": 4,
 "nbformat_minor": 1
}
