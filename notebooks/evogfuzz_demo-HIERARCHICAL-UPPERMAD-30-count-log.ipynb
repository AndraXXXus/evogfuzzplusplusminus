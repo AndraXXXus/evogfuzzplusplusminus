{
 "cells": [
  {
   "cell_type": "markdown",
   "metadata": {},
   "source": [
    "# EvoGFuzz: An Evolutionary Approach to Grammar-Based Fuzzing\n",
    "\n",
    "**EvoGFuzz** stands for *evolutionary grammar-based fuzzing*. This approach leverages evolutionary optimization techniques to systematically explore the space of a program's potential inputs, with a particular emphasis on identifying inputs that could lead to exceptional behavior. With a user-defined objective, EvoGFuzz can adapt and refine the input generation strategy over time, making it a powerful tool for uncovering software defects and vulnerabilities.\n",
    "\n",
    "Efficient detection of defects and vulnerabilities hinges on the ability to automatically generate program inputs that are both valid and diverse. One common strategy is to use grammars, which provide structured and syntactically correct inputs. This approach leads to the concept of grammar-based fuzzing, where fuzzing strategies are guided by the rules defined within the grammar.\n",
    "\n",
    "A further enhancement to this concept is probabilistic grammar-based fuzzing, where competing grammar rules are associated with probabilities that guide their application. By carefully assigning and optimizing these probabilities, we gain considerable control over the nature of the generated inputs. This enables us to direct the fuzzing process towards specific areas of interest—for example, those functions that are deemed critical, have a higher propensity for failures, or have undergone recent modifications. \n",
    "\n",
    "In essence, EvoGFuzz represents a potent blend of evolutionary optimization and probabilistic grammar-based fuzzing, poised to reveal hidden defects and vulnerabilities in a targeted and efficient manner."
   ]
  },
  {
   "cell_type": "markdown",
   "metadata": {},
   "source": [
    "## Fuzzing a Program"
   ]
  },
  {
   "cell_type": "markdown",
   "metadata": {},
   "source": [
    "Our program under investigation is `The Calculator`. This program acts as a typical calculator, capable of evaluating not just arithmetic expressions but also trigonometric functions, such as sine, cosine, and tangent. Furthermore, it also supports the calculation of the square root of a given number."
   ]
  },
  {
   "cell_type": "code",
   "execution_count": 1,
   "metadata": {},
   "outputs": [],
   "source": [
    "import math\n",
    "\n",
    "def calculator(inp: str) -> float:\n",
    "    \"\"\"\n",
    "        A simple calculator function that can evaluate arithmetic expressions \n",
    "        and perform basic trigonometric functions and square root calculations.\n",
    "    \"\"\"\n",
    "    return eval(\n",
    "        str(inp), {\"sqrt\": math.sqrt, \"sin\": math.sin, \"cos\": math.cos, \"tan\": math.tan}\n",
    "    )"
   ]
  },
  {
   "cell_type": "markdown",
   "metadata": {},
   "source": [
    "**Side Note:** In the `calculator`, we use Python's `eval` function, which takes a string and evaluates it as a Python expression. We provide a dictionary as the second argument to eval, mapping names to corresponding mathematical functions. This enables us to use the function names directly within the input string. "
   ]
  },
  {
   "cell_type": "code",
   "execution_count": 2,
   "metadata": {},
   "outputs": [
    {
     "name": "stdout",
     "output_type": "stream",
     "text": [
      "0.999993677717667\n"
     ]
    }
   ],
   "source": [
    "# Evaluating the cosine of 2π\n",
    "print(calculator('cos(6*3.141)'))"
   ]
  },
  {
   "cell_type": "code",
   "execution_count": 3,
   "metadata": {},
   "outputs": [
    {
     "name": "stdout",
     "output_type": "stream",
     "text": [
      "6.0\n"
     ]
    }
   ],
   "source": [
    "# Calculating the square root of 36\n",
    "print(calculator('sqrt(6*6)'))"
   ]
  },
  {
   "cell_type": "markdown",
   "metadata": {},
   "source": [
    "Each of these calls to the calculator will evaluate the provided string as a mathematical expression, and print the result."
   ]
  },
  {
   "cell_type": "markdown",
   "metadata": {},
   "source": [
    "Now, to find new defects, we need to introduce an oracle that tells us if the error that is triggered is something we expect or a new/unkonwn defect. The `OracleResult` is an enum with two possible values, `NO_BUG` and `BUG`. `NO_BUG` donates a passing test case and `BUG` a failing one."
   ]
  },
  {
   "cell_type": "markdown",
   "metadata": {},
   "source": [
    "We import the `OracleResult` enumerated type from the `evogfuzz` library. This is used in the oracle function to indicate the outcome of executing the 'calculator' function with a given input."
   ]
  },
  {
   "cell_type": "code",
   "execution_count": 4,
   "metadata": {},
   "outputs": [],
   "source": [
    "from evogfuzz.oracle import OracleResult"
   ]
  },
  {
   "cell_type": "markdown",
   "metadata": {},
   "source": [
    "This is a function called **oracle**, which acts as an intermediary to handle and classify exceptions produced by the calculator function when given a certain input."
   ]
  },
  {
   "cell_type": "code",
   "execution_count": 5,
   "metadata": {},
   "outputs": [],
   "source": [
    "# Make sure you use the OracleResult from the evogfuzz library\n",
    "from evogfuzz.oracle import OracleResult\n",
    "\n",
    "def oracle(inp: str):\n",
    "    \"\"\"\n",
    "    This function serves as an oracle or intermediary that catches and handles exceptions \n",
    "    generated by the 'calculator' function. The oracle function is used in the context of fuzz testing.\n",
    "    It aims to determine whether an input triggers a bug in the 'calculator' function.\n",
    "\n",
    "    Args:\n",
    "        inp (str): The input string to be passed to the 'calculator' function.\n",
    "\n",
    "    Returns:\n",
    "        OracleResult: An enumerated type 'OracleResult' indicating the outcome of the function execution.\n",
    "            - OracleResult.NO_BUG: Returned if the calculator function executes without any exception or only with CalculatorSyntaxError\n",
    "            - OracleResult.BUG: Returned if the calculator function raises a ValueError exception, indicating a potential bug.\n",
    "    \"\"\"\n",
    "    try:\n",
    "        calculator(inp)\n",
    "    except ValueError as e:\n",
    "        return OracleResult.BUG\n",
    "    \n",
    "    return OracleResult.NO_BUG"
   ]
  },
  {
   "cell_type": "markdown",
   "metadata": {},
   "source": [
    "This **oracle** function is used in the context of fuzzing to determine the impact of various inputs on the program under test (in our case the _calculator_). When the calculator function behaves as expected (i.e., no exceptions occur), the **oracle** function returns `OracleResult.NO_BUG`. However, when the `calculator` function raises an unexpected exception, the **oracle** interprets this as a potential bug in the `calculator` and returns `OracleResult.BUG`."
   ]
  },
  {
   "cell_type": "markdown",
   "metadata": {},
   "source": [
    "We can see this in action by testing a few initial inputs:"
   ]
  },
  {
   "cell_type": "code",
   "execution_count": 6,
   "metadata": {},
   "outputs": [
    {
     "name": "stdout",
     "output_type": "stream",
     "text": [
      "sqrt(1)              NO_BUG\n",
      "cos(912)             NO_BUG\n",
      "tan(4)               NO_BUG\n"
     ]
    }
   ],
   "source": [
    "initial_inputs = ['sqrt(1)', 'cos(912)', 'tan(4)']\n",
    "\n",
    "for inp in initial_inputs:\n",
    "    print(inp.ljust(20), oracle(inp))"
   ]
  },
  {
   "cell_type": "markdown",
   "metadata": {},
   "source": [
    "The following code represents a simple context-free grammar for our calculator function. This grammar encompasses all the potential valid inputs to the calculator, which include mathematical expressions involving square roots, trigonometric functions, and integer and decimal numbers:"
   ]
  },
  {
   "cell_type": "code",
   "execution_count": 7,
   "metadata": {},
   "outputs": [],
   "source": [
    "from fuzzingbook.Grammars import Grammar, is_valid_grammar\n",
    "\n",
    "CALCGRAMMAR: Grammar = {\n",
    "    \"<start>\":\n",
    "        [\"<function>(<term>)\"],\n",
    "\n",
    "    \"<function>\":\n",
    "        [\"sqrt\", \"tan\", \"cos\", \"sin\"],\n",
    "    \n",
    "    \"<term>\": [\"-<value>\", \"<value>\"], \n",
    "    \n",
    "    \"<value>\":\n",
    "        [\"<integer>.<integer>\",\n",
    "         \"<integer>\"],\n",
    "\n",
    "    \"<integer>\":\n",
    "        [\"<digit><integer>\", \"<digit>\"],\n",
    "\n",
    "    \"<digit>\":\n",
    "        [\"1\", \"2\", \"3\", \"4\", \"5\", \"6\", \"7\", \"8\", \"9\"]\n",
    "}\n",
    "    \n",
    "grammar_alhazen: Grammar = {\n",
    "    \"<start>\": [\"<arith_expr>\"],\n",
    "    \"<arith_expr>\": [\"<function>(<number>)\"],\n",
    "    \"<function>\": [\"sqrt\", \"sin\", \"cos\", \"tan\"],\n",
    "    \"<number>\": [\"<maybe_minus><onenine><maybe_digits><maybe_frac>\"],\n",
    "    \"<maybe_minus>\": [\"\", \"-\"],\n",
    "    \"<onenine>\": [str(num) for num in range(1, 10)],\n",
    "    \"<digit>\": [str(num) for num in range(0, 10)],\n",
    "    \"<maybe_digits>\": [\"\", \"<digits>\"],\n",
    "    \"<digits>\": [\"<digit>\", \"<digit><digits>\"],\n",
    "    \"<maybe_frac>\": [\"\", \".<digits>\"],\n",
    "}\n",
    "    \n",
    "assert is_valid_grammar(grammar_alhazen)"
   ]
  },
  {
   "cell_type": "markdown",
   "metadata": {},
   "source": [
    "The defined grammar CALCGRAMMAR provides a structured blueprint for creating various inputs for our fuzz testing. Each rule in this grammar reflects a possible valid input that our calculator function can handle. By fuzzing based on this grammar, we can systematically explore the space of valid inputs to the calculator function."
   ]
  },
  {
   "cell_type": "markdown",
   "metadata": {},
   "source": [
    "### Leveraging EvoGFuzz to Unearth New Defects\n",
    "\n",
    "We apply our `EvoGFuzz` class to carry out fuzz testing using evolutionary grammar-based fuzzing. This is aimed at uncovering potential defects in our 'calculator' function.\n",
    "\n",
    "To initialize our EvoGFuzz instance, we require a grammar (in our case, `CALCGRAMMAR`), an oracle function, an initial set of inputs, a fitness function, and the number of iterations to be performed in the fuzzing process.\n",
    "\n",
    "Upon creating the `EvoGFuzz` instance, we can execute the fuzzing process. The `fuzz()` method runs the fuzzing iterations, evolving the inputs based on our fitness function, and returns a collection of inputs that lead to exceptions in the 'calculator' function."
   ]
  },
  {
   "cell_type": "code",
   "execution_count": 13,
   "metadata": {},
   "outputs": [],
   "source": [
    "from evogfuzz.evogfuzz_class import EvoGFuzz\n",
    "from evogfuzz.helper import Tournament_Selection_Mode\n",
    "import statistics\n",
    "\n",
    "levenshtein_list=[]"
   ]
  },
  {
   "cell_type": "code",
   "execution_count": 16,
   "metadata": {
    "scrolled": true
   },
   "outputs": [
    {
     "name": "stdout",
     "output_type": "stream",
     "text": [
      "10 EvoGFuzz found 344 bug-triggering inputs!\n",
      "11 EvoGFuzz found 155 bug-triggering inputs!\n",
      "12 EvoGFuzz found 300 bug-triggering inputs!\n",
      "13 EvoGFuzz found 326 bug-triggering inputs!\n",
      "14 EvoGFuzz found 246 bug-triggering inputs!\n",
      "15 EvoGFuzz found 422 bug-triggering inputs!\n",
      "16 EvoGFuzz found 343 bug-triggering inputs!\n",
      "17 EvoGFuzz found 434 bug-triggering inputs!\n",
      "18 EvoGFuzz found 290 bug-triggering inputs!\n",
      "19 EvoGFuzz found 370 bug-triggering inputs!\n",
      "20 EvoGFuzz found 176 bug-triggering inputs!\n",
      "21 EvoGFuzz found 305 bug-triggering inputs!\n",
      "22 EvoGFuzz found 399 bug-triggering inputs!\n",
      "23 EvoGFuzz found 465 bug-triggering inputs!\n",
      "24 EvoGFuzz found 404 bug-triggering inputs!\n",
      "25 EvoGFuzz found 338 bug-triggering inputs!\n",
      "26 EvoGFuzz found 437 bug-triggering inputs!\n",
      "27 EvoGFuzz found 395 bug-triggering inputs!\n",
      "28 EvoGFuzz found 262 bug-triggering inputs!\n",
      "29 EvoGFuzz found 412 bug-triggering inputs!\n",
      "30 EvoGFuzz found 325 bug-triggering inputs!\n"
     ]
    },
    {
     "data": {
      "text/plain": [
       "337.96666666666664"
      ]
     },
     "execution_count": 16,
     "metadata": {},
     "output_type": "execute_result"
    }
   ],
   "source": [
    "\n",
    "\n",
    "while len(levenshtein_list)!=30:\n",
    "    try:\n",
    "        epp = EvoGFuzz(\n",
    "            grammar=CALCGRAMMAR,\n",
    "            oracle=oracle,\n",
    "            inputs=initial_inputs,\n",
    "            iterations=10,\n",
    "            tournament_selection_mode = Tournament_Selection_Mode.HIERARCHICAL_LEVENSHTEIN\n",
    "        )\n",
    "\n",
    "        found_exception_inputs = epp.fuzz()\n",
    "        \n",
    "        levenshtein_list.append(len(found_exception_inputs))\n",
    "        print(len(levenshtein_list),f\"EvoGFuzz found {len(found_exception_inputs)} bug-triggering inputs!\")\n",
    "    except Exception as eee:\n",
    "        print(eee)\n",
    "statistics.mean(levenshtein_list)"
   ]
  },
  {
   "cell_type": "code",
   "execution_count": 17,
   "metadata": {},
   "outputs": [],
   "source": [
    "jaro_list=[]"
   ]
  },
  {
   "cell_type": "code",
   "execution_count": 20,
   "metadata": {
    "scrolled": true
   },
   "outputs": [
    {
     "name": "stdout",
     "output_type": "stream",
     "text": [
      "16 EvoGFuzz found 264 bug-triggering inputs!\n",
      "17 EvoGFuzz found 407 bug-triggering inputs!\n",
      "18 EvoGFuzz found 337 bug-triggering inputs!\n",
      "19 EvoGFuzz found 341 bug-triggering inputs!\n",
      "20 EvoGFuzz found 310 bug-triggering inputs!\n",
      "21 EvoGFuzz found 301 bug-triggering inputs!\n",
      "22 EvoGFuzz found 375 bug-triggering inputs!\n",
      "23 EvoGFuzz found 337 bug-triggering inputs!\n",
      "24 EvoGFuzz found 282 bug-triggering inputs!\n",
      "25 EvoGFuzz found 526 bug-triggering inputs!\n",
      "26 EvoGFuzz found 373 bug-triggering inputs!\n",
      "27 EvoGFuzz found 489 bug-triggering inputs!\n",
      "28 EvoGFuzz found 250 bug-triggering inputs!\n",
      "29 EvoGFuzz found 422 bug-triggering inputs!\n",
      "30 EvoGFuzz found 423 bug-triggering inputs!\n"
     ]
    },
    {
     "data": {
      "text/plain": [
       "340.03333333333336"
      ]
     },
     "execution_count": 20,
     "metadata": {},
     "output_type": "execute_result"
    }
   ],
   "source": [
    "#\n",
    "\n",
    "while len(jaro_list)!=30:\n",
    "    try:\n",
    "        epp = EvoGFuzz(\n",
    "            grammar=CALCGRAMMAR,\n",
    "            oracle=oracle,\n",
    "            inputs=initial_inputs,\n",
    "            iterations=10,\n",
    "            tournament_selection_mode = Tournament_Selection_Mode.HIERARCHICAL_JARO\n",
    "        )\n",
    "        found_exception_inputs = epp.fuzz()\n",
    "        jaro_list.append(len(found_exception_inputs))\n",
    "        print(len(jaro_list),f\"EvoGFuzz found {len(found_exception_inputs)} bug-triggering inputs!\")\n",
    "    except Exception as eee:\n",
    "        print(eee)\n",
    "statistics.mean(jaro_list)"
   ]
  },
  {
   "cell_type": "code",
   "execution_count": 9,
   "metadata": {},
   "outputs": [],
   "source": [
    "from evogfuzz.evogfuzz_class import EvoGFuzz\n",
    "from evogfuzz.helper import Tournament_Selection_Mode\n",
    "import statistics\n",
    "cos_list = []"
   ]
  },
  {
   "cell_type": "code",
   "execution_count": 10,
   "metadata": {
    "scrolled": true
   },
   "outputs": [
    {
     "name": "stdout",
     "output_type": "stream",
     "text": [
      "1 EvoGFuzz found 378 bug-triggering inputs!\n",
      "2 EvoGFuzz found 173 bug-triggering inputs!\n",
      "3 EvoGFuzz found 582 bug-triggering inputs!\n",
      "4 EvoGFuzz found 129 bug-triggering inputs!\n",
      "5 EvoGFuzz found 361 bug-triggering inputs!\n",
      "6 EvoGFuzz found 212 bug-triggering inputs!\n",
      "7 EvoGFuzz found 364 bug-triggering inputs!\n",
      "8 EvoGFuzz found 262 bug-triggering inputs!\n",
      "9 EvoGFuzz found 382 bug-triggering inputs!\n",
      "10 EvoGFuzz found 478 bug-triggering inputs!\n",
      "11 EvoGFuzz found 493 bug-triggering inputs!\n",
      "12 EvoGFuzz found 525 bug-triggering inputs!\n",
      "13 EvoGFuzz found 543 bug-triggering inputs!\n",
      "14 EvoGFuzz found 482 bug-triggering inputs!\n",
      "15 EvoGFuzz found 389 bug-triggering inputs!\n",
      "16 EvoGFuzz found 306 bug-triggering inputs!\n",
      "17 EvoGFuzz found 421 bug-triggering inputs!\n",
      "18 EvoGFuzz found 444 bug-triggering inputs!\n",
      "19 EvoGFuzz found 260 bug-triggering inputs!\n",
      "20 EvoGFuzz found 355 bug-triggering inputs!\n",
      "21 EvoGFuzz found 593 bug-triggering inputs!\n",
      "22 EvoGFuzz found 465 bug-triggering inputs!\n",
      "23 EvoGFuzz found 328 bug-triggering inputs!\n",
      "24 EvoGFuzz found 278 bug-triggering inputs!\n",
      "25 EvoGFuzz found 322 bug-triggering inputs!\n",
      "26 EvoGFuzz found 318 bug-triggering inputs!\n",
      "27 EvoGFuzz found 540 bug-triggering inputs!\n",
      "28 EvoGFuzz found 315 bug-triggering inputs!\n",
      "29 EvoGFuzz found 161 bug-triggering inputs!\n",
      "30 EvoGFuzz found 545 bug-triggering inputs!\n"
     ]
    },
    {
     "data": {
      "text/plain": [
       "380.1333333333333"
      ]
     },
     "execution_count": 10,
     "metadata": {},
     "output_type": "execute_result"
    }
   ],
   "source": [
    "\n",
    "while len(cos_list)!=30:\n",
    "    try:\n",
    "        epp = EvoGFuzz(\n",
    "            grammar=CALCGRAMMAR,\n",
    "            oracle=oracle,\n",
    "            inputs=initial_inputs,\n",
    "            iterations=10,\n",
    "            tournament_selection_mode = Tournament_Selection_Mode.HIERARCHICAL_FEATURE_COS\n",
    "        )\n",
    "        found_exception_inputs = epp.fuzz()\n",
    "        \n",
    "        cos_list.append(len(found_exception_inputs))\n",
    "        print(len(cos_list),f\"EvoGFuzz found {len(found_exception_inputs)} bug-triggering inputs!\")\n",
    "    except Exception as eee:\n",
    "        print(eee)\n",
    "statistics.mean(cos_list)"
   ]
  },
  {
   "cell_type": "code",
   "execution_count": 11,
   "metadata": {},
   "outputs": [],
   "source": [
    "normal_list = []"
   ]
  },
  {
   "cell_type": "code",
   "execution_count": 12,
   "metadata": {
    "scrolled": true
   },
   "outputs": [
    {
     "name": "stdout",
     "output_type": "stream",
     "text": [
      "1 EvoGFuzz found 0 bug-triggering inputs!\n",
      "2 EvoGFuzz found 105 bug-triggering inputs!\n",
      "3 EvoGFuzz found 267 bug-triggering inputs!\n",
      "4 EvoGFuzz found 357 bug-triggering inputs!\n",
      "5 EvoGFuzz found 98 bug-triggering inputs!\n",
      "6 EvoGFuzz found 0 bug-triggering inputs!\n",
      "7 EvoGFuzz found 303 bug-triggering inputs!\n",
      "8 EvoGFuzz found 145 bug-triggering inputs!\n",
      "9 EvoGFuzz found 149 bug-triggering inputs!\n",
      "10 EvoGFuzz found 325 bug-triggering inputs!\n",
      "11 EvoGFuzz found 0 bug-triggering inputs!\n",
      "12 EvoGFuzz found 272 bug-triggering inputs!\n",
      "13 EvoGFuzz found 216 bug-triggering inputs!\n",
      "14 EvoGFuzz found 197 bug-triggering inputs!\n",
      "15 EvoGFuzz found 0 bug-triggering inputs!\n",
      "16 EvoGFuzz found 385 bug-triggering inputs!\n",
      "17 EvoGFuzz found 0 bug-triggering inputs!\n",
      "18 EvoGFuzz found 75 bug-triggering inputs!\n",
      "19 EvoGFuzz found 508 bug-triggering inputs!\n",
      "20 EvoGFuzz found 173 bug-triggering inputs!\n",
      "21 EvoGFuzz found 277 bug-triggering inputs!\n",
      "22 EvoGFuzz found 333 bug-triggering inputs!\n",
      "23 EvoGFuzz found 327 bug-triggering inputs!\n",
      "24 EvoGFuzz found 99 bug-triggering inputs!\n",
      "25 EvoGFuzz found 226 bug-triggering inputs!\n",
      "26 EvoGFuzz found 0 bug-triggering inputs!\n",
      "27 EvoGFuzz found 148 bug-triggering inputs!\n",
      "28 EvoGFuzz found 225 bug-triggering inputs!\n",
      "29 EvoGFuzz found 0 bug-triggering inputs!\n",
      "30 EvoGFuzz found 418 bug-triggering inputs!\n"
     ]
    },
    {
     "data": {
      "text/plain": [
       "187.6"
      ]
     },
     "execution_count": 12,
     "metadata": {},
     "output_type": "execute_result"
    }
   ],
   "source": [
    "\n",
    "while len(normal_list)!=30:\n",
    "    try:\n",
    "        epp = EvoGFuzz(\n",
    "            grammar=CALCGRAMMAR,\n",
    "            oracle=oracle,\n",
    "            inputs=initial_inputs,\n",
    "            iterations=10,\n",
    "        )\n",
    "        found_exception_inputs = epp.fuzz()\n",
    "        \n",
    "        normal_list.append(len(found_exception_inputs))\n",
    "        print(len(normal_list),f\"EvoGFuzz found {len(found_exception_inputs)} bug-triggering inputs!\")\n",
    "    except Exception as eee:\n",
    "        print(eee)\n",
    "statistics.mean(normal_list)"
   ]
  },
  {
   "cell_type": "code",
   "execution_count": 21,
   "metadata": {},
   "outputs": [
    {
     "data": {
      "text/plain": [
       "[307,\n",
       " 345,\n",
       " 454,\n",
       " 313,\n",
       " 340,\n",
       " 236,\n",
       " 262,\n",
       " 259,\n",
       " 475,\n",
       " 344,\n",
       " 155,\n",
       " 300,\n",
       " 326,\n",
       " 246,\n",
       " 422,\n",
       " 343,\n",
       " 434,\n",
       " 290,\n",
       " 370,\n",
       " 176,\n",
       " 305,\n",
       " 399,\n",
       " 465,\n",
       " 404,\n",
       " 338,\n",
       " 437,\n",
       " 395,\n",
       " 262,\n",
       " 412,\n",
       " 325]"
      ]
     },
     "execution_count": 21,
     "metadata": {},
     "output_type": "execute_result"
    }
   ],
   "source": [
    "levenshtein_list"
   ]
  },
  {
   "cell_type": "code",
   "execution_count": 22,
   "metadata": {},
   "outputs": [
    {
     "data": {
      "text/plain": [
       "[395,\n",
       " 254,\n",
       " 408,\n",
       " 114,\n",
       " 384,\n",
       " 306,\n",
       " 391,\n",
       " 301,\n",
       " 507,\n",
       " 412,\n",
       " 271,\n",
       " 228,\n",
       " 269,\n",
       " 164,\n",
       " 360,\n",
       " 264,\n",
       " 407,\n",
       " 337,\n",
       " 341,\n",
       " 310,\n",
       " 301,\n",
       " 375,\n",
       " 337,\n",
       " 282,\n",
       " 526,\n",
       " 373,\n",
       " 489,\n",
       " 250,\n",
       " 422,\n",
       " 423]"
      ]
     },
     "execution_count": 22,
     "metadata": {},
     "output_type": "execute_result"
    }
   ],
   "source": [
    "jaro_list"
   ]
  },
  {
   "cell_type": "code",
   "execution_count": 23,
   "metadata": {},
   "outputs": [
    {
     "data": {
      "text/plain": [
       "[378,\n",
       " 173,\n",
       " 582,\n",
       " 129,\n",
       " 361,\n",
       " 212,\n",
       " 364,\n",
       " 262,\n",
       " 382,\n",
       " 478,\n",
       " 493,\n",
       " 525,\n",
       " 543,\n",
       " 482,\n",
       " 389,\n",
       " 306,\n",
       " 421,\n",
       " 444,\n",
       " 260,\n",
       " 355,\n",
       " 593,\n",
       " 465,\n",
       " 328,\n",
       " 278,\n",
       " 322,\n",
       " 318,\n",
       " 540,\n",
       " 315,\n",
       " 161,\n",
       " 545]"
      ]
     },
     "execution_count": 23,
     "metadata": {},
     "output_type": "execute_result"
    }
   ],
   "source": [
    "cos_list"
   ]
  },
  {
   "cell_type": "code",
   "execution_count": 24,
   "metadata": {},
   "outputs": [
    {
     "data": {
      "text/plain": [
       "[0,\n",
       " 105,\n",
       " 267,\n",
       " 357,\n",
       " 98,\n",
       " 0,\n",
       " 303,\n",
       " 145,\n",
       " 149,\n",
       " 325,\n",
       " 0,\n",
       " 272,\n",
       " 216,\n",
       " 197,\n",
       " 0,\n",
       " 385,\n",
       " 0,\n",
       " 75,\n",
       " 508,\n",
       " 173,\n",
       " 277,\n",
       " 333,\n",
       " 327,\n",
       " 99,\n",
       " 226,\n",
       " 0,\n",
       " 148,\n",
       " 225,\n",
       " 0,\n",
       " 418]"
      ]
     },
     "execution_count": 24,
     "metadata": {},
     "output_type": "execute_result"
    }
   ],
   "source": [
    "normal_list"
   ]
  },
  {
   "cell_type": "code",
   "execution_count": 25,
   "metadata": {},
   "outputs": [
    {
     "name": "stdout",
     "output_type": "stream",
     "text": [
      "levenshtein_list normal_list True 337.96666666666664 187.6 2.0689690996167472e-05\n",
      "jaro_list normal_list True 340.03333333333336 187.6 2.4101662163432787e-05\n",
      "cos_list normal_list True 380.1333333333333 187.6 3.772970408264496e-06\n",
      "normal_list levenshtein_list False 187.6 337.96666666666664 2.0689690996167472e-05\n",
      "normal_list jaro_list False 187.6 340.03333333333336 2.4101662163432787e-05\n",
      "normal_list cos_list False 187.6 380.1333333333333 3.772970408264496e-06\n"
     ]
    }
   ],
   "source": [
    "from scipy.stats import mannwhitneyu\n",
    "sample_bugcount_list = [levenshtein_list, jaro_list, cos_list, normal_list]\n",
    "names = [\"levenshtein_list\", \"jaro_list\", \"cos_list\", \"normal_list\"]\n",
    "\n",
    "i=0\n",
    "for elem in sample_bugcount_list:\n",
    "    j=0\n",
    "    for elem2 in sample_bugcount_list:\n",
    "        U1, p = mannwhitneyu(elem, elem2, method=\"exact\")\n",
    "        U2 = len(elem)*len(elem2) - U1\n",
    "        #print(names[i],names[j],statistics.mean(elem)>statistics.mean(elem2),statistics.mean(elem),statistics.mean(elem2),p)\n",
    "        if p < 0.05:\n",
    "            print(names[i],names[j],statistics.mean(elem)>statistics.mean(elem2),statistics.mean(elem),statistics.mean(elem2),p)\n",
    "        j+=1\n",
    "    i+=1"
   ]
  },
  {
   "cell_type": "code",
   "execution_count": 26,
   "metadata": {},
   "outputs": [
    {
     "data": {
      "text/plain": [
       "<AxesSubplot: >"
      ]
     },
     "execution_count": 26,
     "metadata": {},
     "output_type": "execute_result"
    },
    {
     "data": {
      "image/png": "[encoded data removed]",
      "text/plain": [
       "<Figure size 640x480 with 1 Axes>"
      ]
     },
     "metadata": {},
     "output_type": "display_data"
    }
   ],
   "source": [
    "import seaborn as sns\n",
    "import pandas as pd\n",
    "sns.boxplot(data =  pd.DataFrame([normal_list, jaro_list, levenshtein_list, cos_list, ],\n",
    "              index =[\"original\", \"jaro\",\"levenshtein\", \"feature_cos\", ]).T, )"
   ]
  },
  {
   "cell_type": "code",
   "execution_count": null,
   "metadata": {},
   "outputs": [],
   "source": [
    "\n",
    "              "
   ]
  },
  {
   "cell_type": "code",
   "execution_count": null,
   "metadata": {},
   "outputs": [],
   "source": []
  }
 ],
 "metadata": {
  "kernelspec": {
   "display_name": "Python 3 (ipykernel)",
   "language": "python",
   "name": "python3"
  },
  "language_info": {
   "codemirror_mode": {
    "name": "ipython",
    "version": 3
   },
   "file_extension": ".py",
   "mimetype": "text/x-python",
   "name": "python",
   "nbconvert_exporter": "python",
   "pygments_lexer": "ipython3",
   "version": "3.10.4"
  }
 },
 "nbformat": 4,
 "nbformat_minor": 1
}
